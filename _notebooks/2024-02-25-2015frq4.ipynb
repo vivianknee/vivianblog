{
 "cells": [
  {
   "cell_type": "markdown",
   "metadata": {},
   "source": [
    "---\n",
    "- toc: true\n",
    "- title: 2015 FRQ 4\n",
    "- categories: [Java]\n",
    "- tags: [java]\n",
    "- type: hacks\n",
    "- week: 22\n",
    "- date: 2024-2-25 12:00:00 +0000\n",
    "---"
   ]
  },
  {
   "cell_type": "markdown",
   "metadata": {},
   "source": [
    "4. This question involves the design of an interface, writing a class that implements the interface, and writing a method that uses the interface.\n",
    "\n",
    "\n",
    "(a) Write an interface named NumberGroup that represents a group of integers. The interface should have a single contains method that determines if a given integer is in the group. For example, if group1 is of type NumberGroup, and it contains only the two numbers -5 and 3, then group1.contains(-5) would return true, and group1.contains(2) would return false. Write the complete NumberGroup interface. It must have exactly one method"
   ]
  },
  {
   "cell_type": "code",
   "execution_count": null,
   "metadata": {
    "vscode": {
     "languageId": "java"
    }
   },
   "outputs": [],
   "source": [
    "//The interface keyword is used to declare a special type of class that only contains abstract methods.\n",
    "public interface NumberGroup {\n",
    "    boolean contains(int num);\n",
    "}"
   ]
  },
  {
   "cell_type": "markdown",
   "metadata": {},
   "source": [
    "(b)Write the Range class, which is a NumberGroup. The Range class represents the group of int values that range from a given minimum value up through a given maximum value, inclusive. Include all necessary instance variables and methods as well as a constructor that takes two int parameters. The first parameter represents the minimum value, and the second parameter represents the maximum value of the range. You may assume that the minimum is less than or equal to the maximum."
   ]
  },
  {
   "cell_type": "code",
   "execution_count": null,
   "metadata": {
    "vscode": {
     "languageId": "java"
    }
   },
   "outputs": [],
   "source": [
    "//have never seen \"implements\" before. To access the interface methods, the interface must be \"implemented\" (kinda like inherited) by another class with the implements keyword (instead of extends).\n",
    "\n",
    "public class Range implements NumberGroup {\n",
    "    //private instances\n",
    "    private int min;\n",
    "    private int max;\n",
    "\n",
    "    //constructor\n",
    "    public Range(int min, int max){\n",
    "        this.min=min;\n",
    "        this.max=max;\n",
    "    } \n",
    "\n",
    "    //had to add this part after checking the solution. I guess I didn't see how i needed it from the question alone??\n",
    "    public boolean contains(int num){\n",
    "        return num >= min && num <= max;\n",
    "    } \n",
    "}"
   ]
  },
  {
   "cell_type": "markdown",
   "metadata": {},
   "source": [
    "(c)Write the MultipleGroups method contains. The method takes an integer and returns true if and only if the integer is contained in one or more of the number groups in groupList."
   ]
  },
  {
   "cell_type": "code",
   "execution_count": 92,
   "metadata": {
    "vscode": {
     "languageId": "java"
    }
   },
   "outputs": [],
   "source": [
    "public boolean contains(int num){\n",
    "    //for each loop \n",
    "    for (NumberGroup group : groupList){\n",
    "        if (group.contains(num)){\n",
    "            return true;\n",
    "        }\n",
    "    }\n",
    "    return false;\n",
    "}"
   ]
  }
 ],
 "metadata": {
  "kernelspec": {
   "display_name": "Java",
   "language": "java",
   "name": "java"
  },
  "language_info": {
   "codemirror_mode": "java",
   "file_extension": ".jshell",
   "mimetype": "text/x-java-source",
   "name": "Java",
   "pygments_lexer": "java",
   "version": "20.0.2+9-78"
  }
 },
 "nbformat": 4,
 "nbformat_minor": 2
}
