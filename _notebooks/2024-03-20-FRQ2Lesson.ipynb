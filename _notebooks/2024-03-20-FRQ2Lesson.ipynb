{
 "cells": [
  {
   "cell_type": "markdown",
   "metadata": {},
   "source": [
    "---\n",
    "- title: FRQ 2 - Writing Classes\n",
    "- description: Focus on 2021 FRQ. classes tips and tricks\n",
    "- toc: true\n",
    "- type: hacks\n",
    "- week: 25\n",
    "- date: 2024-3-20 12:00:00 +0000\n",
    "---"
   ]
  },
  {
   "cell_type": "markdown",
   "metadata": {},
   "source": [
    "# What to Know\n",
    "\n",
    "for more info on classes go here: [csawesome_resource](https://runestone.academy/ns/books/published/csawesome/Unit5-Writing-Classes/topic-5-1-parts-of-class.html)\n",
    "\n",
    "- Missing public qualifier on class or constructor header will not incur a penalty.\n",
    "\n",
    "- classes are the blueprints for making objects. When you create objects, you create new instances of that class and what you can do with those instances is determined by what methods are defined in the class.\n",
    "\n",
    "- for the ap test just use your classes to store your methods if they ask you to write classes.\n",
    "\n",
    "- Realistically the only things you need to worry about is remembering to make instance variables and constructors if they ask to write one and to actually put everything within the class."
   ]
  },
  {
   "cell_type": "code",
   "execution_count": null,
   "metadata": {
    "vscode": {
     "languageId": "java"
    }
   },
   "outputs": [],
   "source": [
    "public class Example \n",
    "{\n",
    "    // instance variables\n",
    "    private String var1;\n",
    "    private int var2;\n",
    "\n",
    "    // Constructor\n",
    "    public Example(String initVar1, int initVar2)\n",
    "    {\n",
    "        var1 = initVar1;\n",
    "        var2 = initVar2;\n",
    "    }\n",
    "\n",
    "    // Method to print instance variable values, again NOT \n",
    "    public void print()\n",
    "    {\n",
    "        System.out.println(\"Var1: \" + var1);\n",
    "        System.out.println(\"Var2: \" + var2);\n",
    "    }\n",
    "\n",
    "    // Main method for testing, NOT NEEDED FOR TEST USUALLY\n",
    "    public static void main(String[] args)\n",
    "    {\n",
    "        // Creating instances of Example class\n",
    "        Example e1 = new Example(\"Value1\", 10);\n",
    "        Example e2 = new Example(\"Value2\", 20);\n",
    "\n",
    "        // Calling print method for each instance\n",
    "        e1.print();\n",
    "        e2.print();\n",
    "    }\n",
    "}"
   ]
  },
  {
   "cell_type": "markdown",
   "metadata": {},
   "source": [
    "## Example Time"
   ]
  },
  {
   "cell_type": "markdown",
   "metadata": {},
   "source": [
    "The CB question usually provides you with setters and getters but no additional parameters or a constructor. Here is what the given class for SingleTable looks like when all the methods are written. "
   ]
  },
  {
   "cell_type": "code",
   "execution_count": 2,
   "metadata": {
    "vscode": {
     "languageId": "java"
    }
   },
   "outputs": [],
   "source": [
    "public class SingleTable {\n",
    "    \n",
    "    int seats;\n",
    "    int height;\n",
    "    double viewQuality;\n",
    "\n",
    "    public SingleTable(int seats, int height, double viewQuality) {\n",
    "        this.seats = seats;\n",
    "        this.height = height;\n",
    "        this.viewQuality = viewQuality;\n",
    "    }\n",
    "\n",
    "    //returns number of seats at this table. value is always greater than or equal to 4\n",
    "    public int getNumSeats() {\n",
    "        return this.seats;\n",
    "    }\n",
    "\n",
    "    //returns the height of table in cm\n",
    "    public int getHeight() {\n",
    "        return this.height;\n",
    "    }\n",
    "\n",
    "    //returns the quality of the view from this table\n",
    "    public double getViewQuality() {\n",
    "        return this.viewQuality;\n",
    "    }\n",
    "\n",
    "    //sets the quality of the view from this table to [value]\n",
    "    public void setViewQuality(double newQuality) {\n",
    "        this.viewQuality = newQuality;\n",
    "    }\n",
    "\n",
    "    public static void main(String[] args) {\n",
    "        //single table values that were given in the question!\n",
    "        SingleTable t1 = new SingleTable(4, 74, 60.0);\n",
    "        SingleTable t2 = new SingleTable(8, 74, 70.0);\n",
    "        SingleTable t3 = new SingleTable(12, 76, 75.0);\n",
    "    }\n",
    "\n",
    "}"
   ]
  },
  {
   "cell_type": "markdown",
   "metadata": {},
   "source": [
    "This question asks that you write a new class called CombinedTable which uses the methods of the SingleTable class to determine the \"desirability\" of the combined tables."
   ]
  },
  {
   "cell_type": "markdown",
   "metadata": {},
   "source": [
    "Here are the requirements for the class:\n",
    "- A CombinedTable can seat a number of customers that is two fewer than the total number of seats in its two SingleTable objects (to account for seats lost when the tables are pushed together).\n",
    "\n",
    "- A CombinedTable has a desirability that depends on the views and heights of the two single tables. If the two single tables of a CombinedTable object are the same height, the desirability of the CombinedTable object is the average of the view qualities of the two single tables.\n",
    "\n",
    "- If the two single tables of a CombinedTable object are not the same height, the desirability of the CombinedTable object is 10 units less than the average of the view qualities of the two single tables."
   ]
  },
  {
   "cell_type": "markdown",
   "metadata": {},
   "source": [
    "## Tip\n",
    "The first thing you want to do is make the instructions simpler. Right now its a huge chunk of paragraph that may hurt your head long term. So after doing a skim quickly write down what the objectives of this class are. Here is what I've gathered:\n",
    "- when combining two single tables, subtract two seats to get combined table seat count\n",
    "- if the height of combined table is level, desirability is the avg of the single tables\n",
    "- if the height of combined table isn't level, desirability is the avg of the single tables - 10"
   ]
  },
  {
   "cell_type": "markdown",
   "metadata": {},
   "source": [
    "Looking to the net chunk of info CB gives, they literally hand over what methods you need to make\n",
    "![frq2lesson](/assets/img/frq2lesson.png)"
   ]
  },
  {
   "cell_type": "code",
   "execution_count": 3,
   "metadata": {
    "vscode": {
     "languageId": "java"
    }
   },
   "outputs": [],
   "source": [
    "public class CombinedTable {\n",
    "\n",
    "    private SingleTable table1;\n",
    "    private SingleTable table2;\n",
    "\n",
    "    //constructor\n",
    "    //uses t1 and t2 from SingleTable class\n",
    "    public CombinedTable(SingleTable t1, SingleTable t2) {\n",
    "        table1 = t1;\n",
    "        table2 = t2;\n",
    "    }\n",
    "\n",
    "    public boolean canSeat(int n) {\n",
    "\n",
    "        int cap = table1.getNumSeats() + table2.getNumSeats() - 2;\n",
    "\n",
    "        if (n <= cap) {\n",
    "            return true;\n",
    "        }\n",
    "        else {\n",
    "            return false;\n",
    "        }\n",
    "    }\n",
    "\n",
    "    public double getDesirability(int height, double quality){\n",
    "        double desirability;\n",
    "        if (table1.getHeight() == table2.getHeight()) {\n",
    "            desirability = (table1.getViewQuality() + table2.getViewQuality()) / 2;\n",
    "        }\n",
    "        else {\n",
    "            desirability = ((table1.getViewQuality() + table2.getViewQuality()) / 2) - 10;\n",
    "        } \n",
    "        return desirability; \n",
    "    }\n",
    "    \n",
    "}"
   ]
  },
  {
   "cell_type": "markdown",
   "metadata": {},
   "source": [
    "## Conclusion\n",
    "1. class header (1 point)\n",
    "2. (private) instance variables (1 point)\n",
    "3. Constructor (1 point)\n",
    "4. Methods (1+ point)"
   ]
  }
 ],
 "metadata": {
  "kernelspec": {
   "display_name": "Java",
   "language": "java",
   "name": "java"
  },
  "language_info": {
   "codemirror_mode": "java",
   "file_extension": ".jshell",
   "mimetype": "text/x-java-source",
   "name": "Java",
   "pygments_lexer": "java",
   "version": "20.0.2+9-78"
  }
 },
 "nbformat": 4,
 "nbformat_minor": 2
}
