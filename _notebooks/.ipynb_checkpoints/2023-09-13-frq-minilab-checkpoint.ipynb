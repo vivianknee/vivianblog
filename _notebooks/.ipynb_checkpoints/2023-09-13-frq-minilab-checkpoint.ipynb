{
 "cells": [
  {
   "cell_type": "markdown",
   "metadata": {},
   "source": [
    "---\n",
    "- title: FRQ Mini-Lab 1\n",
    "- author: david\n",
    "- categories: [Lab Notebook]\n",
    "- tags: [Java, Collegeboard]\n",
    "- type: tangibles\n",
    "- week: 4 \n",
    "- description: First CSA FRQ.\n",
    "- toc: true\n",
    "- comments: true\n",
    "- date: 2023-09-13 13:00:00 +0000\n",
    "- pin: true\n",
    "---"
   ]
  },
  {
   "cell_type": "markdown",
   "metadata": {},
   "source": [
    "# FRQ 2018 Number 4\n",
    "\n",
    "This question involves reasoning about arrays of integers. You will write two static methods, both of which are\n",
    "a class named `ArrayTester`."
   ]
  },
  {
   "cell_type": "code",
   "execution_count": null,
   "metadata": {},
   "outputs": [],
   "source": [
    "public class ArrayTester {\n",
    "\n",
    "    // Returns an array containing the elements of column c of arr2D in the same order as they appearin arr2D.\n",
    "    // Precondition: c isa valid column index in arr2D.\n",
    "    // Postcondition: arr2D is unchanged.\n",
    "\n",
    "  public static int[] getColumn(int [] [] arr2D, int c) {\n",
    "    // to be implemented in part (a)\n",
    "  }\n",
    "\n",
    "  // Returns true if and only if every value in arrl appears in arr2.\n",
    "  // Precondition: arr1 and arr2 have the same length.\n",
    "  // Postcondition: arrl and arr2 are unchanged.\n",
    "\n",
    "  public static boolean hasAllVa1ues(int[] arrl, int[] arr2) { \n",
    "    // implementation not shown\n",
    "  }\n",
    "\n",
    "  // Returns true if arr contains any duplicate values;\n",
    "  //         false otherwise.\n",
    "\n",
    "  public static boolean containsDup1icates(int [] arr) {\n",
    "    // implementation not shown\n",
    "  }\n",
    "\n",
    "  // Returns true if square is a Latin square as described in part (b);\n",
    "  //         false otherwise.\n",
    "  // Precondition: square has an equal number of rows and columns.\n",
    "  //               square has at least one row.\n",
    "\n",
    "  public static boolean isLatin(int [] [] square){\n",
    "    // to be implemented in part (b)\n",
    "  }\n",
    "}"
   ]
  },
  {
   "cell_type": "markdown",
   "metadata": {},
   "source": [
    "## Part A"
   ]
  },
  {
   "cell_type": "markdown",
   "metadata": {},
   "source": [
    "Write a static method `getColumn`, which returns a one-dimensional array containing the elements of a\n",
    "single column in a two-dimensional array. The elements in the returned array should be in the same order as\n",
    "they appear in the given column. The notation `arr2D [r] [c]` represents the array element at row `r` and\n",
    "column `c`.\n",
    "\n",
    "The following code segment initializes an array and calls the `getColumn` method."
   ]
  },
  {
   "cell_type": "code",
   "execution_count": null,
   "metadata": {},
   "outputs": [],
   "source": [
    "int [] [] arr2D = { { 0, 1, 2 },\n",
    "                    { 3, 4, 5 },\n",
    "                    { 6, 7, 8 },\n",
    "                    { 9, 5, 3 } };\n",
    "\n",
    "int [] result = ArrayTester.getColumn(arr2D, 1);"
   ]
  },
  {
   "cell_type": "markdown",
   "metadata": {},
   "source": [
    "When the code segment has completed execution, the variable `result` will have the following contents.\n",
    "\n",
    "`result: { 1, 4, 7, 5 }`"
   ]
  },
  {
   "cell_type": "markdown",
   "metadata": {},
   "source": [
    "### Answer for Part A"
   ]
  },
  {
   "cell_type": "code",
   "execution_count": 62,
   "metadata": {},
   "outputs": [
    {
     "name": "stdout",
     "output_type": "stream",
     "text": [
      "1\n",
      "4\n",
      "7\n",
      "5\n"
     ]
    }
   ],
   "source": [
    "public class ArrayTester {\n",
    "  static int[][] arr2D = { { 0, 1, 2 },\n",
    "                          { 3, 4, 5 },\n",
    "                          { 6, 7, 8 },\n",
    "                          { 9, 5, 3 } };\n",
    "\n",
    "  public static int[] getColumn(int[][] arr2D, int c) {\n",
    "    // creates var that stores result, and is the length of overall array (length = number of rows)\n",
    "    int[] result = new int[arr2D.length];\n",
    "\n",
    "    // sets index to 0\n",
    "    // when i < number of rows\n",
    "    // adds 1 to i after each iteration\n",
    "    for (int i = 0; i < arr2D.length; i++) {\n",
    "      // gathers data from the row number it is on, from the addressed column\n",
    "      // stores in the var result\n",
    "      result[i] = arr2D[i][c];\n",
    "    }\n",
    "    // returns values of results\n",
    "    return result;\n",
    "  }\n",
    "\n",
    "\n",
    "  public static void main(String[] args) {\n",
    "    // same as:\n",
    "    // int [] result = ArrayTester.getColumn(arr2D, 1);\n",
    "    int[] column = getColumn(arr2D, 1);\n",
    "\n",
    "    // go through result and print\n",
    "    for (int value : column) {\n",
    "      // print result\n",
    "      System.out.println(value);\n",
    "    }\n",
    "  }\n",
    "}\n",
    "\n",
    "ArrayTester.main(null);"
   ]
  },
  {
   "cell_type": "markdown",
   "metadata": {},
   "source": [
    "### Explanation for Answer\n",
    "\n",
    "Coming with this answer, I decided to being by storing the variable as an integer that was defined as the length of the number of rows in the array `arr2D`. This would allows my to later iterate through the array to more easily extract the values that I wanted/needed."
   ]
  },
  {
   "cell_type": "code",
   "execution_count": null,
   "metadata": {},
   "outputs": [],
   "source": [
    "int[] result = new int[arr2D.length];"
   ]
  },
  {
   "cell_type": "markdown",
   "metadata": {},
   "source": [
    "I then created a for loop which would iterate through the rows of `arr2D` gathering the value from the column that was called in the `main()` method. The iteration follows a simple yet effective integer counting approach which would set `i = 0` and go through the number of rows `arr2D.length` while `i` was less than the total number of rows in `arr2D`. The result would then be stored based on the value that was pulled from the column number that was called and the row number that the value was in, column being defined as `c` and the row number being defined as `i`."
   ]
  },
  {
   "cell_type": "code",
   "execution_count": null,
   "metadata": {},
   "outputs": [],
   "source": [
    "for (int i = 0; i < arr2D.length; i++) {\n",
    "      result[i] = arr2D[i][c];\n",
    "    }"
   ]
  },
  {
   "cell_type": "markdown",
   "metadata": {},
   "source": [
    "The result would then be returned with a simple return statement."
   ]
  },
  {
   "cell_type": "code",
   "execution_count": null,
   "metadata": {},
   "outputs": [],
   "source": [
    "return result;"
   ]
  },
  {
   "cell_type": "markdown",
   "metadata": {},
   "source": [
    "In order to make the code work in Jupyter I had to add a `main()` method in order to call the method `GetColumn()` and return the `result`. I used a simple for loop to iterate through all of the values that were stored in the array `column` and print them as a result."
   ]
  },
  {
   "cell_type": "code",
   "execution_count": null,
   "metadata": {},
   "outputs": [],
   "source": [
    "public static void main(String[] args) {\n",
    "  int[] column = getColumn(arr2D, 1);\n",
    "\n",
    "  for (int value : column) {\n",
    "    System.out.println(value);\n",
    "  }\n",
    "}"
   ]
  },
  {
   "cell_type": "markdown",
   "metadata": {},
   "source": [
    "## Part B\n",
    "\n",
    "Write the static method `isLatin`, which returns true if a given two-dimensional square array is a\n",
    "*Latin square*, and otherwise, returns `false`.\n",
    "\n",
    "A two-dimensional square array of integers is a Latin square if the following conditions are true.\n",
    "\n",
    "- The first row has no duplicate values.\n",
    "- All values in the first row of the square appear in each row of the square.\n",
    "- All values in the first row of the square appear in each column of the square.\n",
    "\n",
    "The `ArrayTester` class provides two helper methods: `containsDuplicates` and\n",
    "`hasA11Values`. The method `containsDuplicates` returns true if the given one-dimensional\n",
    "array `arr` contains any duplicate values and false otherwise. The method `hasAllVa1ues` returns\n",
    "`true` if and only if every value in `arrl` appears in `arr2`. You do not need to write the code for these\n",
    "methods."
   ]
  },
  {
   "cell_type": "markdown",
   "metadata": {},
   "source": [
    "### Answer for Part B"
   ]
  },
  {
   "cell_type": "code",
   "execution_count": 11,
   "metadata": {},
   "outputs": [
    {
     "name": "stdout",
     "output_type": "stream",
     "text": [
      "false\n"
     ]
    }
   ],
   "source": [
    "public class ArrayTester {\n",
    "  static int[][] arr2D = { { 0, 1, 2 },\n",
    "                          { 3, 4, 5 },\n",
    "                          { 6, 7, 8 },\n",
    "                          { 9, 5, 3 } };\n",
    "\n",
    "  public static int[] getColumn(int[][] arr2D, int c) {\n",
    "    int[] result = new int[arr2D.length];\n",
    "\n",
    "    for (int i = 0; i < arr2D.length; i++) {\n",
    "      result[i] = arr2D[i][c];\n",
    "    }\n",
    "    return result;\n",
    "  }\n",
    "\n",
    "  public static boolean hasAllValues(int[] arr1, int[] arr2) {\n",
    "    // loop checking for values in array 1\n",
    "    for (int i = 0; i < arr1.length; i++) {\n",
    "      // setting boolean for if a same is found\n",
    "      boolean found = false;\n",
    "      // setting a second loop checking values in the second array\n",
    "      for (int j = 0; j < arr2.length; j++) {\n",
    "        // comparing values between first and second array\n",
    "        if (arr1[i] == arr2[j]) {\n",
    "          // if same value is found, set var to true\n",
    "          found = true;\n",
    "          // if the values are the same, go back and check for next value\n",
    "          break;\n",
    "        }\n",
    "      }\n",
    "      // if all the values aren't the same\n",
    "      if (!found) {\n",
    "        // return false, not all the values are the same\n",
    "        return false;\n",
    "      }\n",
    "    }\n",
    "    // all values match up\n",
    "    return true;\n",
    "  }\n",
    "\n",
    "  public static boolean containsDuplicates(int[] arr) {\n",
    "  // loop to check every value in the array\n",
    "  for (int i = 0; i < arr.length - 1; i++) {\n",
    "    // second loop checking all value in the array\n",
    "    for (int j = i + 1; j < arr.length; j++) {\n",
    "      // checking to see if there are duplicates in the same array\n",
    "      if (arr[i] == arr[j]) {\n",
    "        // this means that a duplicate is found\n",
    "        return true;\n",
    "      }\n",
    "    }\n",
    "  }\n",
    "  // no duplicates are found in the array\n",
    "  return false;\n",
    "}\n",
    "\n",
    "  public static boolean isLatin(int[][] square){\n",
    "    // checks for duplicate numbers\n",
    "    if (containsDuplicates(square[0])) {\n",
    "      return false;\n",
    "    }\n",
    "\n",
    "    // checks for if all rows have all values\n",
    "    for (int i = 1; i < square.length; i++) {\n",
    "      if (!hasAllValues(square[0], square[i])) {\n",
    "        return false;\n",
    "      }\n",
    "    }\n",
    "\n",
    "    // checks for if all columns have all values\n",
    "    for (int c = 0; c < square[0].length; c++) {\n",
    "      if (!hasAllValues(square[0], getColumn(square, c))) {\n",
    "        return false;\n",
    "      }\n",
    "    }\n",
    "\n",
    "    // returns true if all tests are complete and don't return false\n",
    "    return true;\n",
    "  }\n",
    "\n",
    "  // prints boolean\n",
    "  public static void main(String[] args) {\n",
    "    boolean result = isLatin(arr2D);\n",
    "    System.out.println(result);\n",
    "  }\n",
    "}\n",
    "\n",
    "ArrayTester.main(null);"
   ]
  },
  {
   "cell_type": "markdown",
   "metadata": {},
   "source": [
    "### Explanation for Answer\n",
    "\n",
    "In this answer, I began with the same `getColumn()` method as before. I then added on the the two methods that were not required to be created for the Collegeboard FRQ but were required for operation of the program, `hassAllValues()` and `containsDuplicates()`. \n",
    "\n",
    "For the first method, `hasAllValues()`, I simply created a comparer that takes two arrays and compared the values within them using a for loop. This is similar to the loop in the `getColumn()` method but it just has different variables. The first loop goes through all values in the first array, one by one comparing them to all the other values in the second array with the if statement. A boolean is set to true or false depending on if matching values are found or not. This is done for every value in the first array."
   ]
  },
  {
   "cell_type": "code",
   "execution_count": null,
   "metadata": {},
   "outputs": [],
   "source": [
    "public static boolean hasAllValues(int[] arr1, int[] arr2) {\n",
    "  // loop checking for values in array 1\n",
    "  for (int i = 0; i < arr1.length; i++) {\n",
    "    // setting boolean for if a same is found\n",
    "    boolean found = false;\n",
    "    // setting a second loop checking values in the second array\n",
    "    for (int j = 0; j < arr2.length; j++) {\n",
    "      // comparing values between first and second array\n",
    "      if (arr1[i] == arr2[j]) {\n",
    "        // if same value is found, set var to true\n",
    "        found = true;\n",
    "        // if the values are the same, go back and check for next value\n",
    "        break;\n",
    "      }\n",
    "    }\n",
    "    // if all the values aren't the same\n",
    "    if (!found) {\n",
    "      // return false, not all the values are the same\n",
    "      return false;\n",
    "    }\n",
    "  }\n",
    "  // all values match up\n",
    "  return true;\n",
    "}"
   ]
  },
  {
   "cell_type": "markdown",
   "metadata": {},
   "source": [
    "For the second method, `containsDuplicate()`, I created two loops once again similar to the loops in `getColumn()`, this time checking to see if there are duplicate values in the other arrays. There is a situation where there could be a duplicate value found because it checks itself but to avoid that, we set the second loop value to always be the next value in the array, not the same, with `in j = i + 1`. In summary, we check to see if the value chosen is the same as all other values in the array, and if it isn't, then we return a boolean that states there are no duplicate values in the array."
   ]
  },
  {
   "cell_type": "code",
   "execution_count": null,
   "metadata": {},
   "outputs": [],
   "source": [
    "public static boolean containsDuplicates(int[] arr) {\n",
    "  // loop to check every value in the array\n",
    "  for (int i = 0; i < arr.length - 1; i++) {\n",
    "    // second loop checking all value in the array\n",
    "    for (int j = i + 1; j < arr.length; j++) {\n",
    "      // checking to see if there are duplicates in the same array\n",
    "      if (arr[i] == arr[j]) {\n",
    "        // this means that a duplicate is found\n",
    "        return true;\n",
    "      }\n",
    "    }\n",
    "  }\n",
    "  // no duplicates are found in the array\n",
    "  return false;\n",
    "}"
   ]
  },
  {
   "cell_type": "markdown",
   "metadata": {},
   "source": [
    "The assigned method we are supposed to create is `isLatin()`. This checks if the 2D array is a Latin square. This means that all of the number in the square have to be the same, but there can't be repeating squares in the same rows or columns, like this:"
   ]
  },
  {
   "cell_type": "markdown",
   "metadata": {},
   "source": [
    "```\n",
    "[1,2,3]\n",
    "[2,3,1]\n",
    "[3,1,2]\n",
    "```"
   ]
  },
  {
   "cell_type": "markdown",
   "metadata": {},
   "source": [
    "In order to do this, we set the array to be `square`. This allows us to go through each array in the 2D array and check the necessary qualities. We need to check three points for the square to be Latin: are there duplicate numbers in the arrays, do all arrays contain all values, and do all columns contain all values. First, we check if there are duplicates with `containsDuplicates()`. If there are duplicates then the statement will return a false statement and the array is a Latin square. Next, we check if all arrays have all values. We first do this for each row, having a loop that goes through the entire 2D array, checking if each row has the same or different values. We then do it for each column, this time using the `getColumn()` method to check and see as well. If there are none of the same values in each row and each column of the 2D array, then we pass all three tests and return a `true` boolean."
   ]
  },
  {
   "cell_type": "code",
   "execution_count": null,
   "metadata": {},
   "outputs": [],
   "source": [
    "public static boolean isLatin(int[][] square){\n",
    "    // checks for duplicate numbers\n",
    "    if (containsDuplicates(square[0])) {\n",
    "      return false;\n",
    "    }\n",
    "\n",
    "    // checks for if all rows have all values\n",
    "    for (int i = 1; i < square.length; i++) {\n",
    "      if (!hasAllValues(square[0], square[i])) {\n",
    "        return false;\n",
    "      }\n",
    "    }\n",
    "\n",
    "    // checks for if all columns have all values\n",
    "    for (int c = 0; c < square[0].length; c++) {\n",
    "      if (!hasAllValues(square[0], getColumn(square, c))) {\n",
    "        return false;\n",
    "      }\n",
    "    }\n",
    "\n",
    "    // returns true if all tests are complete and don't return false\n",
    "    return true;\n",
    "  }"
   ]
  },
  {
   "cell_type": "markdown",
   "metadata": {},
   "source": [
    "To actually run the code, we need a `main()` method, which in this case prints the boolean result from the method `isLatin()`."
   ]
  },
  {
   "cell_type": "code",
   "execution_count": null,
   "metadata": {},
   "outputs": [],
   "source": [
    "public static void main(String[] args) {\n",
    "    boolean result = isLatin(arr2D);\n",
    "    System.out.println(result);\n",
    "  }"
   ]
  },
  {
   "cell_type": "markdown",
   "metadata": {},
   "source": [
    "For this specific array, we can test and see which condition isn't met with strings. Here is a working example below:"
   ]
  },
  {
   "cell_type": "code",
   "execution_count": 10,
   "metadata": {},
   "outputs": [
    {
     "name": "stdout",
     "output_type": "stream",
     "text": [
      "doesn't contain all values in each array\n"
     ]
    }
   ],
   "source": [
    "public class ArrayTester {\n",
    "  static int[][] arr2D = { { 0, 1, 2 },\n",
    "                          { 3, 4, 5 },\n",
    "                          { 6, 7, 8 },\n",
    "                          { 9, 5, 3 } };\n",
    "\n",
    "  public static int[] getColumn(int[][] arr2D, int c) {\n",
    "    int[] result = new int[arr2D.length];\n",
    "\n",
    "    for (int i = 0; i < arr2D.length; i++) {\n",
    "      result[i] = arr2D[i][c];\n",
    "    }\n",
    "    return result;\n",
    "  }\n",
    "\n",
    "  public static boolean hasAllValues(int[] arr1, int[] arr2) {\n",
    "    for (int i = 0; i < arr1.length; i++) {\n",
    "      boolean found = false;\n",
    "      for (int j = 0; j < arr2.length; j++) {\n",
    "        if (arr1[i] == arr2[j]) {\n",
    "          found = true;\n",
    "          break;\n",
    "        }\n",
    "      }\n",
    "      if (!found) {\n",
    "        return false;\n",
    "      }\n",
    "    }\n",
    "    return true;\n",
    "  }\n",
    "\n",
    "  public static boolean containsDuplicates(int[] arr) {\n",
    "    for (int i = 0; i < arr.length; i++) {\n",
    "      for (int j = i + 1; j < arr.length; j++) {\n",
    "        if (arr[i] == arr[j]) {\n",
    "          return true;\n",
    "        }\n",
    "      }\n",
    "    }\n",
    "    return false;\n",
    "  }\n",
    "\n",
    "  public static String isLatin(int[][] square){\n",
    "    if (containsDuplicates(square[0])) {\n",
    "      return \"doesn't contain all values in each array\";\n",
    "    }\n",
    "\n",
    "    for (int i = 1; i < square.length; i++) {\n",
    "      if (!hasAllValues(square[0], square[i])) {\n",
    "        return \"has a duplicate value in the same row\";\n",
    "      }\n",
    "    }\n",
    "\n",
    "    for (int c = 0; c < square[0].length; c++) {\n",
    "      if (!hasAllValues(square[0], getColumn(square, c))) {\n",
    "        return \"has a duplicate value in the same column\";\n",
    "      }\n",
    "    }\n",
    "\n",
    "    return \"This is a Latin square\";\n",
    "  }\n",
    "\n",
    "  public static void main(String[] args) {\n",
    "    String result = isLatin(arr2D);\n",
    "    System.out.println(result);\n",
    "  }\n",
    "}\n",
    "\n",
    "ArrayTester.main(null);"
   ]
  },
  {
   "cell_type": "markdown",
   "metadata": {},
   "source": [
    "## Correct Latin Square\n",
    "\n",
    "We can start by checking the Latin square: "
   ]
  },
  {
   "cell_type": "markdown",
   "metadata": {},
   "source": [
    "```\n",
    "{ 0, 1, 2 }\n",
    "{ 1, 2, 0 }\n",
    "{ 2, 0, 1 }\n",
    "```"
   ]
  },
  {
   "cell_type": "markdown",
   "metadata": {},
   "source": [
    "This is a Latin square because all rows and columns have the same numbers, and not row or column has the same repeating number. Overall, this will tell us if the code is working properly or not."
   ]
  },
  {
   "cell_type": "code",
   "execution_count": 17,
   "metadata": {},
   "outputs": [
    {
     "name": "stdout",
     "output_type": "stream",
     "text": [
      "This is a Latin square\n"
     ]
    }
   ],
   "source": [
    "public class ArrayTester {\n",
    "  static int[][] arr2D = { { 0, 1, 2 },\n",
    "                          { 1, 2, 0 },\n",
    "                          { 2, 0, 1 } };\n",
    "\n",
    "  public static int[] getColumn(int[][] arr2D, int c) {\n",
    "    int[] result = new int[arr2D.length];\n",
    "\n",
    "    for (int i = 0; i < arr2D.length; i++) {\n",
    "      result[i] = arr2D[i][c];\n",
    "    }\n",
    "    return result;\n",
    "  }\n",
    "\n",
    "  public static boolean containsDuplicates(int[] arr) {\n",
    "    for (int i = 0; i < arr.length; i++) {\n",
    "      for (int j = i + 1; j < arr.length; j++) {\n",
    "        if (arr[i] == arr[j]) {\n",
    "          return true;\n",
    "        }\n",
    "      }\n",
    "    }\n",
    "    return false;\n",
    "  }\n",
    "\n",
    "  public static boolean hasAllValues(int[] arr1, int[] arr2) {\n",
    "    for (int i = 0; i < arr1.length; i++) {\n",
    "      boolean found = false;\n",
    "      for (int j = 0; j < arr2.length; j++) {\n",
    "        if (arr1[i] == arr2[j]) {\n",
    "          found = true;\n",
    "          break;\n",
    "        }\n",
    "      }\n",
    "      if (!found) {\n",
    "        return false;\n",
    "      }\n",
    "    }\n",
    "    return true;\n",
    "  }\n",
    "\n",
    "  public static String isLatin(int[][] square){\n",
    "    if (containsDuplicates(square[0])) {\n",
    "      return \"doesn't contain all values in each array\";\n",
    "    }\n",
    "\n",
    "    for (int i = 1; i < square.length; i++) {\n",
    "      if (!hasAllValues(square[0], square[i])) {\n",
    "        return \"has a duplicate value in the same row\";\n",
    "      }\n",
    "    }\n",
    "\n",
    "    for (int c = 0; c < square[0].length; c++) {\n",
    "      if (!hasAllValues(square[0], getColumn(square, c))) {\n",
    "        return \"has a duplicate value in the same column\";\n",
    "      }\n",
    "    }\n",
    "\n",
    "    return \"This is a Latin square\";\n",
    "  }\n",
    "\n",
    "  public static void main(String[] args) {\n",
    "    String result = isLatin(arr2D);\n",
    "    System.out.println(result);\n",
    "  }\n",
    "}\n",
    "\n",
    "ArrayTester.main(null);"
   ]
  },
  {
   "cell_type": "markdown",
   "metadata": {},
   "source": [
    "### Failure Points\n",
    "\n",
    "We can also test different fail cases where a square does not fulfill the parameters to be considered a Latin square.\n",
    "\n",
    "#### Repeating Value in Row\n",
    "\n",
    "The first instance is where there is a duplicate value in the same row. We can test this by setting a square up in the following way:"
   ]
  },
  {
   "cell_type": "markdown",
   "metadata": {},
   "source": [
    "```\n",
    "{ 0, 1, 2 }\n",
    "{ 1, 2, 0 }\n",
    "{ 2, 0, 1 }\n",
    "{ 1, 1, 0 }\n",
    "```"
   ]
  },
  {
   "cell_type": "markdown",
   "metadata": {},
   "source": [
    "Testing it we get:"
   ]
  },
  {
   "cell_type": "code",
   "execution_count": 21,
   "metadata": {},
   "outputs": [
    {
     "name": "stdout",
     "output_type": "stream",
     "text": [
      "has a duplicate value in the same row\n"
     ]
    }
   ],
   "source": [
    "public class ArrayTester {\n",
    "  static int[][] arr2D = { { 0, 1, 2 },\n",
    "                          { 1, 2, 0 },\n",
    "                          { 2, 0, 1 },\n",
    "                          { 1, 1, 0 } };\n",
    "\n",
    "  public static int[] getColumn(int[][] arr2D, int c) {\n",
    "    int[] result = new int[arr2D.length];\n",
    "\n",
    "    for (int i = 0; i < arr2D.length; i++) {\n",
    "      result[i] = arr2D[i][c];\n",
    "    }\n",
    "    return result;\n",
    "  }\n",
    "\n",
    "  public static boolean containsDuplicates(int[] arr) {\n",
    "    for (int i = 0; i < arr.length; i++) {\n",
    "      for (int j = i + 1; j < arr.length; j++) {\n",
    "        if (arr[i] == arr[j]) {\n",
    "          return true;\n",
    "        }\n",
    "      }\n",
    "    }\n",
    "    return false;\n",
    "  }\n",
    "\n",
    "  public static boolean hasAllValues(int[] arr1, int[] arr2) {\n",
    "    for (int i = 0; i < arr1.length; i++) {\n",
    "      boolean found = false;\n",
    "      for (int j = 0; j < arr2.length; j++) {\n",
    "        if (arr1[i] == arr2[j]) {\n",
    "          found = true;\n",
    "          break;\n",
    "        }\n",
    "      }\n",
    "      if (!found) {\n",
    "        return false;\n",
    "      }\n",
    "    }\n",
    "    return true;\n",
    "  }\n",
    "\n",
    "  public static String isLatin(int[][] square){\n",
    "    if (containsDuplicates(square[0])) {\n",
    "      return \"doesn't contain all values in each array\";\n",
    "    }\n",
    "\n",
    "    for (int i = 1; i < square.length; i++) {\n",
    "      if (!hasAllValues(square[0], square[i])) {\n",
    "        return \"has a duplicate value in the same row\";\n",
    "      }\n",
    "    }\n",
    "\n",
    "    for (int c = 0; c < square[0].length; c++) {\n",
    "      if (!hasAllValues(square[0], getColumn(square, c))) {\n",
    "        return \"has a duplicate value in the same column\";\n",
    "      }\n",
    "    }\n",
    "\n",
    "    return \"This is a Latin square\";\n",
    "  }\n",
    "\n",
    "  public static void main(String[] args) {\n",
    "    String result = isLatin(arr2D);\n",
    "    System.out.println(result);\n",
    "  }\n",
    "}\n",
    "\n",
    "ArrayTester.main(null);"
   ]
  },
  {
   "cell_type": "markdown",
   "metadata": {},
   "source": [
    "In this case the last row has duplicate numbers `1`, making this not a Latin square."
   ]
  },
  {
   "cell_type": "markdown",
   "metadata": {},
   "source": [
    "#### Repeating Value in Column\n",
    "\n",
    "Another instance in which this code would return the array as not a Latin square is when the values of the column repeat. We can test this by setting the array up like so:"
   ]
  },
  {
   "cell_type": "markdown",
   "metadata": {},
   "source": [
    "```\n",
    "{ 1, 2, 0 }\n",
    "{ 0, 1, 2 }\n",
    "{ 1, 2, 0 }\n",
    "```"
   ]
  },
  {
   "cell_type": "markdown",
   "metadata": {},
   "source": [
    "Testing it we get:"
   ]
  },
  {
   "cell_type": "code",
   "execution_count": 30,
   "metadata": {},
   "outputs": [
    {
     "name": "stdout",
     "output_type": "stream",
     "text": [
      "has a duplicate value in the same column\n"
     ]
    }
   ],
   "source": [
    "public class ArrayTester {\n",
    "  static int[][] arr2D = { { 1, 2, 0 },\n",
    "                          { 0, 1, 2 },\n",
    "                          { 1, 2, 0 } };\n",
    "\n",
    "  public static int[] getColumn(int[][] arr2D, int c) {\n",
    "    int[] result = new int[arr2D.length];\n",
    "\n",
    "    for (int i = 0; i < arr2D.length; i++) {\n",
    "      result[i] = arr2D[i][c];\n",
    "    }\n",
    "    return result;\n",
    "  }\n",
    "\n",
    "  public static boolean containsDuplicates(int[] arr) {\n",
    "    for (int i = 0; i < arr.length; i++) {\n",
    "      for (int j = i + 1; j < arr.length; j++) {\n",
    "        if (arr[i] == arr[j]) {\n",
    "          return true;\n",
    "        }\n",
    "      }\n",
    "    }\n",
    "    return false;\n",
    "  }\n",
    "\n",
    "  public static boolean hasAllValues(int[] arr1, int[] arr2) {\n",
    "    for (int i = 0; i < arr1.length; i++) {\n",
    "      boolean found = false;\n",
    "      for (int j = 0; j < arr2.length; j++) {\n",
    "        if (arr1[i] == arr2[j]) {\n",
    "          found = true;\n",
    "          break;\n",
    "        }\n",
    "      }\n",
    "      if (!found) {\n",
    "        return false;\n",
    "      }\n",
    "    }\n",
    "    return true;\n",
    "  }\n",
    "\n",
    "  public static String isLatin(int[][] square){\n",
    "    if (containsDuplicates(square[0])) {\n",
    "      return \"doesn't contain all values in each array\";\n",
    "    }\n",
    "\n",
    "    for (int i = 1; i < square.length; i++) {\n",
    "      if (!hasAllValues(square[0], square[i])) {\n",
    "        return \"has a duplicate value in the same row\";\n",
    "      }\n",
    "    }\n",
    "\n",
    "    for (int c = 0; c < square[0].length; c++) {\n",
    "      if (!hasAllValues(square[0], getColumn(square, c))) {\n",
    "        return \"has a duplicate value in the same column\";\n",
    "      }\n",
    "    }\n",
    "\n",
    "    return \"This is a Latin square\";\n",
    "  }\n",
    "\n",
    "  public static void main(String[] args) {\n",
    "    String result = isLatin(arr2D);\n",
    "    System.out.println(result);\n",
    "  }\n",
    "}\n",
    "\n",
    "ArrayTester.main(null);"
   ]
  },
  {
   "cell_type": "markdown",
   "metadata": {},
   "source": [
    "In this case, the values in the first column have duplicates in the first and third row, this being `1`. This is also true for the rest of the values in the first and third rows."
   ]
  }
 ],
 "metadata": {
  "kernelspec": {
   "display_name": "Java",
   "language": "java",
   "name": "java"
  },
  "language_info": {
   "codemirror_mode": "java",
   "file_extension": ".jshell",
   "mimetype": "text/x-java-source",
   "name": "Java",
   "pygments_lexer": "java",
   "version": "11.0.20.1+1-post-Ubuntu-0ubuntu122.04"
  }
 },
 "nbformat": 4,
 "nbformat_minor": 2
}
