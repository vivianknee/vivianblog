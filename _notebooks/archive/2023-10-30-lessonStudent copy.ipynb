{
 "cells": [
  {
   "cell_type": "markdown",
   "metadata": {},
   "source": [
    "---\n",
    "- title: Lesson 9.1 Hierarchy Student\n",
    "- author: david\n",
    "- categories: [Lesson]\n",
    "- tags: [Collegeboard, Java, Unit 9]\n",
    "- type: hacks\n",
    "- week: 11\n",
    "- description: Lesson on Java class hierarchy.\n",
    "- toc: True\n",
    "- comments: True\n",
    "- date: 2023-10-30 13:00:00 +0000\n",
    "---"
   ]
  },
  {
   "cell_type": "markdown",
   "metadata": {},
   "source": [
    "## 9.1 Superclasses and Subclasses\n",
    "> A hierarchy of classes is created, extending attributes into subclasses of information (ie. Automobile --> Trucks and Sedans --> Ford, BMW, Nissan, Toyota). \n",
    "\n",
    "### Pre-Requisites\n",
    "\n",
    "Before we start you need to remember what classes and methods are. Scopes of variables are also important to this section because you need to know which classes can access which variables before extending a variable across classes.\n",
    "\n",
    "#### Scope of Variables:\n",
    "\n",
    "Variables can be declared as private or public.\n",
    "\n",
    "> **Popcorn Hack:** What are scope do private and public variables allow?\n",
    "\n",
    "| Private | Public |\n",
    "|-|-|\n",
    "| only directly accessible within the class they are declared | accessible anywhere inside and outside their class |\n",
    "\n",
    "These are different types of variables. Only `INSTANCE` and `STATIC` variables can be declared as ____ or ____.\n",
    "\n",
    "| Variable Type | Definition | Scope within Class | Scope to Subclasses |\n",
    "|-|-|-|-|\n",
    "|  | variables within methods | cannot be accessed outside method | cannot be accessed outside class |\n",
    "|  | variables within a class but not inside a method | can be accessed in entire class | can be accessed in subclasses |\n",
    "|  | variables that belong to a class, not instance | can be accessed in entire class | can be accessed in subclasses |\n",
    "|  | variables specific in passing values to the method | cannot be accessed outside method | do not affect inheritance |\n",
    "\n",
    "Now we can go into class hierarchies."
   ]
  },
  {
   "cell_type": "markdown",
   "metadata": {},
   "source": [
    "### Class Hierarchy\n",
    "\n",
    "**Definitions**\n",
    "- Superclasses - a class that contains all the common ____ and ____ that could be shared among other classes (a blueprint for subclasses)\n",
    "- Subclasses - extends the ____ to is specified by a superclass; can also have additional specific attributes\n",
    "- \"Is-A\" Relationship - the relationship when a subclass ____ a superclass (ie. Automobile --> Sedan; a Sedan \"is-a\" automobile)\n",
    "\n",
    "#### `extends` Keyword\n",
    "> extends the ____ from the ____"
   ]
  },
  {
   "cell_type": "code",
   "execution_count": 10,
   "metadata": {},
   "outputs": [
    {
     "name": "stdout",
     "output_type": "stream",
     "text": [
      "Toyota\n",
      "Car is starting\n",
      "Ford\n",
      "1000\n",
      "Loading cargo into the truck\n",
      "BMW\n",
      "true\n",
      "Sedan is accelerating\n"
     ]
    }
   ],
   "source": [
    "class Automobile {\n",
    "  public String brand; // public instance var\n",
    "  private String model; // private instance var\n",
    "\n",
    "  public Automobile(String brand, String model) {\n",
    "    this.brand = brand;\n",
    "    this.model = model;\n",
    "  }\n",
    "\n",
    "  public void start() {\n",
    "    System.out.println(\"Car is starting\");\n",
    "  }\n",
    "}\n",
    "\n",
    "class Truck extends Automobile {\n",
    "  public int cargoCapacity; // subclass specific var\n",
    "\n",
    "  // instance that is specific to the Truck subclass, with vars from Automobile class\n",
    "  public Truck(String brand, String model, int cargoCapacity) {\n",
    "    super(brand, model); // inherited vars\n",
    "    this.cargoCapacity = cargoCapacity;\n",
    "  }\n",
    "\n",
    "  // specific method to Truck\n",
    "  public void loadCargo() {\n",
    "    System.out.println(\"Loading cargo into the truck\");\n",
    "  }\n",
    "}\n",
    "\n",
    "class Sedan extends Automobile {\n",
    "  public boolean isLuxury; // subclass specific var\n",
    "\n",
    "  // instance that is specific to the Sedan subclass, with vars from Automobile class\n",
    "  public Sedan(String brand, String model, boolean isLuxury) {\n",
    "    super(brand, model); // inherited vars\n",
    "    this.isLuxury = isLuxury;\n",
    "  }\n",
    "\n",
    "  // specific method to Sedan\n",
    "  public void accelerate() {\n",
    "    System.out.println(\"Sedan is accelerating\");\n",
    "  }\n",
    "}\n",
    "\n",
    "public class Main {\n",
    "    public static void main(String[] args) {\n",
    "        Automobile car = new Automobile(\"Toyota\", \"Camry\");\n",
    "        Truck truck = new Truck(\"Ford\", \"F-150\", 1000);\n",
    "        Sedan sedan = new Sedan(\"BMW\", \"328i\", true);\n",
    "\n",
    "        // automobile methods and variables\n",
    "        System.out.println(car.brand); // Accessing public variable\n",
    "        // System.out.println(car.model); // compilation error because of the private var\n",
    "        car.start();\n",
    "\n",
    "\n",
    "        // truck methods and variables\n",
    "        System.out.println(truck.brand); // inherited public var\n",
    "        System.out.println(truck.cargoCapacity); // public var specific to truck\n",
    "        truck.loadCargo();\n",
    "\n",
    "\n",
    "        // sedan methods and variables\n",
    "        System.out.println(sedan.brand); // inherited public var\n",
    "        System.out.println(sedan.isLuxury); // public var specific to sedan\n",
    "        sedan.accelerate();\n",
    "    }\n",
    "}\n",
    "\n",
    "Main.main(null);"
   ]
  },
  {
   "cell_type": "markdown",
   "metadata": {},
   "source": [
    "This example shows how the `Automobile` class is extended twice, with the `Truck` and `Sedan` subclasses.\n",
    "\n",
    "> **Popcorn Hack:** If I were to declare a variable `color` that is `private` in the class Automobile, would I be able to extend and directly access that variable to the subclass `Truck` or `Sedan`?\n",
    "\n",
    "A: No, you would need to encapsulate the private variable as shown above, through a method in the superclass and then inherit that var with `super()`, which will be explained later."
   ]
  },
  {
   "cell_type": "markdown",
   "metadata": {},
   "source": [
    "## Hacks\n",
    "\n",
    "Create a superclass with at least 2 subclasses based on your own topic.\n",
    "\n",
    "- Create a DrawIO diagram for your structure\n",
    "- Create a superclass on your own topic\n",
    "- Create at least two subclasses\n",
    "- Each class must create at least two methods, one private and public variable, and examples of local, static, instance, and parameter variables"
   ]
  }
 ],
 "metadata": {
  "kernelspec": {
   "display_name": "Java",
   "language": "java",
   "name": "java"
  },
  "language_info": {
   "codemirror_mode": "java",
   "file_extension": ".jshell",
   "mimetype": "text/x-java-source",
   "name": "java",
   "pygments_lexer": "java",
   "version": "11.0.20+8-post-Ubuntu-1ubuntu120.04"
  },
  "orig_nbformat": 4
 },
 "nbformat": 4,
 "nbformat_minor": 2
}
