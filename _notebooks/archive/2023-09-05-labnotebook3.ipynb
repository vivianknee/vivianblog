{
 "cells": [
  {
   "cell_type": "markdown",
   "metadata": {},
   "source": [
    "---\n",
    "- title: Lab Notebook 3\n",
    "- author: david\n",
    "- categories: [Lab Notebook]\n",
    "- tags: [HTML, CSS, Javascript]\n",
    "- type: tangibles\n",
    "- week: 3\n",
    "- description: Week 3 lab work.\n",
    "- toc: true\n",
    "- comments: true\n",
    "- date: 2023-09-05 12:00:00 +0000\n",
    "---"
   ]
  },
  {
   "cell_type": "markdown",
   "metadata": {},
   "source": [
    "## Pair Programming\n",
    "\n",
    "For the pair programming project we decided to create a program that uses user inputs and outputs and also stores score and fastest time using cookies. It also pulls images from a RapidAPI to the game cards, which when matched stay flipped over."
   ]
  },
  {
   "cell_type": "markdown",
   "metadata": {},
   "source": [
    "### addEvenListener()"
   ]
  },
  {
   "cell_type": "markdown",
   "metadata": {},
   "source": [
    "Instead of doing ```onclick()``` you can use the ```addEventListener()``` function in order to detect a click and then trigger a series of actions. In our code we used it to start the game as well as trigger the visibility of certain elements. This allowed one button to trigger multiple functions at once."
   ]
  },
  {
   "cell_type": "code",
   "execution_count": null,
   "metadata": {
    "vscode": {
     "languageId": "javascript"
    }
   },
   "outputs": [],
   "source": [
    "// checks is game is started and starts game if start is clicked\n",
    "start.addEventListener('click', async () => {\n",
    "  if (!gameStarted) {\n",
    "    await startGame();\n",
    "  }\n",
    "});\n",
    "\n",
    "// hides start button\n",
    "start.addEventListener(\"click\", function() {\n",
    "  this.remove();\n",
    "  document.querySelector('main').classList.remove('hidden')\n",
    "});"
   ]
  },
  {
   "cell_type": "markdown",
   "metadata": {},
   "source": [
    "### async function Example()"
   ]
  },
  {
   "cell_type": "markdown",
   "metadata": {},
   "source": [
    "Using ```async``` functions allows us to run multiple functions at once without overloading the computational power of the computer. This is important when running the timer, game rule functions, and main game function for example. The timer and other game rule functions won't lag while the main game function dominates the computational power of the computer."
   ]
  },
  {
   "cell_type": "code",
   "execution_count": null,
   "metadata": {
    "vscode": {
     "languageId": "javascript"
    }
   },
   "outputs": [],
   "source": [
    "async function startGame() {\n",
    "  // setting variables and fetching data\n",
    "  const breeds = await fetchDogs();\n",
    "  const images = [];\n",
    "  \n",
    "  // creates reset button\n",
    "  document.getElementById('resetButton').addEventListener('click', resetGame);\n",
    "  start.style.display = 'none'\n",
    "  gameContainer.style.display = 'block'\n",
    "\n",
    "  // ... rest of code\n",
    "}"
   ]
  },
  {
   "cell_type": "markdown",
   "metadata": {},
   "source": [
    "Inside the ```async``` function we can use ```await``` in order to pause the execution of a certain function while we wait for a promise in another part of the function to be fulfilled. In this case, we make the ```fetchDogs()``` function be the mandatory function to run and the rest of the code has to wait for that function to run. This is because the data from the api is the most important piece of the game."
   ]
  },
  {
   "cell_type": "code",
   "execution_count": null,
   "metadata": {
    "vscode": {
     "languageId": "javascript"
    }
   },
   "outputs": [],
   "source": [
    "const breeds = await fetchDogs();\n",
    "const images = [];\n",
    "\n",
    "// creates reset button\n",
    "document.getElementById('resetButton').addEventListener('click', resetGame);\n",
    "start.style.display = 'none'\n",
    "gameContainer.style.display = 'block'\n",
    "\n",
    "// pulls data from cookies and displays on frontend\n",
    "function setData() {\n",
    "  leastMoves.textContent = getCookie('leastMoves')\n",
    "  fastestTime.textContent = getCookie('fastestTime')\n",
    "}\n",
    "\n",
    "// ... rest of code"
   ]
  },
  {
   "cell_type": "markdown",
   "metadata": {},
   "source": [
    "### querySelector()"
   ]
  },
  {
   "cell_type": "markdown",
   "metadata": {},
   "source": [
    "This function takes the first element that meets the the selector requirements and assigns it to a variable."
   ]
  },
  {
   "cell_type": "code",
   "execution_count": null,
   "metadata": {
    "vscode": {
     "languageId": "javascript"
    }
   },
   "outputs": [],
   "source": [
    "const gameContainer = document.querySelector('.game-container');"
   ]
  },
  {
   "cell_type": "markdown",
   "metadata": {},
   "source": [
    "### this."
   ]
  },
  {
   "cell_type": "markdown",
   "metadata": {},
   "source": [
    "This is keyword that refers to the current execution of a code block. This allows for privately assigned variables when having instances of a program running. With this, we can have one variable hold data multiple different ways and be used multiple times. In this case we use it to add a tag ```flipped``` to the ```classList``` of the card that is clicked in order to count up how many cards are flipped at once in the board that is generated through iteration rather than manually. This allows for simpler code rather than having a function for each card that checks if the card is flipped."
   ]
  },
  {
   "cell_type": "code",
   "execution_count": null,
   "metadata": {
    "vscode": {
     "languageId": "javascript"
    }
   },
   "outputs": [],
   "source": [
    "function flipCard() {\n",
    "  // if 2 are flipped\n",
    "  if (flippedCards.length < 2 && !this.classList.contains('flipped')) {\n",
    "    // sends signal that they are flipped\n",
    "    this.classList.add('flipped')\n",
    "    flippedCards.push(this)\n",
    "    // adds to moves\n",
    "    moves++\n",
    "    moveCount.textContent = moves\n",
    "\n",
    "// ... rest of code\n",
    "  }\n",
    "}"
   ]
  },
  {
   "cell_type": "markdown",
   "metadata": {},
   "source": [
    "Another example is when removing the start button from the screen after pressing it. We use the ```this``` in order to remove the button that was clicked, rather than having to call the class or id and removing it by setting the style to hidden."
   ]
  },
  {
   "cell_type": "code",
   "execution_count": null,
   "metadata": {
    "vscode": {
     "languageId": "javascript"
    }
   },
   "outputs": [],
   "source": [
    "start.addEventListener(\"click\", function() {\n",
    "  this.remove();\n",
    "  document.querySelector('main').classList.remove('hidden')\n",
    "});"
   ]
  },
  {
   "cell_type": "markdown",
   "metadata": {},
   "source": [
    "### forEach()"
   ]
  },
  {
   "cell_type": "markdown",
   "metadata": {},
   "source": [
    "We use the ```forEach()``` function many times throughout our code to simplify it using iteration. In this example, the ```forEach()``` function goes through each image that the API has pulled using another ```forEach()``` function, and it assigns an index to each card for later game rule checks and it also places the image onto each of the cards, so that each card has a different image."
   ]
  },
  {
   "cell_type": "code",
   "execution_count": null,
   "metadata": {
    "vscode": {
     "languageId": "javascript"
    }
   },
   "outputs": [],
   "source": [
    "images.forEach((img, index) => {\n",
    "    // creates from of card\n",
    "    const cardElement = document.createElement('div')\n",
    "    cardElement.classList.add('gameCard')\n",
    "    cardElement.dataset.cardIndex = index\n",
    "    // creates back of card\n",
    "    const cardBack = document.createElement('div')\n",
    "    cardBack.classList.add('cardBack')\n",
    "    cardElement.appendChild(cardBack)\n",
    "    // places image in front of card\n",
    "    const cardImage = document.createElement('img')\n",
    "    cardImage.src = img\n",
    "    cardElement.appendChild(cardImage)\n",
    "    // checks if card is clicked to flip\n",
    "    cardElement.addEventListener('click', flipCard)\n",
    "    gameBoard.appendChild(cardElement)\n",
    "  });"
   ]
  },
  {
   "cell_type": "markdown",
   "metadata": {},
   "source": [
    "### Date."
   ]
  },
  {
   "cell_type": "markdown",
   "metadata": {},
   "source": [
    "This default object from Javascript that allows for easier time and date manipulation. In this case, we use it as a timer to count seconds so that we don't have to worry about the logic behind counting seconds."
   ]
  },
  {
   "cell_type": "code",
   "execution_count": null,
   "metadata": {
    "vscode": {
     "languageId": "javascript"
    }
   },
   "outputs": [],
   "source": [
    " // sets var for timer\n",
    " startTime = Date.now();\n",
    " timerInterval = setInterval(updateTimer, 1000)\n",
    "\n",
    " // timer in seconds\n",
    " function updateTimer() {\n",
    "   const currentTime = Math.floor((Date.now() - startTime) / 1000)\n",
    "   timer.textContent = currentTime\n",
    " }"
   ]
  },
  {
   "cell_type": "markdown",
   "metadata": {},
   "source": [
    "### Cookies\n",
    "\n",
    "These are how the data is stored from one session to another on the same device. We use them to store the fastest times and the lowest number of moves."
   ]
  },
  {
   "cell_type": "markdown",
   "metadata": {},
   "source": [
    "The first part is setting the cookies, which is a function that takes in the name and the value of the cookie. We can also make the cookie expire after a certain number of days, however this is not needed. We then set how to calculate the expiration time if we do need it and then we set to how and where the cookie is stored with ````${name}=${value};expires=${expires.toUTCString()};path=/````, where ```{name}``` and ```{value}``` are where the data is stores and then the rest is the expiration time and the ```path=/``` is to store it in the root directory of the website so that the entire website has access to it."
   ]
  },
  {
   "cell_type": "code",
   "execution_count": null,
   "metadata": {
    "vscode": {
     "languageId": "javascript"
    }
   },
   "outputs": [],
   "source": [
    "// function to set cookie\n",
    "function setCookie(name, value, days) {\n",
    "  const expires = new Date();\n",
    "  expires.setTime(expires.getTime() + (days * 24 * 60 * 60 * 1000));\n",
    "  document.cookie = `${name}=${value};expires=${expires.toUTCString()};path=/`;\n",
    "  console.log(document.cookie)\n",
    "}"
   ]
  },
  {
   "cell_type": "markdown",
   "metadata": {},
   "source": [
    "Getting the cookie is important when retrieving the stored information. The data in the list of cookies is split with the semi-colon and then the of is pulled into the frontend by the name of the cookie that is being stored."
   ]
  },
  {
   "cell_type": "code",
   "execution_count": null,
   "metadata": {
    "vscode": {
     "languageId": "javascript"
    }
   },
   "outputs": [],
   "source": [
    "// gets cookies from stored data\n",
    "function getCookie(name) {\n",
    "  const cookies = document.cookie.split(';')\n",
    "  for (let i = 0; i < cookies.length; i++) {\n",
    "    const cookie = cookies[i].trim()\n",
    "    if (cookie.startsWith(`${name}=`)) {\n",
    "      return cookie.substring(name.length + 1)\n",
    "    }\n",
    "  }\n",
    "  return null\n",
    "}"
   ]
  },
  {
   "cell_type": "markdown",
   "metadata": {},
   "source": [
    "## JQuery\n",
    "\n",
    "This is an example of a data table made using jQuery. There is a runtime link instead of an output because there were errors in locating the ```DataTable()``` function."
   ]
  },
  {
   "cell_type": "code",
   "execution_count": null,
   "metadata": {
    "vscode": {
     "languageId": "html"
    }
   },
   "outputs": [],
   "source": [
    "%%html\n",
    "\n",
    "<head>\n",
    "  <link rel=\"stylesheet\" type=\"text/css\" href=\"https://cdn.datatables.net/1.10.25/css/jquery.dataTables.min.css\">\n",
    "  <script type=\"text/javascript\" language=\"javascript\" src=\"https://code.jquery.com/jquery-3.6.0.min.js\"></script>\n",
    "  <script type=\"text/javascript\" language=\"javascript\" src=\"https://cdn.datatables.net/1.10.25/js/jquery.dataTables.min.js\"></script>\n",
    "</head>\n",
    "\n",
    "<table id=\"table\" class=\"table\">\n",
    "  <thead id=\"head\">\n",
    "      <tr>\n",
    "          <th>Category</th>\n",
    "          <th>Common Name</th>\n",
    "          <th>Climate</th>\n",
    "          <th>Family</th>\n",
    "          <th>Latin Name</th>\n",
    "          <th>Image</th>\n",
    "      </tr>\n",
    "  </thead>\n",
    "  <tbody id=\"body\"></tbody>\n",
    "</table>\n",
    "\n",
    "\n",
    "<script>\n",
    "  const settings = {\n",
    "    async: true,\n",
    "    crossDomain: true,\n",
    "    url: 'https://house-plants2.p.rapidapi.com/all-lite',\n",
    "    method: 'GET',\n",
    "    headers: {\n",
    "      'X-RapidAPI-Key': '701410bf7emshbaf1fa99b2e4e5bp1c0ee6jsn8f8f51602e3f',\n",
    "      'X-RapidAPI-Host': 'house-plants2.p.rapidapi.com'\n",
    "    }\n",
    "  };\n",
    "  \n",
    "  $.ajax(settings).done(function (response) {\n",
    "    console.log(response);\n",
    "\n",
    "\n",
    "    for (const row of response) {\n",
    "\n",
    "const commonName = Array.isArray(row[\"Common name\"]) ? row[\"Common name\"].join(', ') : row[\"Common name\"];\n",
    "const latinName = Array.isArray(row[\"Latin name\"]) ? row[\"Latin name\"].join(', ') : row[\"Latin name\"];\n",
    "\n",
    "      $('#body').append('<tr><td>' + \n",
    "          row.Categories + '</td><td>' + \n",
    "          commonName + '</td><td>' + \n",
    "          row.Climat + '</td><td>' +\n",
    "          row.Family + '</td><td>' + \n",
    "          latinName + '</td><td>' + \n",
    "          '<img src=\"' + row.Img +'\">' + '</td></tr>');\n",
    "    }\n",
    "    $(\"#table\").DataTable();\n",
    "  });\n",
    "\n",
    "    \n",
    "</script>"
   ]
  },
  {
   "cell_type": "markdown",
   "metadata": {},
   "source": [
    "[Runtime]({{ site.baseurl }}/dataTable.html)"
   ]
  },
  {
   "cell_type": "markdown",
   "metadata": {},
   "source": [
    "### Why jQuery\n",
    "\n",
    "jQuery is a much better formatted table that iteratively generates when loading. This allows it to take large amounts of data, like from an API, and display it for everyone to see. This is very important when wanting to save time. It also allows for there to be search and also allows for sorting based on the categories provided. This is again useful for looking through data manually when the looking through a large database.\n",
    "\n",
    "### Why Not Markdown or HTML\n",
    "\n",
    "With HTML and Markdown, it is better to create such tables for smaller data sets. Although you can generate larger tables with Python and Javascript, you still don't get imbedded search and sort features like in jQuery and this leads to a worse UI for large data sets.\n",
    "\n",
    "### Some Interesting Things I DId\n",
    "\n",
    "- ```Array.isArray()``` - This checks whether a given value is an array or not and then it can complete certain tasks\n",
    "- ```row[\"Common name\"].join(', ')``` - this joins the arrays if there is an array under this variable\n",
    "- ```: row[\"Common name\"]``` - if it is not an array, then the value is returned as it was initially found"
   ]
  }
 ],
 "metadata": {
  "kernelspec": {
   "display_name": "base",
   "language": "python",
   "name": "python3"
  },
  "language_info": {
   "codemirror_mode": {
    "name": "ipython",
    "version": 3
   },
   "file_extension": ".py",
   "mimetype": "text/x-python",
   "name": "python",
   "nbconvert_exporter": "python",
   "pygments_lexer": "ipython3",
   "version": "3.11.4"
  },
  "orig_nbformat": 4
 },
 "nbformat": 4,
 "nbformat_minor": 2
}
