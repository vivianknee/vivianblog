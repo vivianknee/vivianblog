{
 "cells": [
  {
   "cell_type": "markdown",
   "metadata": {},
   "source": [
    "---\n",
    "- title: Joint Test\n",
    "- author: david\n",
    "- categories: [Lab Notebook]\n",
    "- tags: [Project, HTML, Javascript]\n",
    "- type: tangibles\n",
    "- week: 7\n",
    "- description: Testing Joint Canvas.\n",
    "- toc: True\n",
    "- comments: True\n",
    "- date: 2023-10-05 12:00:00 +0000\n",
    "---"
   ]
  },
  {
   "cell_type": "markdown",
   "metadata": {},
   "source": [
    "<script src=\"https://cdnjs.cloudflare.com/ajax/libs/jquery/3.6.4/jquery.js\"></script>\n",
    "<script src=\"https://cdnjs.cloudflare.com/ajax/libs/lodash.js/4.17.21/lodash.js\"></script>\n",
    "<script src=\"https://cdnjs.cloudflare.com/ajax/libs/backbone.js/1.4.1/backbone.js\"></script>\n",
    "<script src=\"https://cdnjs.cloudflare.com/ajax/libs/jointjs/3.7.5/joint.js\"></script>\n",
    "<p>testing canvas</p>\n",
    "\n",
    "<div id=\"interactive-graph\"></div>\n",
    "<script>\n",
    "  var namespace = joint.shapes;\n",
    "  var graph = new joint.dia.Graph({}, { cellNamespace: namespace });\n",
    "  var paper = new joint.dia.Paper({\n",
    "      el: document.getElementById('interactive-graph'),\n",
    "      model: graph,\n",
    "      width: 600,\n",
    "      height: 100,\n",
    "      gridSize: 1,\n",
    "      cellViewNamespace: namespace\n",
    "  });\n",
    "  var node = new joint.shapes.standard.Circle();\n",
    "  node.position(100, 30);\n",
    "  node.resize(100, 40);\n",
    "  node.attr({\n",
    "      body: {\n",
    "          fill: 'black'\n",
    "      },\n",
    "      label: {\n",
    "          fill: 'white'\n",
    "      }\n",
    "  });\n",
    "  node.attr('label/text', '1');\n",
    "  node.addTo(graph)\n",
    "  var node2 = node.clone();\n",
    "  node2.translate(300, 0);\n",
    "  node2.attr('label/text', '2');\n",
    "  node2.addTo(graph)\n",
    "  var link = new joint.shapes.standard.Link();\n",
    "  link.source(node);\n",
    "  link.target(node2);\n",
    "  link.addTo(graph);\n",
    "</script>"
   ]
  },
  {
   "cell_type": "code",
   "execution_count": null,
   "metadata": {
    "vscode": {
     "languageId": "html"
    }
   },
   "outputs": [],
   "source": [
    "<script src=\"https://cdnjs.cloudflare.com/ajax/libs/jquery/3.6.4/jquery.js\"></script>\n",
    "<script src=\"https://cdnjs.cloudflare.com/ajax/libs/lodash.js/4.17.21/lodash.js\"></script>\n",
    "<script src=\"https://cdnjs.cloudflare.com/ajax/libs/backbone.js/1.4.1/backbone.js\"></script>\n",
    "<script src=\"https://cdnjs.cloudflare.com/ajax/libs/jointjs/3.7.5/joint.js\"></script>\n",
    "<p>testing canvas</p>\n",
    "\n",
    "<div id=\"interactive-graph\"></div>\n",
    "<script>\n",
    "  var namespace = joint.shapes;\n",
    "  var graph = new joint.dia.Graph({}, { cellNamespace: namespace });\n",
    "  var paper = new joint.dia.Paper({\n",
    "      el: document.getElementById('interactive-graph'),\n",
    "      model: graph,\n",
    "      width: 600,\n",
    "      height: 100,\n",
    "      gridSize: 1,\n",
    "      cellViewNamespace: namespace\n",
    "  });\n",
    "  var node = new joint.shapes.standard.Circle();\n",
    "  node.position(100, 30);\n",
    "  node.resize(100, 40);\n",
    "  node.attr({\n",
    "      body: {\n",
    "          fill: 'black'\n",
    "      },\n",
    "      label: {\n",
    "          fill: 'white'\n",
    "      }\n",
    "  });\n",
    "  node.attr('label/text', '1');\n",
    "  node.addTo(graph)\n",
    "  var node2 = node.clone();\n",
    "  node2.translate(300, 0);\n",
    "  node2.attr('label/text', '2');\n",
    "  node2.addTo(graph)\n",
    "  var link = new joint.shapes.standard.Link();\n",
    "  link.source(node);\n",
    "  link.target(node2);\n",
    "  link.addTo(graph);\n",
    "</script>"
   ]
  },
  {
   "cell_type": "markdown",
   "metadata": {},
   "source": [
    "Have to use Joint structure\n",
    "\n",
    "Always declare deps before code"
   ]
  }
 ],
 "metadata": {
  "language_info": {
   "name": "python"
  }
 },
 "nbformat": 4,
 "nbformat_minor": 2
}
