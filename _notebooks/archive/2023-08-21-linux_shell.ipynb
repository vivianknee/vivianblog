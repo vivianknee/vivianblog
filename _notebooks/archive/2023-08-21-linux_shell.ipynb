{
 "cells": [
  {
   "attachments": {},
   "cell_type": "markdown",
   "metadata": {},
   "source": [
    "---\n",
    "- title: Linux Shell and Bash\n",
    "- author: mort\n",
    "- categories: [Lesson]\n",
    "- tags: [Linux, Bash]\n",
    "- type: hacks\n",
    "- week: 0\n",
    "- description: A Tech Talk on Linux and the Bash shell.\n",
    "- toc: true\n",
    "- comments: true\n",
    "- date: 2023-08-17 12:00:00 +0000\n",
    "---"
   ]
  },
  {
   "attachments": {},
   "cell_type": "markdown",
   "metadata": {},
   "source": [
    "## Bash Tutorial\n",
    "> A brief overview of Bash, on your way to becoming a Linux expert.  <mark>When a computer boots up, a kernel (MacOS, Windows, Linux) is started</mark>.  This kernel provides a shell, or <mark>terminal</mark>, that allows user to interact with a most basic set of commands.  Typically, the casual user will not interact with the shell/terminal as a Desktop User Interface is started by the computer boot up process.  To activate a shell directly, users will run a \"terminal\" through the Desktop. <mark>VS Code provides ability to activate \"terminal\"</mark> while in the IDE."
   ]
  },
  {
   "attachments": {},
   "cell_type": "markdown",
   "metadata": {},
   "source": [
    "## Variable Prerequisites\n",
    "> Setup bash shell dependency variables for this page.  Variables are one of the first aspects of programming.  <mark>Variables have \"name\" and a \"value\"</mark>.\n",
    "\n",
    "- Hack Note: Change variables to match your student project."
   ]
  },
  {
   "cell_type": "markdown",
   "metadata": {},
   "source": [
    "### Define variable\n",
    "The following code cell <mark>defines 3 variables and assigns each a value</mark>.  There are some extra command, called a HERE document, that write these variables to a file.  This is so we can use these variables over and over below."
   ]
  },
  {
   "cell_type": "code",
   "execution_count": 1,
   "metadata": {
    "vscode": {
     "languageId": "shellscript"
    }
   },
   "outputs": [],
   "source": [
    "%%script bash\n",
    "\n",
    "# Dependency Variables, set to match your project directories\n",
    "\n",
    "cat <<EOF > /tmp/variables.sh\n",
    "export project_dir=$HOME/vscode  # change vscode to different name to test git clone\n",
    "export project=\\$project_dir/teacher  # change teacher to name of project from git clone\n",
    "export project_repo=\"https://github.com/nighthawkcoders/teacher.git\"  # change to project of choice\n",
    "EOF"
   ]
  },
  {
   "cell_type": "markdown",
   "metadata": {},
   "source": [
    "### Output the value of a variable\n",
    "The following code cell <mark>outputs the value of the variables</mark>, using the echo command.  For visual understanding in the output, each echo command provide a title before the $variable "
   ]
  },
  {
   "cell_type": "code",
   "execution_count": 2,
   "metadata": {
    "vscode": {
     "languageId": "shellscript"
    }
   },
   "outputs": [
    {
     "name": "stdout",
     "output_type": "stream",
     "text": [
      "Project dir: /home/david/vscode\n",
      "Project: /home/david/vscode/teacher\n",
      "Repo: https://github.com/nighthawkcoders/teacher.git\n"
     ]
    }
   ],
   "source": [
    "%%script bash\n",
    "\n",
    "# Extract saved variables\n",
    "source /tmp/variables.sh\n",
    "\n",
    "# Output shown title and value variables\n",
    "echo \"Project dir: $project_dir\"\n",
    "echo \"Project: $project\"\n",
    "echo \"Repo: $project_repo\""
   ]
  },
  {
   "cell_type": "markdown",
   "metadata": {},
   "source": [
    "## Project Setup and Analysis with Bash Scripts\n",
    "The bash scripts that follow automate what was done in the setup procedures.  The purpose of this is to show that many of the commands we performed can be added to a script, then performed automatically."
   ]
  },
  {
   "attachments": {},
   "cell_type": "markdown",
   "metadata": {},
   "source": [
    "### Pull Code\n",
    "> Pull code from GitHub to your machine. This is a <mark>bash script</mark>, a sequence of commands, that will create a project directory and add the \"project\" from GitHub to the vscode directory.  There is conditional logic to make sure that clone only happen if it does not (!) exist.   Here are some key elements in this code...\n",
    "\n",
    "- cd command (change directory), remember this from terminal session\n",
    "- if statements (conditional statement, called selection statement by College Board), code inside only happens if condition is met"
   ]
  },
  {
   "cell_type": "code",
   "execution_count": 3,
   "metadata": {
    "vscode": {
     "languageId": "shellscript"
    }
   },
   "outputs": [
    {
     "name": "stdout",
     "output_type": "stream",
     "text": [
      "Using conditional statement to create a project directory and project\n",
      "Directory /home/david/vscode exists.\n",
      "Directory /home/david/vscode/teacher exists.\n"
     ]
    }
   ],
   "source": [
    "%%script bash\n",
    "\n",
    "# Extract saved variables\n",
    "source /tmp/variables.sh\n",
    "\n",
    "echo \"Using conditional statement to create a project directory and project\"\n",
    "\n",
    "cd ~    # start in home directory\n",
    "\n",
    "# Conditional block to make a project directory\n",
    "if [ ! -d $project_dir ]\n",
    "then \n",
    "    echo \"Directory $project_dir does not exists... makinng directory $project_dir\"\n",
    "    mkdir -p $project_dir\n",
    "fi\n",
    "echo \"Directory $project_dir exists.\" \n",
    "\n",
    "# Conditional block to git clone a project from project_repo\n",
    "if [ ! -d $project ]\n",
    "then\n",
    "    echo \"Directory $project does not exists... cloning $project_repo\"\n",
    "    cd $project_dir\n",
    "    git clone $project_repo\n",
    "    cd ~\n",
    "fi\n",
    "echo \"Directory $project exists.\" "
   ]
  },
  {
   "attachments": {},
   "cell_type": "markdown",
   "metadata": {},
   "source": [
    "### Look at files Github project\n",
    "> All computers contain files and directories.  The clone brought more files from cloud to your machine.  Review the bash shell script, observe the commands that show and interact with files and directories.  These were used during setup.\n",
    "\n",
    "- \"ls\" lists computer files in Unix and Unix-like operating systems\n",
    "- \"cd\" offers way to navigate and change working directory\n",
    "- \"pwd\" print working directory\n",
    "- \"echo\" used to display line of text/string that are passed as an argument"
   ]
  },
  {
   "cell_type": "code",
   "execution_count": 4,
   "metadata": {
    "vscode": {
     "languageId": "shellscript"
    }
   },
   "outputs": [
    {
     "name": "stdout",
     "output_type": "stream",
     "text": [
      "Navigate to project, then navigate to area wwhere files were cloned\n",
      "/home/david/vscode/teacher\n",
      "\n",
      "list top level or root of files with project pulled from github\n",
      "Gemfile\n",
      "LICENSE\n",
      "Makefile\n",
      "README.md\n",
      "_config.yml\n",
      "_data\n",
      "_includes\n",
      "_layouts\n",
      "_notebooks\n",
      "_posts\n",
      "assets\n",
      "csa.md\n",
      "csp.md\n",
      "csse.md\n",
      "images\n",
      "index.md\n",
      "indexBlogs.md\n",
      "scripts\n"
     ]
    }
   ],
   "source": [
    "%%script bash\n",
    "\n",
    "# Extract saved variables\n",
    "source /tmp/variables.sh\n",
    "\n",
    "echo \"Navigate to project, then navigate to area wwhere files were cloned\"\n",
    "cd $project\n",
    "pwd\n",
    "\n",
    "echo \"\"\n",
    "echo \"list top level or root of files with project pulled from github\"\n",
    "ls\n"
   ]
  },
  {
   "attachments": {},
   "cell_type": "markdown",
   "metadata": {},
   "source": [
    "### Look at file list with hidden and long attributes\n",
    "> Most linux commands have options to enhance behavior.  The enhanced listing below shows permission bits, owner of file, size and date.\n",
    "\n",
    "[ls reference](https://www.rapidtables.com/code/linux/ls.html)"
   ]
  },
  {
   "cell_type": "code",
   "execution_count": 5,
   "metadata": {
    "vscode": {
     "languageId": "shellscript"
    }
   },
   "outputs": [
    {
     "name": "stdout",
     "output_type": "stream",
     "text": [
      "Navigate to project, then navigate to area wwhere files were cloned\n",
      "/home/david/vscode/teacher\n",
      "\n",
      "list all files in long format\n",
      "total 100\n",
      "drwxr-xr-x 12 david david 4096 Aug 22 08:56 .\n",
      "drwxr-xr-x  6 david david 4096 Aug 22 08:56 ..\n",
      "drwxr-xr-x  8 david david 4096 Aug 22 08:56 .git\n",
      "drwxr-xr-x  3 david david 4096 Aug 22 08:56 .github\n",
      "-rw-r--r--  1 david david  157 Aug 22 08:56 .gitignore\n",
      "-rw-r--r--  1 david david  122 Aug 22 08:56 Gemfile\n",
      "-rw-r--r--  1 david david 1081 Aug 22 08:56 LICENSE\n",
      "-rw-r--r--  1 david david 3131 Aug 22 08:56 Makefile\n",
      "-rw-r--r--  1 david david 6853 Aug 22 08:56 README.md\n",
      "-rw-r--r--  1 david david  607 Aug 22 08:56 _config.yml\n",
      "drwxr-xr-x  2 david david 4096 Aug 22 08:56 _data\n",
      "drwxr-xr-x  2 david david 4096 Aug 22 08:56 _includes\n",
      "drwxr-xr-x  2 david david 4096 Aug 22 08:56 _layouts\n",
      "drwxr-xr-x  3 david david 4096 Aug 22 08:56 _notebooks\n",
      "drwxr-xr-x  2 david david 4096 Aug 22 08:56 _posts\n",
      "drwxr-xr-x  4 david david 4096 Aug 22 08:56 assets\n",
      "-rw-r--r--  1 david david   92 Aug 22 08:56 csa.md\n",
      "-rw-r--r--  1 david david   98 Aug 22 08:56 csp.md\n",
      "-rw-r--r--  1 david david  108 Aug 22 08:56 csse.md\n",
      "drwxr-xr-x  2 david david 4096 Aug 22 08:56 images\n",
      "-rw-r--r--  1 david david 5149 Aug 22 08:56 index.md\n",
      "-rw-r--r--  1 david david   53 Aug 22 08:56 indexBlogs.md\n",
      "drwxr-xr-x  2 david david 4096 Aug 22 08:56 scripts\n"
     ]
    }
   ],
   "source": [
    "%%script bash\n",
    "\n",
    "# Extract saved variables\n",
    "source /tmp/variables.sh\n",
    "\n",
    "echo \"Navigate to project, then navigate to area wwhere files were cloned\"\n",
    "cd $project\n",
    "pwd\n",
    "\n",
    "echo \"\"\n",
    "echo \"list all files in long format\"\n",
    "ls -al   # all files -a (hidden) in -l long listing"
   ]
  },
  {
   "cell_type": "code",
   "execution_count": 6,
   "metadata": {
    "vscode": {
     "languageId": "shellscript"
    }
   },
   "outputs": [
    {
     "name": "stdout",
     "output_type": "stream",
     "text": [
      "Look for posts\n",
      "/home/david/vscode/teacher/_posts\n",
      "total 88\n",
      "-rw-r--r-- 1 david david  7685 Aug 22 08:56 2023-08-16-Tools_Equipment.md\n",
      "-rw-r--r-- 1 david david  4650 Aug 22 08:56 2023-08-16-pair_programming.md\n",
      "-rw-r--r-- 1 david david  7137 Aug 22 08:56 2023-08-17-markdown-html_fragments.md\n",
      "-rw-r--r-- 1 david david  6659 Aug 22 08:56 2023-08-23-javascript-calculator.md\n",
      "-rw-r--r-- 1 david david 10642 Aug 22 08:56 2023-08-30-agile_methodolgy.md\n",
      "-rw-r--r-- 1 david david  3849 Aug 22 08:56 2023-08-30-javascript-music-api.md\n",
      "-rw-r--r-- 1 david david  5312 Aug 22 08:56 2023-09-06-javascript-motion-mario-oop.md\n",
      "-rw-r--r-- 1 david david  4812 Aug 22 08:56 2023-09-13-java-free_response.md\n",
      "-rw-r--r-- 1 david david 13220 Aug 22 08:56 2023-10-16-java-api-pojo-jpa.md\n",
      "-rw-r--r-- 1 david david  6819 Aug 22 08:56 2023-11-13-jwt-java-spring.md\n"
     ]
    }
   ],
   "source": [
    "%%script bash\n",
    "\n",
    "# Extract saved variables\n",
    "source /tmp/variables.sh\n",
    "\n",
    "echo \"Look for posts\"\n",
    "export posts=$project/_posts  # _posts inside project\n",
    "cd $posts  # this should exist per fastpages\n",
    "pwd  # present working directory\n",
    "ls -l  # list posts"
   ]
  },
  {
   "cell_type": "code",
   "execution_count": 7,
   "metadata": {
    "vscode": {
     "languageId": "shellscript"
    }
   },
   "outputs": [
    {
     "name": "stdout",
     "output_type": "stream",
     "text": [
      "Look for notebooks\n",
      "/home/david/vscode/teacher/_notebooks\n",
      "total 740\n",
      "-rw-r--r-- 1 david david  13014 Aug 22 08:56 2023-08-01-cloud_database.ipynb\n",
      "-rw-r--r-- 1 david david   8992 Aug 22 08:56 2023-08-01-mario_player.ipynb\n",
      "-rw-r--r-- 1 david david  43705 Aug 22 08:56 2023-08-02-cloud-workspace-automation.ipynb\n",
      "-rw-r--r-- 1 david david  22060 Aug 22 08:56 2023-08-03-mario_block.ipynb\n",
      "-rw-r--r-- 1 david david  11791 Aug 22 08:56 2023-08-03-mario_platform.ipynb\n",
      "-rw-r--r-- 1 david david  19450 Aug 22 08:56 2023-08-03-mario_tube.ipynb\n",
      "-rw-r--r-- 1 david david  24387 Aug 22 08:56 2023-08-04-mario_background.ipynb\n",
      "-rw-r--r-- 1 david david   3496 Aug 22 08:56 2023-08-07-mario_lesson.ipynb\n",
      "-rw-r--r-- 1 david david  10110 Aug 22 08:56 2023-08-15-java-hello.ipynb\n",
      "-rw-r--r-- 1 david david  25624 Aug 22 08:56 2023-08-16-github_pages_setup.ipynb\n",
      "-rw-r--r-- 1 david david  16156 Aug 22 08:56 2023-08-16-linux_shell.ipynb\n",
      "-rw-r--r-- 1 david david  11466 Aug 22 08:56 2023-08-16-python_hello.ipynb\n",
      "-rw-r--r-- 1 david david   9425 Aug 22 08:56 2023-08-23-github_pages_anatomy.ipynb\n",
      "-rw-r--r-- 1 david david  22668 Aug 22 08:56 2023-08-23-java-console_games.ipynb\n",
      "-rw-r--r-- 1 david david   9038 Aug 22 08:56 2023-08-23-python_tricks.ipynb\n",
      "-rw-r--r-- 1 david david  10152 Aug 22 08:56 2023-08-30-javascript_top_10.ipynb\n",
      "-rw-r--r-- 1 david david   9689 Aug 22 08:56 2023-08-30-showcase-S1-pair.ipynb\n",
      "-rw-r--r-- 1 david david   7192 Aug 22 08:56 2023-09-05-python-flask-anatomy.ipynb\n",
      "-rw-r--r-- 1 david david  22157 Aug 22 08:56 2023-09-06-AWS-deployment.ipynb\n",
      "-rw-r--r-- 1 david david  14380 Aug 22 08:56 2023-09-06-java-primitives.ipynb\n",
      "-rw-r--r-- 1 david david  11671 Aug 22 08:56 2023-09-06-javascript-input.ipynb\n",
      "-rw-r--r-- 1 david david  13706 Aug 22 08:56 2023-09-12-java_menu_class.ipynb\n",
      "-rw-r--r-- 1 david david   9562 Aug 22 08:56 2023-09-13-java_fibonaccii_class.ipynb\n",
      "-rw-r--r-- 1 david david  44217 Aug 22 08:56 2023-09-13-javascript_output.ipynb\n",
      "-rw-r--r-- 1 david david  43423 Aug 22 08:56 2023-09-13-python-pandas_intro.ipynb\n",
      "-rw-r--r-- 1 david david  11578 Aug 22 08:56 2023-09-20-java-image_2D.ipynb\n",
      "-rw-r--r-- 1 david david  26739 Aug 22 08:56 2023-09-20-javascript_motion_dog.ipynb\n",
      "-rw-r--r-- 1 david david  13599 Aug 22 08:56 2023-10-02-java-spring-anatomy.ipynb\n",
      "-rw-r--r-- 1 david david  12429 Aug 22 08:56 2023-10-09-java-chatgpt.ipynb\n",
      "-rw-r--r-- 1 david david  15632 Aug 22 08:56 2023-10-09-javascript_api.ipynb\n",
      "-rw-r--r-- 1 david david 113091 Aug 22 08:56 2023-10-09-python_machine_learing_fitness.ipynb\n",
      "-rw-r--r-- 1 david david  16271 Aug 22 08:56 2023-11-13-jwt-python-flask.ipynb\n",
      "-rw-r--r-- 1 david david  15951 Aug 22 08:56 2023-11-13-vulnerabilities.ipynb\n",
      "-rw-r--r-- 1 david david  18328 Aug 22 08:56 2023-11-20-jwt-java-spring-challenge.md\n",
      "-rw-r--r-- 1 david david  10745 Aug 22 08:56 2024-01-04-cockpit-setup.ipynb\n",
      "drwxr-xr-x 2 david david   4096 Aug 22 08:56 files\n"
     ]
    }
   ],
   "source": [
    "%%script bash\n",
    "\n",
    "# Extract saved variables\n",
    "source /tmp/variables.sh\n",
    "\n",
    "echo \"Look for notebooks\"\n",
    "export notebooks=$project/_notebooks  # _notebooks is inside project\n",
    "cd $notebooks   # this should exist per fastpages\n",
    "pwd  # present working directory\n",
    "ls -l  # list notebooks"
   ]
  },
  {
   "cell_type": "code",
   "execution_count": 8,
   "metadata": {
    "vscode": {
     "languageId": "shellscript"
    }
   },
   "outputs": [
    {
     "name": "stdout",
     "output_type": "stream",
     "text": [
      "Look for images in notebooks, print working directory, list files\n"
     ]
    },
    {
     "name": "stderr",
     "output_type": "stream",
     "text": [
      "bash: line 6: cd: /images: No such file or directory\n"
     ]
    },
    {
     "name": "stdout",
     "output_type": "stream",
     "text": [
      "/home/david/vscode/CSApages/_notebooks\n",
      "total 40\n",
      "-rw-r--r-- 1 david david   628 Aug 22 13:42 2023-08-17-tools.ipynb\n",
      "-rw-r--r-- 1 david david 10122 Aug 22 13:41 2023-08-21-java-hello.ipynb\n",
      "-rw-r--r-- 1 david david 23480 Aug 22 14:13 2023-08-21-linux_shell.ipynb\n"
     ]
    }
   ],
   "source": [
    "%%script bash\n",
    "\n",
    "# Extract saved variables\n",
    "source /tmp/variables.sh\n",
    "\n",
    "echo \"Look for images in notebooks, print working directory, list files\"\n",
    "cd $notebooks/images  # this should exist per fastpages\n",
    "pwd\n",
    "ls -l"
   ]
  },
  {
   "attachments": {},
   "cell_type": "markdown",
   "metadata": {},
   "source": [
    "### Look inside a Markdown File\n",
    "> \"cat\" reads data from the file and gives its content as output"
   ]
  },
  {
   "cell_type": "code",
   "execution_count": 9,
   "metadata": {
    "vscode": {
     "languageId": "shellscript"
    }
   },
   "outputs": [
    {
     "name": "stdout",
     "output_type": "stream",
     "text": [
      "Navigate to project, then navigate to area wwhere files were cloned\n",
      "show the contents of README.md\n",
      "\n",
      "## Teacher Blog site\n",
      "This site is intended for the development of Teacher content.  This blogging site is built using GitHub Pages [GitHub Pages](https://docs.github.com/en/pages/getting-started-with-github-pages/creating-a-github-pages-site).\n",
      "- The purpose is to build lessons and distribute across different Computer Science sections (CSSE, CSP, CSA), a pathway that covers 3 years of High School Instruction.\n",
      "- The primary languages and frameworks that are taught are `JavaScript/HTML/CSS`, `Python/Flask`, `Java/Spring`.  Read below for more details.\n",
      "- In this course, Teacher content is not exclusively developed by Teachers.  In fact, many Students have been invited to develop and publish content into this repository.  Their names will appear as authors on the content which they aided in producing.\n",
      "- This site has incorporated ideas and has radically modified scripts from the now deprecated [fastpages](https://github.com/fastai/fastpages) repository.\n",
      "- This site includes assistance and guideance from ChatGPT, [chat.openai.com](https://chat.openai.com/) \n",
      "\n",
      "### Courses and Pathway\n",
      "The focus of the Del Norte Computer Science three-year pathway is `Full Stack Web Development`.  This focus provides a variety of technologies and exposures.  The intention of the pathway is breadth and exposure.\n",
      "- `JavaScript` documents are focused on frontend development and for entry class into the Del Norte Computer Science pathway.  JavaScript documents and materials are a prerequisites to Python and Java classes.\n",
      "- `Python` documents are focused on backend development and requirements for the AP Computer Science Principles exam.\n",
      "- `Java` documents are focused on backend development and requirements for the AP Computer Sciene A exam.\n",
      "- `Data Structures` materials embedded into JavaScript, Python, or Java documents are focused on college course articulation.\n",
      "\n",
      "### Resources and Instruction\n",
      "The materials, such as this README, as well as `Tools`, `DevOps`, and `Collaboration` resources are integral part of this course and Computer Science in general.  Everything in our environment is part of our learning of Computer Science. \n",
      "- `Visual Studio Code` is key the code-build-debug cycle editor used in this course, [VSCode download](https://code.visualstudio.com/).  This is an example of a resource, but inside of it it has features for collaboration.\n",
      "- `Tech Talks`, aka lectures, are intended to be interactive and utilize `Jupyter Notebooks` and Websites.  This is an example of blending instruction and tools together, which in turn provide additional resources for learning.  For instance, deep knowledge on  GitHub Pages and Notebooks are valuable in understanding principles behind Full Stack Development and Data Science. \n",
      "\n",
      "## GitHub Pages\n",
      "All `GitHub Pages` websites are managed on GitHub infrastructure. GitHub uses `Jekyll` to tranform your content into static websites and blogs. Each time we change files in GitHub it initiates a GitHub Action that rebuilds and publishes the site with Jekyll.  \n",
      "- GitHub Pages is powered by: [Jekyll](https://jekyllrb.com/).\n",
      "- Publised teacher website: [nighthawkcoders.github.io/teacher](https://nighthawkcoders.github.io/teacher/)\n",
      "\n",
      "## Preparing a Preview Site \n",
      "In all development, it is recommended to test your code before deployment.  The GitHub Pages development process is optimized by testing your development on your local machine, prior to files on GitHub\n",
      "\n",
      "Development Cycle. For GitHub pages, the tooling described below will create a development cycle  `make-code-save-preview`.  In the development cycle, it is a requirement to preview work locally, prior to doing a VSCode `commit` to git.\n",
      "\n",
      "Deployment Cycle.  In the deplopyment cycle, `sync-github-action-review`, it is a requirement to complete the development cycle prior to doing a VSCode `sync`.  The sync triggers github repository update.  The action starts the jekyll build to publish the website.  Any step can have errors and will require you to do a review.\n",
      "\n",
      "### WSL and/or Ubuntu installation requirements\n",
      "- The result of these step is Ubuntu tools to run preview server.  These procedures were created using [jekyllrb.com](https://jekyllrb.com/docs/installation/ubuntu/)\n",
      "```bash\n",
      "# \n",
      "# WSL/Ubuntu setup\n",
      "#\n",
      "mkdir mkdir vscode\n",
      "git clone https://github.com/nighthawkcoders/teacher.git\n",
      "# run script, path vscode/teacher are baked in script\n",
      "~/vscode/teacher/scripts/activate_ubuntu.sh\n",
      "#=== !!!Start a new Terminal!!! ===\n",
      "#=== Continue to next section ===\n",
      "```\n",
      "\n",
      "### MacOs installation requirements \n",
      "- Ihe result of these step are MacOS tools to run preview server.  These procedures were created using [jekyllrb.com](https://jekyllrb.com/docs/installation/macos/). \n",
      "\n",
      "```bash\n",
      "# \n",
      "# MacOS setup\n",
      "#\n",
      "mkdir mkdir vscode\n",
      "git clone https://github.com/nighthawkcoders/teacher.git\n",
      "# run script, path vscode/teacher are baked in script\n",
      "~/vscode/teacher/scripts/activate_macos.sh\n",
      "#=== !!!Start a new Terminal!!! ===\n",
      "#=== Continue to next section ===\n",
      "```\n",
      "\n",
      "\n",
      "### Run Preview Server\n",
      "- The result of these step is server running on: http://0.0.0.0:4100/teacher/.  Regeneration messages will run in terminal on any save and update site upon refresh.  Terminal is active, press the Enter or Return key in the terminal at any time to see prompt to enter commands.\n",
      "\n",
      "- Complete installation\n",
      "```bash\n",
      "cd ~/vscode/teacher\n",
      "bundle install\n",
      "make\n",
      "```\n",
      "- Run Server.  This requires running terminal commands `make`, `make stop`, `make clean`, or `make convert` to manage the running server.  Logging of details will appear in terminal.   A `Makefile` has been created in project to support commands and start processes.\n",
      "\n",
      "    - Start preview server in terminal\n",
      "    ```bash\n",
      "    cd ~/vscode/teacher  # my project location, adapt as necessary\n",
      "    make\n",
      "    ```\n",
      "\n",
      "    - Terminal output of shows server address. Cmd or Ctl click http location to open preview server in browser. Example Server address message... \n",
      "    ```\n",
      "    Server address: http://0.0.0.0:4100/teacher/\n",
      "    ```\n",
      "\n",
      "    - Save on ipynb or md activiates \"regeneration\". Refresh browser to see updates. Example terminal message...\n",
      "    ```\n",
      "    Regenerating: 1 file(s) changed at 2023-07-31 06:54:32\n",
      "        _notebooks/2024-01-04-cockpit-setup.ipynb\n",
      "    ```\n",
      "\n",
      "    - Terminal message are generated from background processes.  Click return or enter to obtain prompt and use terminal as needed for other tasks.  Alway return to root of project `cd ~/vscode/teacher` for all \"make\" actions. \n",
      "        \n",
      "\n",
      "    - Stop preview server, but leave constructed files in project for your review.\n",
      "    ```bash\n",
      "    make stop\n",
      "    ```\n",
      "\n",
      "    - Stop server and \"clean\" constructed files, best choice when renaming files to eliminate potential duplicates in constructed files.\n",
      "    ```bash\n",
      "    make clean\n",
      "    ```\n",
      "\n",
      "    - Test notebook conversions, best choice to see if IPYNB conversion is acting up.\n",
      "    ```bash\n",
      "    make convert\n",
      "    ```\n",
      "    \n",
      "end of README.md\n"
     ]
    }
   ],
   "source": [
    "%%script bash\n",
    "\n",
    "# Extract saved variables\n",
    "source /tmp/variables.sh\n",
    "\n",
    "echo \"Navigate to project, then navigate to area wwhere files were cloned\"\n",
    "\n",
    "cd $project\n",
    "echo \"show the contents of README.md\"\n",
    "echo \"\"\n",
    "\n",
    "cat README.md  # show contents of file, in this case markdown\n",
    "echo \"\"\n",
    "echo \"end of README.md\"\n"
   ]
  },
  {
   "attachments": {},
   "cell_type": "markdown",
   "metadata": {},
   "source": [
    "## Env, Git and GitHub\n",
    "> Environment is used to capture things like path to Code or Home directory.  Git and GitHub is NOT Only used to exchange code between individuals, it is often used to exchange code through servers, in our case deployment for Website.   All tools we use have a behind the scenes relationships with the system they run on (MacOS, Windows, Linus) or a relationship with servers which they are connected to (ie GitHub).  There is an \"env\" command in bash.  There are environment files and setting files (.git/config) for Git.  They both use a key/value concept.\n",
    "\n",
    "- \"env\" show setting for your shell\n",
    "- \"git clone\" sets up a director of files\n",
    "- \"cd $project\" allows user to move inside that directory of files\n",
    "- \".git\" is a hidden directory that is used by git to establish relationship between machine and the git server on GitHub.  "
   ]
  },
  {
   "cell_type": "code",
   "execution_count": 10,
   "metadata": {
    "vscode": {
     "languageId": "shellscript"
    }
   },
   "outputs": [
    {
     "name": "stdout",
     "output_type": "stream",
     "text": [
      "Show the shell environment variables, key on left of equal value on right\n",
      "\n",
      "SHELL=/bin/bash\n",
      "PYTHONUNBUFFERED=1\n",
      "WSL2_GUI_APPS_ENABLED=1\n",
      "CONDA_EXE=/home/david/anaconda3/bin/conda\n",
      "_CE_M=\n",
      "APPLICATION_INSIGHTS_NO_DIAGNOSTIC_CHANNEL=1\n",
      "WSL_DISTRO_NAME=Ubuntu\n",
      "ELECTRON_RUN_AS_NODE=1\n",
      "VSCODE_AMD_ENTRYPOINT=vs/workbench/api/node/extensionHostProcess\n",
      "NAME=Code\n",
      "PWD=/home/david/vscode/CSApages/_notebooks\n",
      "LOGNAME=david\n",
      "CONDA_ROOT=/home/david/anaconda3\n",
      "CONDA_PREFIX=/home/david/anaconda3\n",
      "PYDEVD_IPYTHON_COMPATIBLE_DEBUGGING=1\n",
      "MOTD_SHOWN=update-motd\n",
      "HOME=/home/david\n",
      "LANG=C.UTF-8\n",
      "WSL_INTEROP=/run/WSL/24013_interop\n",
      "LS_COLORS=rs=0:di=01;34:ln=01;36:mh=00:pi=40;33:so=01;35:do=01;35:bd=40;33;01:cd=40;33;01:or=40;31;01:mi=00:su=37;41:sg=30;43:ca=30;41:tw=30;42:ow=34;42:st=37;44:ex=01;32:*.tar=01;31:*.tgz=01;31:*.arc=01;31:*.arj=01;31:*.taz=01;31:*.lha=01;31:*.lz4=01;31:*.lzh=01;31:*.lzma=01;31:*.tlz=01;31:*.txz=01;31:*.tzo=01;31:*.t7z=01;31:*.zip=01;31:*.z=01;31:*.dz=01;31:*.gz=01;31:*.lrz=01;31:*.lz=01;31:*.lzo=01;31:*.xz=01;31:*.zst=01;31:*.tzst=01;31:*.bz2=01;31:*.bz=01;31:*.tbz=01;31:*.tbz2=01;31:*.tz=01;31:*.deb=01;31:*.rpm=01;31:*.jar=01;31:*.war=01;31:*.ear=01;31:*.sar=01;31:*.rar=01;31:*.alz=01;31:*.ace=01;31:*.zoo=01;31:*.cpio=01;31:*.7z=01;31:*.rz=01;31:*.cab=01;31:*.wim=01;31:*.swm=01;31:*.dwm=01;31:*.esd=01;31:*.jpg=01;35:*.jpeg=01;35:*.mjpg=01;35:*.mjpeg=01;35:*.gif=01;35:*.bmp=01;35:*.pbm=01;35:*.pgm=01;35:*.ppm=01;35:*.tga=01;35:*.xbm=01;35:*.xpm=01;35:*.tif=01;35:*.tiff=01;35:*.png=01;35:*.svg=01;35:*.svgz=01;35:*.mng=01;35:*.pcx=01;35:*.mov=01;35:*.mpg=01;35:*.mpeg=01;35:*.m2v=01;35:*.mkv=01;35:*.webm=01;35:*.webp=01;35:*.ogm=01;35:*.mp4=01;35:*.m4v=01;35:*.mp4v=01;35:*.vob=01;35:*.qt=01;35:*.nuv=01;35:*.wmv=01;35:*.asf=01;35:*.rm=01;35:*.rmvb=01;35:*.flc=01;35:*.avi=01;35:*.fli=01;35:*.flv=01;35:*.gl=01;35:*.dl=01;35:*.xcf=01;35:*.xwd=01;35:*.yuv=01;35:*.cgm=01;35:*.emf=01;35:*.ogv=01;35:*.ogx=01;35:*.aac=00;36:*.au=00;36:*.flac=00;36:*.m4a=00;36:*.mid=00;36:*.midi=00;36:*.mka=00;36:*.mp3=00;36:*.mpc=00;36:*.ogg=00;36:*.ra=00;36:*.wav=00;36:*.oga=00;36:*.opus=00;36:*.spx=00;36:*.xspf=00;36:\n",
      "WAYLAND_DISPLAY=wayland-0\n",
      "FORCE_COLOR=1\n",
      "CONDA_PROMPT_MODIFIER=(base) \n",
      "PYDEVD_USE_FRAME_EVAL=NO\n",
      "CLICOLOR=1\n",
      "VSCODE_L10N_BUNDLE_LOCATION=\n",
      "CLICOLOR_FORCE=1\n",
      "LESSCLOSE=/usr/bin/lesspipe %s %s\n",
      "VSCODE_HANDLES_SIGPIPE=true\n",
      "TERM=xterm-color\n",
      "_CE_CONDA=\n",
      "LESSOPEN=| /usr/bin/lesspipe %s\n",
      "USER=david\n",
      "GIT_PAGER=cat\n",
      "PYTHONIOENCODING=utf-8\n",
      "CONDA_SHLVL=1\n",
      "DISPLAY=:0\n",
      "SHLVL=3\n",
      "PAGER=cat\n",
      "VSCODE_CWD=/mnt/c/Users/David/AppData/Local/Programs/Microsoft VS Code\n",
      "MPLBACKEND=module://matplotlib_inline.backend_inline\n",
      "CONDA_PYTHON_EXE=/home/david/anaconda3/bin/python\n",
      "XDG_RUNTIME_DIR=/run/user/1000/\n",
      "CONDA_DEFAULT_ENV=base\n",
      "CONDA_ALLOW_SOFTLINKS=false\n",
      "WSLENV=ELECTRON_RUN_AS_NODE/w:\n",
      "\n",
      "VSCODE_WSL_EXT_LOCATION=/mnt/c/Users/David/.vscode/extensions/ms-vscode-remote.remote-wsl-0.81.0\n",
      "XDG_DATA_DIRS=/usr/local/share:/usr/share:/var/lib/snapd/desktop\n",
      "PATH=/home/david/anaconda3/bin:/home/david/anaconda3/condabin:/home/david/anaconda3/bin:/usr/local/sbin:/usr/local/bin:/usr/sbin:/usr/bin:/sbin:/bin:/usr/games:/usr/local/games:/usr/lib/wsl/lib:/mnt/c/Windows/system32:/mnt/c/Windows:/mnt/c/Windows/System32/Wbem:/mnt/c/Windows/System32/WindowsPowerShell/v1.0:/mnt/c/Windows/System32/OpenSSH:/Docker/host/bin:/mnt/c/Users/David/AppData/Local/Microsoft/WindowsApps:/mnt/c/Users/David/AppData/Local/Programs/Microsoft VS Code/bin:/snap/bin\n",
      "DBUS_SESSION_BUS_ADDRESS=unix:path=/run/user/1000/bus\n",
      "VSCODE_NLS_CONFIG={\"locale\":\"en\",\"osLocale\":\"en\",\"availableLanguages\":{}}\n",
      "HOSTTYPE=x86_64\n",
      "PULSE_SERVER=unix:/mnt/wslg/PulseServer\n",
      "VSCODE_HANDLES_UNCAUGHT_ERRORS=true\n",
      "VSCODE_IPC_HOOK_CLI=/run/user/1000/vscode-ipc-e9a6530b-9f4f-4d64-b64f-1024c95cf91a.sock\n",
      "_=/usr/bin/env\n"
     ]
    }
   ],
   "source": [
    "%%script bash\n",
    "\n",
    "# This command has no dependencies\n",
    "\n",
    "echo \"Show the shell environment variables, key on left of equal value on right\"\n",
    "echo \"\"\n",
    "\n",
    "env"
   ]
  },
  {
   "cell_type": "code",
   "execution_count": 11,
   "metadata": {
    "vscode": {
     "languageId": "shellscript"
    }
   },
   "outputs": [
    {
     "name": "stdout",
     "output_type": "stream",
     "text": [
      "\n",
      "show the secrets of .git\n",
      "total 56\n",
      "-rw-r--r-- 1 david david   102 Aug 22 12:19 FETCH_HEAD\n",
      "-rw-r--r-- 1 david david    21 Aug 22 08:56 HEAD\n",
      "drwxr-xr-x 2 david david  4096 Aug 22 08:56 branches\n",
      "-rw-r--r-- 1 david david   267 Aug 22 08:56 config\n",
      "-rw-r--r-- 1 david david    73 Aug 22 08:56 description\n",
      "drwxr-xr-x 2 david david  4096 Aug 22 08:56 hooks\n",
      "-rw-r--r-- 1 david david 11702 Aug 22 08:56 index\n",
      "drwxr-xr-x 2 david david  4096 Aug 22 08:56 info\n",
      "drwxr-xr-x 3 david david  4096 Aug 22 08:56 logs\n",
      "drwxr-xr-x 4 david david  4096 Aug 22 12:19 objects\n",
      "-rw-r--r-- 1 david david   112 Aug 22 08:56 packed-refs\n",
      "drwxr-xr-x 5 david david  4096 Aug 22 08:56 refs\n",
      "\n",
      "look at config file\n",
      "[core]\n",
      "\trepositoryformatversion = 0\n",
      "\tfilemode = true\n",
      "\tbare = false\n",
      "\tlogallrefupdates = true\n",
      "[remote \"origin\"]\n",
      "\turl = https://github.com/nighthawkcoders/teacher.git\n",
      "\tfetch = +refs/heads/*:refs/remotes/origin/*\n",
      "[branch \"main\"]\n",
      "\tremote = origin\n",
      "\tmerge = refs/heads/main\n"
     ]
    }
   ],
   "source": [
    "%%script bash\n",
    "\n",
    "# Extract saved variables\n",
    "source /tmp/variables.sh\n",
    "\n",
    "cd $project\n",
    "\n",
    "echo \"\"\n",
    "echo \"show the secrets of .git\"\n",
    "cd .git\n",
    "ls -l\n",
    "\n",
    "echo \"\"\n",
    "echo \"look at config file\"\n",
    "cat config"
   ]
  },
  {
   "attachments": {},
   "cell_type": "markdown",
   "metadata": {},
   "source": [
    "## Advanced Student Request - Make a file in Bash\n",
    "> This example was requested by a student (Jun Lim, CSA). The request was to make jupyter file using bash, I adapted the request to markdown.  This type of thought will have great extrapolation to coding and possibilities of using List, Arrays, or APIs to build user interfaces.  JavaScript is a language where building HTML is very common.\n",
    "\n",
    "> To get more interesting output from terminal, this will require using something like mdless (https://github.com/ttscoff/mdless).  This enables see markdown in rendered format.\n",
    "- On Desktop [Install PKG from MacPorts](https://www.macports.org/install.php)\n",
    "- In Terminal on MacOS\n",
    "    - [Install ncurses](https://ports.macports.org/port/ncurses/)\n",
    "    - ```gem install mdless```\n",
    "    \n",
    "> Output of the example is much nicer in \"jupyter\""
   ]
  },
  {
   "cell_type": "code",
   "execution_count": 13,
   "metadata": {
    "vscode": {
     "languageId": "shellscript"
    }
   },
   "outputs": [
    {
     "name": "stdout",
     "output_type": "stream",
     "text": [
      "\n",
      "File listing and status\n",
      "-rw-r--r-- 1 david david 809 Aug 22 14:18 sample.md\n",
      " 15 132 809 sample.md\n",
      "\n",
      "\u001b[0m\u001b[0;1;47;90mShow Generated Markdown \u001b[0;2;30;47m========================================================\u001b[0m\n",
      "\n",
      "This introductory paragraph and this line and the title above are generated\n",
      "using tee with the standard input (<<) redirection operator.\n",
      "\u001b[0;1;91m- \u001b[0;1;91m\u001b[0;97mThis \u001b[0;97mbulleted \u001b[0;97melement \u001b[0;97mis \u001b[0;97mstill \u001b[0;97mpart \u001b[0;97mof \u001b[0;97mthe \u001b[0;97mtee \u001b[0;97mbody.\n",
      "\u001b[0;1;91m- \u001b[0;1;91m\u001b[0;97mThis \u001b[0;97mbulleted \u001b[0;97melement \u001b[0;97mand \u001b[0;97mlines \u001b[0;97mbelow \u001b[0;97mare \u001b[0;97mgenerated \u001b[0;97musing \u001b[0;97mecho \u001b[0;97mwith \u001b[0;97mstandard\n",
      "\u001b[0;97moutput \u001b[0;97m(>>) \u001b[0;97mredirection \u001b[0;97moperator.\n",
      "\u001b[0;1;91m- \u001b[0;1;91m\u001b[0;97mThe \u001b[0;97mlist \u001b[0;97mdefinition, \u001b[0;97mas \u001b[0;97mis, \u001b[0;97mis \u001b[0;97musing \u001b[0;97mspace \u001b[0;97mto \u001b[0;97mseperate \u001b[0;97mlines. \u001b[0;97mThus \u001b[0;97mthe \u001b[0;97muse \u001b[0;97mof\n",
      "\u001b[0;97mcommas \u001b[0;97mand \u001b[0;97mhyphens \u001b[0;97min \u001b[0;97moutput.\n",
      "      \u001b[0;1;91m- \u001b[0;1;91m\u001b[0;97mls: \u001b[0;97mlist \u001b[0;97mdirectory\n",
      "      \u001b[0;1;91m- \u001b[0;1;91m\u001b[0;97mcd: \u001b[0;97mchange \u001b[0;97mdirectory\n",
      "      \u001b[0;1;91m- \u001b[0;1;91m\u001b[0;97mpwd: \u001b[0;97mpresent \u001b[0;97mworking \u001b[0;97mdirectory\n",
      "      \u001b[0;1;91m- \u001b[0;1;91m\u001b[0;97mif \u001b[0;97mthen \u001b[0;97mfi: \u001b[0;97mtest \u001b[0;97mcondition\n",
      "      \u001b[0;1;91m- \u001b[0;1;91m\u001b[0;97menv: \u001b[0;97mbash \u001b[0;97menvironment \u001b[0;97mvariables\n",
      "      \u001b[0;1;91m- \u001b[0;1;91m\u001b[0;97mcat: \u001b[0;97mview \u001b[0;97mfile \u001b[0;97mcontents\n",
      "      \u001b[0;1;91m- \u001b[0;1;91m\u001b[0;97mtee: \u001b[0;97mwrite \u001b[0;97mto \u001b[0;97moutput\n",
      "      \u001b[0;1;91m- \u001b[0;1;91m\u001b[0;97mecho: \u001b[0;97mdisplay \u001b[0;97mcontent \u001b[0;97mof \u001b[0;97mstring\n",
      "      \u001b[0;1;91m- \u001b[0;1;91m\u001b[0;97mecho \u001b[0;97m\"sample \u001b[0;97mtext\" \u001b[0;97m>$file: \u001b[0;97mwrite \u001b[0;97mcontent \u001b[0;97mto \u001b[0;97mfile\n",
      "      \u001b[0;1;91m- \u001b[0;1;91m\u001b[0;97mecho \u001b[0;97m\"sample \u001b[0;97mtext\" \u001b[0;97m>>$file: \u001b[0;97mappend \u001b[0;97mcontent \u001b[0;97mto \u001b[0;97mfile\n",
      "\n",
      "\u001b[0m"
     ]
    }
   ],
   "source": [
    "%%script bash\n",
    "\n",
    "# This example has error in VSCode, it run best on Jupyter\n",
    "cd /tmp\n",
    "\n",
    "file=\"sample.md\"\n",
    "if [ -f \"$file\" ]; then\n",
    "    rm $file\n",
    "fi\n",
    "\n",
    "tee -a $file >/dev/null <<EOF\n",
    "# Show Generated Markdown\n",
    "This introductory paragraph and this line and the title above are generated using tee with the standard input (<<) redirection operator.\n",
    "- This bulleted element is still part of the tee body.\n",
    "EOF\n",
    "\n",
    "echo \"- This bulleted element and lines below are generated using echo with standard output (>>) redirection operator.\" >> $file\n",
    "echo \"- The list definition, as is, is using space to seperate lines.  Thus the use of commas and hyphens in output.\" >> $file\n",
    "actions=(\"ls,list-directory\" \"cd,change-directory\" \"pwd,present-working-directory\" \"if-then-fi,test-condition\" \"env,bash-environment-variables\" \"cat,view-file-contents\" \"tee,write-to-output\" \"echo,display-content-of-string\" \"echo_text_>\\$file,write-content-to-file\" \"echo_text_>>\\$file,append-content-to-file\")\n",
    "for action in ${actions[@]}; do  # for loop is very similar to other language, though [@], semi-colon, do are new\n",
    "  action=${action//-/ }  # convert dash to space\n",
    "  action=${action//,/: } # convert comma to colon\n",
    "  action=${action//_text_/ \\\"sample text\\\" } # convert _text_ to sample text, note escape character \\ to avoid \"\" having meaning\n",
    "  echo \"    - ${action//-/ }\" >> $file  # echo is redirected to file with >>\n",
    "done\n",
    "\n",
    "echo \"\"\n",
    "echo \"File listing and status\"\n",
    "ls -l $file # list file\n",
    "wc $file   # show words\n",
    "mdless $file  # this requires installation, but renders markown from terminal\n",
    "\n",
    "rm $file  # clean up termporary file"
   ]
  },
  {
   "attachments": {},
   "cell_type": "markdown",
   "metadata": {},
   "source": [
    "## Hack Preparation.\n",
    "> Review Tool Setup Procedures and think about some thing you could verify through a Shell notebook.\n",
    "- Come up with your own student view of this procedure to show your tools are installed.  It is best that you keep the few things you understand, add things later as you start to understand them.\n",
    "- Name and create blog notes on some Linux commands you will use frequently.\n",
    "- Is there anything we use to verify tools we installed? Review versions?\n",
    "- How would you update a repository?  Use the git command line? \n"
   ]
  },
  {
   "cell_type": "code",
   "execution_count": 1,
   "metadata": {
    "vscode": {
     "languageId": "shellscript"
    }
   },
   "outputs": [
    {
     "name": "stdout",
     "output_type": "stream",
     "text": [
      "Finding Ubuntu Version:\n"
     ]
    },
    {
     "name": "stderr",
     "output_type": "stream",
     "text": [
      "No LSB modules are available.\n"
     ]
    },
    {
     "name": "stdout",
     "output_type": "stream",
     "text": [
      "Distributor ID:\tUbuntu\n",
      "Description:\tUbuntu 22.04.3 LTS\n",
      "Release:\t22.04\n",
      "Codename:\tjammy\n",
      "\n",
      "Getting Github Info:\n",
      "DavidVasilev1\n",
      "davidkvasilev@gmail.com\n",
      "\n",
      "Testing Python:\n",
      "Python is already installed.\n",
      "Python 3.11.4\n",
      "\n",
      "Testing Ruby:\n",
      "Ruby is already installed.\n",
      "ruby 3.0.2p107 (2021-07-07 revision 0db68f0233) [x86_64-linux-gnu]\n",
      "\n",
      "Testing Jupyter:\n",
      "Jupyter is already installed.\n",
      "Selected Jupyter core packages...\n",
      "IPython          : 8.12.0\n",
      "ipykernel        : 6.19.2\n",
      "ipywidgets       : 8.0.4\n",
      "jupyter_client   : 7.4.9\n",
      "jupyter_core     : 5.3.0\n",
      "jupyter_server   : 1.23.4\n",
      "jupyterlab       : 3.6.3\n",
      "nbclient         : 0.5.13\n",
      "nbconvert        : 6.5.4\n",
      "nbformat         : 5.7.0\n",
      "notebook         : 6.5.4\n",
      "qtconsole        : 5.4.2\n",
      "traitlets        : 5.7.1\n"
     ]
    },
    {
     "name": "stderr",
     "output_type": "stream",
     "text": [
      "0.00s - Debugger warning: It seems that frozen modules are being used, which may\n",
      "0.00s - make the debugger miss breakpoints. Please pass -Xfrozen_modules=off\n",
      "0.00s - to python to disable frozen modules.\n",
      "0.00s - Note: Debugging will proceed. Set PYDEVD_DISABLE_FILE_VALIDATION=1 to disable this validation.\n"
     ]
    },
    {
     "name": "stdout",
     "output_type": "stream",
     "text": [
      "Available kernels:\n",
      "  java       /home/david/.local/share/jupyter/kernels/java\n",
      "  python3    /home/david/anaconda3/share/jupyter/kernels/python3\n",
      "\n",
      "Testing Bundler:\n",
      "Bundler is already installed.\n",
      "Bundler version 2.4.19\n",
      "\n"
     ]
    }
   ],
   "source": [
    "%%script bash\n",
    "\n",
    "echo \"Finding Ubuntu Version:\"\n",
    "lsb_release -a\n",
    "echo\n",
    "\n",
    "echo \"Getting Github Info:\"\n",
    "git config --global --get user.name\n",
    "git config --global --get user.email\n",
    "echo\n",
    "\n",
    "echo \"Testing Python:\"\n",
    "if command -v python3 &>/dev/null; then\n",
    "    echo \"Python is already installed.\"\n",
    "    python3 --version\n",
    "else\n",
    "    echo \"Installing Python...\"\n",
    "    sudo apt install -y python3\n",
    "fi\n",
    "echo\n",
    "\n",
    "echo \"Testing Ruby:\"\n",
    "if command -v ruby &>/dev/null; then\n",
    "    echo \"Ruby is already installed.\"\n",
    "    ruby -v\n",
    "else\n",
    "    echo \"Installing Ruby...\"\n",
    "    sudo apt install -y ruby-full build-essential zlib1g-dev\n",
    "fi\n",
    "echo\n",
    "\n",
    "echo \"Testing Jupyter:\"\n",
    "if command -v jupyter-notebook &>/dev/null; then\n",
    "    echo \"Jupyter is already installed.\"\n",
    "    jupyter --version\n",
    "    jupyter kernelspec list\n",
    "else\n",
    "    echo \"Installing Jupyter...\"\n",
    "    sudo apt-get install -y jupyter-notebook\n",
    "fi\n",
    "echo\n",
    "\n",
    "echo \"Testing Bundler:\"\n",
    "if command -v jekyll bundler &>/dev/null; then\n",
    "    echo \"Bundler is already installed.\"\n",
    "    bundler --version\n",
    "else\n",
    "    echo \"Installing Bundler...\"\n",
    "    export GEM_HOME=\"$HOME/gems\"\n",
    "    export PATH=\"$HOME/gems/bin:$PATH\"\n",
    "    echo 'export GEM_HOME=\"$HOME/gems\"' >> ~/.bashrc\n",
    "    echo 'export PATH=\"$HOME/gems/bin:$PATH\"' >> ~/.bashrc\n",
    "    gem install jekyll bundler\n",
    "fi\n",
    "echo"
   ]
  }
 ],
 "metadata": {
  "kernelspec": {
   "display_name": "Python 3.10.6 64-bit",
   "language": "python",
   "name": "python3"
  },
  "language_info": {
   "codemirror_mode": {
    "name": "ipython",
    "version": 3
   },
   "file_extension": ".py",
   "mimetype": "text/x-python",
   "name": "python",
   "nbconvert_exporter": "python",
   "pygments_lexer": "ipython3",
   "version": "3.11.4"
  },
  "vscode": {
   "interpreter": {
    "hash": "aee8b7b246df8f9039afb4144a1f6fd8d2ca17a180786b69acc140d282b71a49"
   }
  }
 },
 "nbformat": 4,
 "nbformat_minor": 2
}
