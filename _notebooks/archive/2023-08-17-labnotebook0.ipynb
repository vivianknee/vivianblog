{
 "cells": [
  {
   "cell_type": "markdown",
   "metadata": {},
   "source": [
    "---\n",
    "- title: Lab Notebook 0\n",
    "- author: david\n",
    "- categories: [Lab Notebook]\n",
    "- tags: [Linux, Bash]\n",
    "- type: tangibles\n",
    "- week: 0 \n",
    "- description: Week 0 lab work.\n",
    "- toc: true\n",
    "- comments: true\n",
    "- date: 2023-08-18 12:00:00 +0000\n",
    "---"
   ]
  },
  {
   "cell_type": "markdown",
   "metadata": {},
   "source": [
    "## Main Tools\n",
    "\n",
    "There are many tools that are used in CSA, however there are some major tools that are needed to succeed, including:\n",
    "- WSL - Windows Subsystems for Linux\n",
    "- VSCode - Coding Program\n",
    "- Github - Online Storage and Hosting for Code\n",
    "- Python - Coding Language for Projects\n",
    "- Java - Coding Language for Projects\n",
    "- Jekyll - Website Building and Structure\n",
    "- Ruby - Coding Language for Local Hosting\n",
    "- Jupyter - Blogging Tool\n",
    "\n",
    "![tools](/assets/img/post_images/tools.png)"
   ]
  },
  {
   "cell_type": "markdown",
   "metadata": {},
   "source": [
    "### WSL - Windows Subsystems for Linux\n",
    "\n",
    "This is essentially a virtual machine that is run in Windows that is used to host a Linux environment which can be accessed through powershell. This is what we use to access VSCode and where we install python and other important tools because of the simplicity of Ubuntu Linux. In order to access WSL, you can type wsl in powershell after you have installed it in order to start the server."
   ]
  },
  {
   "cell_type": "markdown",
   "metadata": {},
   "source": [
    "### VSCode - Coding Program\n",
    "\n",
    "VSCode is where we write all of our code. VSCode's user-friendly interface is what makes it extremely easy to use and plugins that are installed within VSCode allow for server hosting and running different languages. Code can also be debugged in this program easily and errors with in the code can be found. VSCode also has a feature to connect to WSL in order to run files inside the WSL server, allowing us to entirely use Linux when programming."
   ]
  },
  {
   "cell_type": "markdown",
   "metadata": {},
   "source": [
    "### Github - Online Storage and Hosting for Code\n",
    "\n",
    "This is another very important tool to which code is uploaded and can be shared with peers. Websites can also be hosted on Github using Github pages and code can easily be transferred between devices with cloning, pushing, and pulling. Github also allows for the creation of organizations, or groups, which are extremely useful when creating scrum boards and team repositories off of which team members can work. This is valuable and essential to collaboration in all of computer science."
   ]
  },
  {
   "cell_type": "markdown",
   "metadata": {},
   "source": [
    "### Python - Coding Language for Projects\n",
    "\n",
    "This is arguably the best and most simple coding language to begin with, as it has an extremely simply structure and requires very little to get started. This language can be used from printing simple phrases with ```print()``` all the way to hosting flask based servers on which apis and databases are created and stored, which when paired with AWS servers, can be extremely powerful in data collection and management."
   ]
  },
  {
   "cell_type": "markdown",
   "metadata": {},
   "source": [
    "### Java - Coding Language for Projects\n",
    "\n",
    "This language is another interesting, yet more advanced language for coding. It has pretty much the same uses as Python, with it's ability to print statements to managing large apis and databases. It is however the most universal and common language run in any device, from CD players to quantum computers. This language is more compact than Python and also allows for better integration with a wider variety of products."
   ]
  },
  {
   "cell_type": "markdown",
   "metadata": {},
   "source": [
    "### Jekyll - Website Building and Structure\n",
    "\n",
    "This tool is important to building websites with external themes. It allows themes, such as mine (chirpy), to be imported from source files and built in my own environment. This is especially important to have with Github Pages, where you might want to customize your theme. You can also use liquid in order to organize your code so that you can import from certain folders and also have page layouts that are pre-coded. With this your code can be short and organized while still having the complexity of other websites."
   ]
  },
  {
   "cell_type": "markdown",
   "metadata": {},
   "source": [
    "### Ruby - Coding Language for Local Hosting\n",
    "\n",
    "Ruby is a very important tool when it come to developing with Jekyll, as it is used to install and manage the libraries required by Jekyll in order to run local servers. Ruby is good at hosting local server environments, which are important with web development, in which you need to see the results of your work at an instant in order to make changes accordingly."
   ]
  },
  {
   "cell_type": "markdown",
   "metadata": {},
   "source": [
    "### Jupyter - Blogging Tool\n",
    "\n",
    "This is a very important tool with creating blogs, in which you might need to insert run pieces of code. Jupyter allows for kernels to be installed which are environments that interpret specific languages. For example, the python kernel is used to run python code in the code cells of a Jupyter Notebook. The same is for Java and many other languages such as HTML, CSS, JS, Bash, LaTex, and many more."
   ]
  },
  {
   "cell_type": "markdown",
   "metadata": {},
   "source": [
    "### Tools Script\n",
    "\n",
    "Below is a script that can be run to install the most important tools needed in a WSL environment."
   ]
  },
  {
   "cell_type": "code",
   "execution_count": 2,
   "metadata": {
    "vscode": {
     "languageId": "shellscript"
    }
   },
   "outputs": [
    {
     "name": "stdout",
     "output_type": "stream",
     "text": [
      "Finding Ubuntu Version:\n"
     ]
    },
    {
     "name": "stderr",
     "output_type": "stream",
     "text": [
      "No LSB modules are available.\n"
     ]
    },
    {
     "name": "stdout",
     "output_type": "stream",
     "text": [
      "Distributor ID:\tUbuntu\n",
      "Description:\tUbuntu 22.04.3 LTS\n",
      "Release:\t22.04\n",
      "Codename:\tjammy\n",
      "\n",
      "Getting Github Info:\n",
      "DavidVasilev1\n",
      "davidkvasilev@gmail.com\n",
      "\n",
      "Testing Python:\n",
      "Python is already installed.\n",
      "Python 3.11.4\n",
      "\n",
      "Testing Ruby:\n",
      "Ruby is already installed.\n",
      "ruby 3.0.2p107 (2021-07-07 revision 0db68f0233) [x86_64-linux-gnu]\n",
      "\n",
      "Testing Jupyter:\n",
      "Jupyter is already installed.\n",
      "Selected Jupyter core packages...\n",
      "IPython          : 8.12.0\n",
      "ipykernel        : 6.19.2\n",
      "ipywidgets       : 8.0.4\n",
      "jupyter_client   : 7.4.9\n",
      "jupyter_core     : 5.3.0\n",
      "jupyter_server   : 1.23.4\n",
      "jupyterlab       : 3.6.3\n",
      "nbclient         : 0.5.13\n",
      "nbconvert        : 6.5.4\n",
      "nbformat         : 5.7.0\n",
      "notebook         : 6.5.4\n",
      "qtconsole        : 5.4.2\n",
      "traitlets        : 5.7.1\n"
     ]
    },
    {
     "name": "stderr",
     "output_type": "stream",
     "text": [
      "0.00s - Debugger warning: It seems that frozen modules are being used, which may\n",
      "0.00s - make the debugger miss breakpoints. Please pass -Xfrozen_modules=off\n",
      "0.00s - to python to disable frozen modules.\n",
      "0.00s - Note: Debugging will proceed. Set PYDEVD_DISABLE_FILE_VALIDATION=1 to disable this validation.\n"
     ]
    },
    {
     "name": "stdout",
     "output_type": "stream",
     "text": [
      "Available kernels:\n",
      "  java       /home/david/.local/share/jupyter/kernels/java\n",
      "  python3    /home/david/anaconda3/share/jupyter/kernels/python3\n",
      "\n",
      "Testing Bundler:\n",
      "Bundler is already installed.\n",
      "Bundler version 2.4.19\n",
      "\n"
     ]
    }
   ],
   "source": [
    "%%script bash\n",
    "\n",
    "# Checking Ubuntu Version\n",
    "echo \"Finding Ubuntu Version:\"\n",
    "lsb_release -a\n",
    "echo\n",
    "\n",
    "# Checking that Github Info is Correct\n",
    "echo \"Getting Github Info:\"\n",
    "git config --global --get user.name\n",
    "git config --global --get user.email\n",
    "echo\n",
    "\n",
    "# Checking if Python is installed and installing if needed\n",
    "echo \"Testing Python:\"\n",
    "if command -v python3 &>/dev/null; then\n",
    "    echo \"Python is already installed.\"\n",
    "    python3 --version\n",
    "else\n",
    "    echo \"Installing Python...\"\n",
    "    sudo apt install -y python3\n",
    "fi\n",
    "echo\n",
    "\n",
    "# Checking if Ruby is installed and installing if needed\n",
    "echo \"Testing Ruby:\"\n",
    "if command -v ruby &>/dev/null; then\n",
    "    echo \"Ruby is already installed.\"\n",
    "    ruby -v\n",
    "else\n",
    "    echo \"Installing Ruby...\"\n",
    "    sudo apt install -y ruby-full build-essential zlib1g-dev\n",
    "fi\n",
    "echo\n",
    "\n",
    "# Checking if Jupyter is installed and installing if needed\n",
    "echo \"Testing Jupyter:\"\n",
    "if command -v jupyter-notebook &>/dev/null; then\n",
    "    echo \"Jupyter is already installed.\"\n",
    "    jupyter --version\n",
    "    jupyter kernelspec list\n",
    "else\n",
    "    echo \"Installing Jupyter...\"\n",
    "    sudo apt-get install -y jupyter-notebook\n",
    "fi\n",
    "echo\n",
    "\n",
    "# Checking if Bundler (a part of ruby) is installed and installing if needed\n",
    "echo \"Testing Bundler:\"\n",
    "if command -v jekyll bundler &>/dev/null; then\n",
    "    echo \"Bundler is already installed.\"\n",
    "    bundler --version\n",
    "else\n",
    "    echo \"Installing Bundler...\"\n",
    "    export GEM_HOME=\"$HOME/gems\"\n",
    "    export PATH=\"$HOME/gems/bin:$PATH\"\n",
    "    echo 'export GEM_HOME=\"$HOME/gems\"' >> ~/.bashrc\n",
    "    echo 'export PATH=\"$HOME/gems/bin:$PATH\"' >> ~/.bashrc\n",
    "    gem install jekyll bundler\n",
    "fi\n",
    "echo"
   ]
  },
  {
   "cell_type": "markdown",
   "metadata": {},
   "source": [
    "## Common Commands During Windows Installation\n",
    "\n",
    "There are many different environments and commands that you move through while installing the necessary tools that are needed for this class. The installation begins in powershell, where we install WSL and then move to a Linux environment where we use common commands in order to install various tools.\n",
    "\n",
    "- ```cd``` - moves between directories\n",
    "- ```apt install``` - install specific tools that don't need prerequisites\n",
    "- ```sudo``` - elevate to admin power in order to execute commands where permissions aren't allowed usually\n",
    "- ```mkdir``` - this command makes a new directory (folder)\n",
    "- ```gem install``` - installs gems that  are needed with Ruby\n",
    "- ```bundle install``` - installs gems from Gemfile\n",
    "- ```bundle exec jekyll serve``` - creates a simple local server\n",
    "- ```bundle exec jekyll build``` - builds server in order to deploy as a website\n",
    "- ```-v``` or ```--version``` - check the version of certain things you've installed in Linux to make sure it's the right version\n",
    "- ```make``` - makes whatever is written in the makefile of a website"
   ]
  },
  {
   "cell_type": "markdown",
   "metadata": {},
   "source": [
    "## Github and How it Works\n",
    "\n",
    "Github is where all of the projects that you work on are placed. This is how you will be able to share code and projects with other people as well as keep your files safe if your computer breaks and the files are unrecoverable. Repositories are where you will be keeping your projects and inside these repositories is where your code will be placed. Some of these repositories can be hosted with Github pages and accessed from anywhere in the world but other will be needed to be hosted on other AWS. This can be done by running a server on a linux machine that is constantly up, and which is linked to the internet with a URL. Files in here can be accessed through VSCode if it is personal machine, however if it is a remote machine, then you will need to either edit the code on a local machine and upload to github from which the information can be taken and served or you can edit the files with nano Either way, Github is a powerful tool that can be used to store data which can be easily transferred to machines."
   ]
  },
  {
   "cell_type": "markdown",
   "metadata": {},
   "source": [
    "## Local Servers vs Remote Servers\n",
    "\n",
    "A local server can only be accessed by you and no one else, unless you use a tool such as ngrok to route it through an open port in your network. This type of server is mainly used for development and updates as you edit the code. A remote server includes Github pages or AWS, where code is hosted and routed to the rest of the internet to be constantly run. This is usually used to show off the final product to the internet, where anyone from anywhere can type in the URL of your site and access it."
   ]
  }
 ],
 "metadata": {
  "kernelspec": {
   "display_name": "base",
   "language": "python",
   "name": "python3"
  },
  "language_info": {
   "codemirror_mode": {
    "name": "ipython",
    "version": 3
   },
   "file_extension": ".py",
   "mimetype": "text/x-python",
   "name": "python",
   "nbconvert_exporter": "python",
   "pygments_lexer": "ipython3",
   "version": "3.11.4"
  },
  "orig_nbformat": 4
 },
 "nbformat": 4,
 "nbformat_minor": 2
}
