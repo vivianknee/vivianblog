{
 "cells": [
  {
   "cell_type": "markdown",
   "metadata": {},
   "source": [
    "---\n",
    "- title: Unit 2 Lesson\n",
    "- categories: [Lesson]\n",
    "- tags: [java, lesson]\n",
    "- type: hacks\n",
    "- week: 7\n",
    "- author: Vivian\n",
    "- description: Lesson on Unit 2\n",
    "- toc: True\n",
    "- date: 2023-10-04 12:00:00 +0000\n",
    "---"
   ]
  },
  {
   "cell_type": "markdown",
   "metadata": {},
   "source": [
    "## Unit 2.1- Objects: Instances of Classes\n",
    "\n",
    "#### What are objects?\n",
    "\n",
    "An **Object** is created from a class by calling the class constructor. \n",
    "\n",
    "#### What are classes?\n",
    "\n",
    "A **Class** is a template that defines an object is like and what it can do. \n",
    "\n",
    "#### Objects are Instances of Classes\n",
    "\n",
    "For example, if the class is a blueprint for a house, the object is a particular house. \n",
    "\n"
   ]
  },
  {
   "cell_type": "markdown",
   "metadata": {},
   "source": [
    "#### Example\n",
    "\n",
    "Here is an example of creating a Student class in Java. It contains instance variables that define the characteristics of a student."
   ]
  },
  {
   "cell_type": "code",
   "execution_count": 3,
   "metadata": {},
   "outputs": [],
   "source": [
    "public class Student {\n",
    "\n",
    "    // instance variables or attributes\n",
    "    String name;\n",
    "    String teacher;\n",
    "    int period;\n",
    "  \n",
    "    // constructor. allows you to directly pass in parameters when creating new objects \n",
    "    public Student(String name, String teacher, int period) {\n",
    "      this.name = name;\n",
    "      this.teacher = teacher;\n",
    "      this.period = period;\n",
    "    }\n",
    "  }"
   ]
  },
  {
   "cell_type": "markdown",
   "metadata": {},
   "source": [
    "Now, using our class, we can create student objects by initializing two students"
   ]
  },
  {
   "cell_type": "code",
   "execution_count": 4,
   "metadata": {},
   "outputs": [],
   "source": [
    "Student grace = new Student(\"Grace\", \"Mr. Mort\", 3);\n",
    "Student alice = new Student(\"Alice\", \"Mr. Mort\", 1);"
   ]
  },
  {
   "cell_type": "markdown",
   "metadata": {},
   "source": [
    "We can printout information about each student"
   ]
  },
  {
   "cell_type": "code",
   "execution_count": 5,
   "metadata": {},
   "outputs": [
    {
     "name": "stdout",
     "output_type": "stream",
     "text": [
      "Grace\n"
     ]
    }
   ],
   "source": [
    "System.out.println(grace.name);"
   ]
  },
  {
   "cell_type": "code",
   "execution_count": 6,
   "metadata": {},
   "outputs": [
    {
     "name": "stdout",
     "output_type": "stream",
     "text": [
      "1\n"
     ]
    }
   ],
   "source": [
    "System.out.println(alice.period);"
   ]
  },
  {
   "cell_type": "markdown",
   "metadata": {},
   "source": [
    "#### Learning Objectives\n",
    "\n",
    "- Explain the relationship between a class and an object.\n",
    "\n",
    "#### Essential Knowledge\n",
    "\n",
    "- An object is a specific instance of a class with defined attributes.\n",
    "- A class is the formal implementation, or blueprint, of the attributes and behaviors of an object. "
   ]
  },
  {
   "cell_type": "markdown",
   "metadata": {},
   "source": [
    "## Unit 2.2- Creating and Storing Objects (Instantiation)"
   ]
  },
  {
   "cell_type": "markdown",
   "metadata": {},
   "source": [
    "So, after we learned about **classes**, how are **objects** actually made?\n",
    "\n",
    "Using our previous code, we can see created our constructor using \n",
    "```\n",
    "public Student(String name, String teacher, int period) {\n",
    "      this.name = name;\n",
    "      this.teacher = teacher;\n",
    "      this.period = period;\n",
    "    }\n",
    "```"
   ]
  },
  {
   "cell_type": "code",
   "execution_count": null,
   "metadata": {},
   "outputs": [],
   "source": [
    "public class Student {\n",
    "\n",
    "    // instance variables\n",
    "    String name;\n",
    "    String teacher;\n",
    "    int period;\n",
    "  \n",
    "    // constructor\n",
    "    public Student(String name, String teacher, int period) {\n",
    "      this.name = name;\n",
    "      this.teacher = teacher;\n",
    "      this.period = period;\n",
    "    }\n",
    "  }"
   ]
  },
  {
   "cell_type": "markdown",
   "metadata": {},
   "source": [
    "The **Student** is the name of the class. The first letter is capitalized according to Java naming conventions (camel-case naming conventions). Then, using the **new** keyword, we call the constructor to make a new **Student**. Inside the parentheses, we have the parameter list, where the values and characteristics of the object are entered."
   ]
  },
  {
   "cell_type": "markdown",
   "metadata": {},
   "source": [
    "```\n",
    "Student grace = new Student(\"Grace\", \"Mr. Mort\", 3);\n",
    "```\n",
    "\n",
    "The **parameters** in this case are \"Grace\", \"Mr. Mort\", and 3. "
   ]
  },
  {
   "cell_type": "markdown",
   "metadata": {},
   "source": [
    "#### Constructor Overloads\n",
    "\n",
    "A class can have multiple constructors, however, the number of parameters must be different or the order must be different. This is an example of **overloading** the constructor.\n"
   ]
  },
  {
   "cell_type": "markdown",
   "metadata": {},
   "source": [
    "```\n",
    "// Constructor 1\n",
    "Student(String name, String teacher, int period)\n",
    "\n",
    "\n",
    "// Constructor 2\n",
    "Student(String teacher, String name, int period)\n",
    "```\n",
    "\n",
    "This two constructors are not allowed. For example, if we call\n",
    "\n",
    "```\n",
    "Student(\"Grace\", \"Mr. Mort\", 3);\n",
    "```\n",
    "\n",
    "we would not know whether Grace or Mr. Mort is the student."
   ]
  },
  {
   "cell_type": "markdown",
   "metadata": {},
   "source": [
    "However, constructors with different data types or different number of parameters are allowed when overloading. Here are some examples...\n",
    "\n",
    "```\n",
    "Student(String name, String teacher, int period)\n",
    "Student(String name, String teacher)\n",
    "Student()\n",
    "```"
   ]
  },
  {
   "cell_type": "markdown",
   "metadata": {},
   "source": [
    "#### Null Objects"
   ]
  },
  {
   "cell_type": "code",
   "execution_count": 7,
   "metadata": {},
   "outputs": [],
   "source": [
    "Student rachit = null;"
   ]
  },
  {
   "cell_type": "markdown",
   "metadata": {},
   "source": [
    "Null basically states that no object exists, and it is not stored in memory. You cannot call methods on an object that is declared as null since null objects do not have any information or characteristics set to that object. This will create a NullPointerException"
   ]
  },
  {
   "cell_type": "markdown",
   "metadata": {},
   "source": [
    "## Unit 2.3- Calling a Void Method"
   ]
  },
  {
   "cell_type": "markdown",
   "metadata": {},
   "source": [
    "**method**: code that is called in order to achieve a task\n",
    "- can be void or non-void, static or non-static\n",
    "\n",
    "**void method**: do not return a value but instead change other things. These include changing characteristics of an object or printing text to the console. Here is an example...\n",
    "\n",
    "```\n",
    "public void methodName(parameterList)\n",
    "```\n",
    "\n",
    "**static method**: general to the class and not tied to any particular object. The method is denoted by the Here is an example ...\n",
    "\n",
    "```\n",
    "public static void add() {\n",
    "  count++;\n",
    "}\n",
    "\n",
    "```\n",
    "\n",
    "To call a static method, we use dot notation, with the class name coming before the method separated by a dot as follows\n",
    "\n",
    "```\n",
    "ClassName.add();\n",
    "```\n",
    "\n",
    "**non-static method**: acts on a particular object. For example, printing a person's name is a non-static method, since each person has a different name. For example...\n",
    "\n",
    "```\n",
    "public void printName() {\n",
    "  System.out.println(name);\n",
    "}\n",
    "```\n",
    "\n",
    "When calling a non-static method, we also use dot notation. But, instead of using the class name, we use the object name so we know what object the method acts on. Also, we don't need to do dot notation of ClassName.objectName.methodName() because an object already acts on a certain class, so using the class name is just redundant.  We would use printName() as follows...\n",
    "\n",
    "```\n",
    "objectName.printName();\n",
    "```"
   ]
  },
  {
   "cell_type": "markdown",
   "metadata": {},
   "source": [
    "Run the main method and see what the each of the methods prints out"
   ]
  },
  {
   "cell_type": "code",
   "execution_count": 8,
   "metadata": {},
   "outputs": [],
   "source": [
    "public class MyClass {\n",
    "\n",
    "    // Static method\n",
    "    public static void staticMethod() {\n",
    "        System.out.println(\"This is a static method.\");\n",
    "    }\n",
    "\n",
    "    // Non-static (instance) method\n",
    "    public void nonStaticMethod() {\n",
    "        System.out.println(\"This is a non-static method.\");\n",
    "    }\n",
    "\n",
    "    // Method with void return type\n",
    "    public void methodWithVoidReturnType() {\n",
    "        System.out.println(\"This method has a void return type.\");\n",
    "    }\n",
    "\n",
    "    public static void main(String[] args) {\n",
    "        // Calling the static method\n",
    "        staticMethod();\n",
    "\n",
    "        // Creating an object of MyClass\n",
    "        MyClass myObject = new MyClass();\n",
    "\n",
    "        // Calling the non-static method on the object\n",
    "        myObject.nonStaticMethod();\n",
    "\n",
    "        // Calling the method with void return type\n",
    "        myObject.methodWithVoidReturnType();\n",
    "    }\n",
    "}\n"
   ]
  },
  {
   "cell_type": "markdown",
   "metadata": {},
   "source": [
    "- static methods can be called within a static context\n",
    "- non static methods require creating an object to access the methods"
   ]
  },
  {
   "cell_type": "markdown",
   "metadata": {},
   "source": [
    "### 2.6 String Objects: Concatenation, Literals, and More\n",
    "\n",
    "Guess what's crazy? String literals are not actually primitives, they are considered objects! String literals are part of the aptly named String class included in Java and have a set of methods that come along with it. We'll see what we can do with the String class in the next topic!\n",
    "\n",
    "There are two ways to make strings: using a pre-initialized string or by using a constructor. "
   ]
  },
  {
   "cell_type": "code",
   "execution_count": 9,
   "metadata": {},
   "outputs": [
    {
     "name": "stdout",
     "output_type": "stream",
     "text": [
      "Hello World!\n",
      "Hello World!\n"
     ]
    }
   ],
   "source": [
    "String preInt = \"Hello World!\"; // How we usually initialize strings\n",
    "System.out.println(preInt);\n",
    "\n",
    "// Using a constructor:\n",
    "String newString = new String(\"Hello World!\");\n",
    "System.out.println(newString);"
   ]
  },
  {
   "cell_type": "markdown",
   "metadata": {},
   "source": [
    "#### Escape Characters\n",
    "Sometimes, you want to put a quote in a string. However, you quickly find out that the opening quotation in the quote marks the \"end\" of the string and you can't type out your quote unless you want the program to crash. What can you do?\n",
    "\n",
    "Challenge: Display the background of the quote while displaying the quote in one line: \"Give me liberty or give me death!\" - Patrick Henry."
   ]
  },
  {
   "cell_type": "code",
   "execution_count": 10,
   "metadata": {},
   "outputs": [
    {
     "name": "stdout",
     "output_type": "stream",
     "text": [
      "Give me liberty or give me death\n"
     ]
    }
   ],
   "source": [
    "System.out.println(\"Give me liberty or give me death\");"
   ]
  },
  {
   "cell_type": "markdown",
   "metadata": {},
   "source": [
    "#### String Concatenation\n",
    "\n",
    "When we combine two strings together, we call that string concatenation. We use the '+' operator to concatenate two strings. "
   ]
  },
  {
   "cell_type": "code",
   "execution_count": 13,
   "metadata": {},
   "outputs": [
    {
     "name": "stdout",
     "output_type": "stream",
     "text": [
      "I amhungry\n"
     ]
    }
   ],
   "source": [
    "System.out.println(\"I am\" + \"hungry\");"
   ]
  },
  {
   "cell_type": "markdown",
   "metadata": {},
   "source": [
    "Notice how there is no space between am and hungry. This is because the java '+' operator does not add a space, but instead, joins the strings together without adding anything in between. To fix this, we add a space in between."
   ]
  },
  {
   "cell_type": "code",
   "execution_count": 11,
   "metadata": {},
   "outputs": [
    {
     "name": "stdout",
     "output_type": "stream",
     "text": [
      "I am hungry\n"
     ]
    }
   ],
   "source": [
    "System.out.println(\"I am\" + \" \" + \"hungry\");"
   ]
  },
  {
   "cell_type": "markdown",
   "metadata": {},
   "source": [
    "However, when we want to use variables with our strings, we can also use the '+=' operator to concatenate our strings. The '+' operator still works, however."
   ]
  },
  {
   "cell_type": "code",
   "execution_count": 12,
   "metadata": {},
   "outputs": [
    {
     "name": "stdout",
     "output_type": "stream",
     "text": [
      "Hello World\n",
      "Hello World\n"
     ]
    }
   ],
   "source": [
    "String a1 = \"Hello \";\n",
    "String a2 = \"World\";\n",
    "System.out.println(a1 + a2);\n",
    "System.out.println(a1 += a2);"
   ]
  },
  {
   "cell_type": "markdown",
   "metadata": {},
   "source": [
    "Can you guess what happens when we try to change a string object?"
   ]
  },
  {
   "cell_type": "code",
   "execution_count": 14,
   "metadata": {},
   "outputs": [
    {
     "name": "stdout",
     "output_type": "stream",
     "text": [
      "s1 refers to Java\n",
      "s2 refers to Hello\n",
      "s3 refers to Hello\n",
      "newS3 refers to Hello Scaler\n"
     ]
    }
   ],
   "source": [
    "String s1 = \"Hello\"; // String literal\n",
    "String s2 = \"Hello\"; // String literal\n",
    "String s3 = s1; // same reference\n",
    "\n",
    "//Changing the value of s1\n",
    "s1 = \"Java\";\n",
    "\n",
    "//Updating with concat() operation\n",
    "s2.concat(\" World\");\n",
    "\n",
    "//The concatenated String will be created as a new instance and an object should refer to that instance to get the concatenated value.\n",
    "String newS3 = s3.concat(\" Scaler\");\n",
    "\n",
    "System.out.println(\"s1 refers to \" + s1);\n",
    "System.out.println(\"s2 refers to \" + s2);\n",
    "System.out.println(\"s3 refers to \" + s3);\n",
    "System.out.println(\"newS3 refers to \" + newS3);"
   ]
  },
  {
   "cell_type": "markdown",
   "metadata": {},
   "source": [
    "The strings are immutable! This is because immutable strings allows Java to be safe in multithread applications (no changes that were not supposed to happen at that time in the program), and it makes the string object very efficient, as the strings are stored in a \"string pool\" that Java uses, which allows strings to only be created once but used over and over again if the same string object is created multiple times.\n",
    "\n",
    "One last cool thing about strings is that primitive types change to string objects when concatenated. You have been doing this all the time, but here is the proof!"
   ]
  },
  {
   "cell_type": "code",
   "execution_count": 15,
   "metadata": {},
   "outputs": [
    {
     "name": "stdout",
     "output_type": "stream",
     "text": [
      "Here is the key: 0.5\n"
     ]
    }
   ],
   "source": [
    "String message = \"Here is the key: \";\n",
    "double key = 0.5;\n",
    "\n",
    "System.out.println(message + key)"
   ]
  },
  {
   "cell_type": "markdown",
   "metadata": {},
   "source": [
    "### 2.7 String Methods\n",
    "\n",
    "#### Intro to External Libraries and APIs\n",
    "There is a lot you can do with the factory version of Java, however, just like Python and many other languages, there are many new things you can do with the Java external libraries and APIs (application program interfaces). \n",
    "All Java classes, libraries, and APIs come with documentation, which lists the methods of the class and also how to use the class and its methods. Here is the official Java documentation for the String class:\n",
    "\n",
    "[Java Docs](https://docs.oracle.com/en/java/javase/11/docs/api/java.base/java/lang/String.html)\n",
    "\n",
    "Courtesy of Java."
   ]
  },
  {
   "cell_type": "markdown",
   "metadata": {},
   "source": [
    "#### About the String Class\n",
    "__The String class is a class in the java.lang package that comes when you install Java on your computer.__\n",
    "### Accessing Substrings\n",
    "With strings, we can access substrings and characters in the string. A substring is a string that is included within a larger string, and a character is a substring with a length of 1. First, we need to figure out the length of a string, which is the number of characters in the string. To do this, we use the following method:"
   ]
  },
  {
   "cell_type": "code",
   "execution_count": 16,
   "metadata": {},
   "outputs": [
    {
     "name": "stdout",
     "output_type": "stream",
     "text": [
      "9\n"
     ]
    }
   ],
   "source": [
    "String str = \"Kaiden Do\";\n",
    "System.out.println(str.length())"
   ]
  },
  {
   "cell_type": "markdown",
   "metadata": {},
   "source": [
    "We can also get a index for the strings. For example, if we take \"Kaiden Do\"...\n",
    "\n",
    "| Index | Character |\n",
    "| --- | --- |\n",
    "| 0 | K |\n",
    "| 1 | a |\n",
    "| 2 | i |\n",
    "| 3 | d |\n",
    "| 4 | e |\n",
    "| 5 | n |\n",
    "| 6 |   |\n",
    "| 7 | D |\n",
    "| 8 | o |"
   ]
  },
  {
   "cell_type": "code",
   "execution_count": 19,
   "metadata": {},
   "outputs": [
    {
     "name": "stdout",
     "output_type": "stream",
     "text": [
      "Kaiden\n",
      "Do\n"
     ]
    }
   ],
   "source": [
    "String str = \"Kaiden Do\";\n",
    "System.out.println(str.substring(0, 6)); // Range is [_,_)\n",
    "System.out.println(str.substring(7, 9)); // Range is [_,_)"
   ]
  },
  {
   "cell_type": "markdown",
   "metadata": {},
   "source": [
    "How would we get the nth character of a string? Write a program to find it with an integer n that you can change to get the nth character in the cell below."
   ]
  },
  {
   "cell_type": "code",
   "execution_count": 28,
   "metadata": {},
   "outputs": [
    {
     "name": "stdout",
     "output_type": "stream",
     "text": [
      "0\n",
      "1\n",
      "2\n",
      "3\n",
      "4\n",
      "5\n",
      "6\n",
      "7\n",
      "8\n"
     ]
    }
   ],
   "source": [
    "String str = \"Kaiden Do\";\n",
    "for (int i = 0; i < str.length(); i++){\n",
    "    System.out.println(i);\n",
    "}"
   ]
  },
  {
   "cell_type": "markdown",
   "metadata": {},
   "source": [
    "Question: If we have a string, what is its lower bound index and what is its upper bound index, if the string length is equal to the variable 'str'?\n",
    "\n",
    "Question: What is the error for an out of bound string? Display it in the cell below."
   ]
  },
  {
   "cell_type": "code",
   "execution_count": null,
   "metadata": {},
   "outputs": [],
   "source": []
  },
  {
   "cell_type": "markdown",
   "metadata": {},
   "source": [
    "To do a ctrl-F search through a string, we can use the following process:"
   ]
  },
  {
   "cell_type": "code",
   "execution_count": 31,
   "metadata": {},
   "outputs": [
    {
     "name": "stdout",
     "output_type": "stream",
     "text": [
      "246\n"
     ]
    }
   ],
   "source": [
    "String str = \"He stared out the window at the snowy field. He'd been stuck in the house for close to a month and his only view of the outside world was through the window. There wasn't much to see. It was mostly just the field with an occasional bird or small animal who ventured into the field. As he continued to stare out the window, he wondered how much longer he'd be shackled to the steel bar inside the house.\";\n",
    "System.out.println(str.indexOf(\"animal\"))"
   ]
  },
  {
   "cell_type": "markdown",
   "metadata": {},
   "source": [
    "To compare two strings to each other, we use two functions:"
   ]
  },
  {
   "cell_type": "code",
   "execution_count": 30,
   "metadata": {},
   "outputs": [
    {
     "name": "stdout",
     "output_type": "stream",
     "text": [
      "Does string 1 equal string 2? True or false: true\n",
      "Does string 1 equal string 2? True or false: false\n"
     ]
    }
   ],
   "source": [
    "// To check if a string is equal to another string:\n",
    "String str1 = \"I am hungry\";\n",
    "String str2 = \"I am hungry\";\n",
    "System.out.println(\"Does string 1 equal string 2? True or false: \" + str1.equals(str2));\n",
    "String str2 = \"I am not hungry\";\n",
    "System.out.println(\"Does string 1 equal string 2? True or false: \" + str1.equals(str2));"
   ]
  },
  {
   "cell_type": "code",
   "execution_count": 29,
   "metadata": {},
   "outputs": [
    {
     "name": "stdout",
     "output_type": "stream",
     "text": [
      "-6\n",
      "0\n",
      "1\n"
     ]
    }
   ],
   "source": [
    "// To compare the lengths of the strings\n",
    "\n",
    "// Case 1: String 1 is shorter than string 2\n",
    "String str1 = \"I am hungry\";\n",
    "String str2 = \"I am not hungry\";\n",
    "System.out.println(str1.compareTo(str2)); // Returns less than 0\n",
    "\n",
    "// Case 2: String 1 is equal string 2\n",
    "String str1 = \"I am hungry\";\n",
    "String str2 = \"I am hungry\";\n",
    "System.out.println(str1.compareTo(str2)); // Returns 0\n",
    "\n",
    "// Case 3: String 1 is longer than string 2\n",
    "String str1 = \"I am hungry\";\n",
    "String str2 = \"Hello!\";\n",
    "System.out.println(str1.compareTo(str2)); // Returns greater than 0"
   ]
  },
  {
   "cell_type": "markdown",
   "metadata": {},
   "source": [
    "compareTo() returns the difference of first unmatched character in the two compared strings. If no unmatch is found, and one string comes out as shorter than other one, then the length difference is returned. It also checks to see if a string comes before or after another string alphabetically."
   ]
  },
  {
   "cell_type": "markdown",
   "metadata": {},
   "source": [
    "### 2.8 Wrapper Classes: Integer and Double\n",
    "You probably know what an integer is (if you don't see me after class immediatley!), and you probably know what a double is (again, if you don't see me after class immediatley!).\n",
    "\n",
    "\n",
    "- Integers and Doubles are classes called <strong>wrapper classes</strong>!\n",
    "- why?\n",
    "    - These classes convert primitive data types (int/double) to a reference data type (object). We convert these because different data structures in java require different types of variables, some of which are only objects. By parsing the values of the primitive data to an object, we can send values to methods and structures that only take object values, like ArrayList, for example.\n",
    "\n",
    "#### The integer Wrapper Class\n",
    "The Integer class in Java is a wrapper class for the primitive data type int. It provides several methods that can be used to perform operations on int values. The constructor looks like this:"
   ]
  },
  {
   "cell_type": "code",
   "execution_count": 32,
   "metadata": {},
   "outputs": [
    {
     "ename": "CompilationException",
     "evalue": "",
     "output_type": "error",
     "traceback": [
      "\u001b[1m\u001b[30m|   \u001b[1m\u001b[30mInteger(int \u001b[0m\u001b[1m\u001b[30m\u001b[41m\u001b[0m\u001b[1m\u001b[30mvalue)\u001b[0m",
      "\u001b[1m\u001b[31m'.class' expected\u001b[0m",
      ""
     ]
    }
   ],
   "source": [
    "Integer(int value)"
   ]
  },
  {
   "cell_type": "markdown",
   "metadata": {},
   "source": [
    "An example of this running is:"
   ]
  },
  {
   "cell_type": "code",
   "execution_count": 33,
   "metadata": {},
   "outputs": [],
   "source": [
    "Integer hungerRating = new Integer(5); // Send to an Object\n",
    "int hungerRatingNum = hungerRating.intValue(); // Turn back into a primitive"
   ]
  },
  {
   "cell_type": "markdown",
   "metadata": {},
   "source": [
    "An example of it being utilized is:"
   ]
  },
  {
   "cell_type": "code",
   "execution_count": null,
   "metadata": {},
   "outputs": [],
   "source": [
    "ArrayList<int> list = new ArrayList<int>();  // This will cause a compile-time error"
   ]
  },
  {
   "cell_type": "markdown",
   "metadata": {},
   "source": [
    "The above code will not work because ArrayList requires on object type, while we are passing a primitive type."
   ]
  },
  {
   "cell_type": "code",
   "execution_count": null,
   "metadata": {},
   "outputs": [],
   "source": [
    "ArrayList<Integer> list = new ArrayList<Integer>();\n",
    "list.add(5);  // Autoboxing will automatically convert the int 5 to an Integer object\n",
    "System.out.println(list)"
   ]
  },
  {
   "cell_type": "markdown",
   "metadata": {},
   "source": [
    "This code works because the 5 is being converted by the list.add, since the list uses integer objects. \n",
    "\n",
    "Challenge: In the cell below, demonstrate a function failing with an int and a function succeding with an integer. This cannot be an ArrayList. You are NOT allowed to use ChatGPT, Google AI, Llama 2, Bing AI, etc, however, you can Google for answers."
   ]
  },
  {
   "cell_type": "code",
   "execution_count": null,
   "metadata": {},
   "outputs": [],
   "source": []
  },
  {
   "cell_type": "markdown",
   "metadata": {},
   "source": [
    "Moreover, we can also get other data from the integer class, which is related to how Java functions."
   ]
  },
  {
   "cell_type": "code",
   "execution_count": 34,
   "metadata": {},
   "outputs": [
    {
     "name": "stdout",
     "output_type": "stream",
     "text": [
      "Integer Min Value: -2147483648\n",
      "Integer Max Value: 2147483647\n"
     ]
    }
   ],
   "source": [
    "System.out.println(\"Integer Min Value: \" + Integer.MIN_VALUE);\n",
    "System.out.println(\"Integer Max Value: \" + Integer.MAX_VALUE);"
   ]
  },
  {
   "cell_type": "markdown",
   "metadata": {},
   "source": [
    "These numbers are the bounds of integers in java. For example, we can try going outside the range to see what happens."
   ]
  },
  {
   "cell_type": "code",
   "execution_count": 35,
   "metadata": {},
   "outputs": [
    {
     "ename": "CompilationException",
     "evalue": "",
     "output_type": "error",
     "traceback": [
      "\u001b[1m\u001b[30m|   \u001b[1m\u001b[30mInteger pleaseBreak = new Integer(\u001b[0m\u001b[1m\u001b[30m\u001b[41m\u001b[0m\u001b[1m\u001b[30m2147483648);\u001b[0m",
      "\u001b[1m\u001b[31minteger number too large\u001b[0m",
      ""
     ]
    }
   ],
   "source": [
    "Integer pleaseBreak = new Integer(2147483648)"
   ]
  },
  {
   "cell_type": "markdown",
   "metadata": {},
   "source": [
    "Challenge: Can we have a primitive int that goes past that bound? Try and find out in the cell below."
   ]
  },
  {
   "cell_type": "code",
   "execution_count": null,
   "metadata": {},
   "outputs": [],
   "source": []
  },
  {
   "cell_type": "markdown",
   "metadata": {},
   "source": [
    "#### Double Wrapper Classes\n",
    "\n",
    "Double wrapper classes are basically the same thing as integer classes, however, they deal with double varaiables instead of integer variables. You write it like this:"
   ]
  },
  {
   "cell_type": "code",
   "execution_count": null,
   "metadata": {},
   "outputs": [],
   "source": [
    "Double(Double Value)"
   ]
  },
  {
   "cell_type": "markdown",
   "metadata": {},
   "source": [
    "Here is an example of using Double object:"
   ]
  },
  {
   "cell_type": "code",
   "execution_count": 36,
   "metadata": {},
   "outputs": [],
   "source": [
    "// My actual height in real life (in feet)\n",
    "Double height = new Double(6.6); // Send to an Object\n",
    "double primitiveHeight = height.doubleValue(); // Turn back into a primitive"
   ]
  },
  {
   "cell_type": "markdown",
   "metadata": {},
   "source": [
    "And here is an example of when it works and when it does not."
   ]
  },
  {
   "cell_type": "code",
   "execution_count": 37,
   "metadata": {},
   "outputs": [
    {
     "ename": "CompilationException",
     "evalue": "",
     "output_type": "error",
     "traceback": [
      "\u001b[1m\u001b[30m|   \u001b[1m\u001b[30mArrayList<\u001b[0m\u001b[1m\u001b[30m\u001b[41mdouble\u001b[0m\u001b[1m\u001b[30m> list = new ArrayList<double>();  // This will cause a compile-time error\u001b[0m",
      "\u001b[1m\u001b[31munexpected type\u001b[0m",
      "\u001b[1m\u001b[31m  required: reference\u001b[0m",
      "\u001b[1m\u001b[31m  found:    double\u001b[0m",
      "",
      "\u001b[1m\u001b[30m|   \u001b[1m\u001b[30mArrayList<double> list = new ArrayList<\u001b[0m\u001b[1m\u001b[30m\u001b[41mdouble\u001b[0m\u001b[1m\u001b[30m>();  // This will cause a compile-time error\u001b[0m",
      "\u001b[1m\u001b[31munexpected type\u001b[0m",
      "\u001b[1m\u001b[31m  required: reference\u001b[0m",
      "\u001b[1m\u001b[31m  found:    double\u001b[0m",
      ""
     ]
    }
   ],
   "source": [
    "ArrayList<double> list = new ArrayList<double>();  // This will cause a compile-time error"
   ]
  },
  {
   "cell_type": "markdown",
   "metadata": {},
   "source": [
    "Again, the ArrayList needs an object type, but we are passing a primitive type."
   ]
  },
  {
   "cell_type": "code",
   "execution_count": null,
   "metadata": {},
   "outputs": [],
   "source": [
    "ArrayList<Double> list = new ArrayList<Double>();\n",
    "list.add(3.14);  // Autoboxing will automatically convert the double 3.14 to a Double object"
   ]
  },
  {
   "cell_type": "markdown",
   "metadata": {},
   "source": [
    "This code works because the 3.14 is being converted by the list.add, since the list uses double objects. "
   ]
  },
  {
   "cell_type": "markdown",
   "metadata": {},
   "source": [
    "#### Autoboxing\n",
    "Autoboxing is when Java automatically changes a basic data type into its object form. The Java compiler does this for us. Think of it as putting the data into a box. Java can also unbox an object, which is the exact opposite of autoboxing. When an Integer object is assigned to a primitive int type, Java will automatically use the primitive int version of the number and assign it to the int variable."
   ]
  },
  {
   "cell_type": "code",
   "execution_count": 38,
   "metadata": {},
   "outputs": [],
   "source": [
    "// Boxing\n",
    "int a = 5;\n",
    "Integer b = a;"
   ]
  },
  {
   "cell_type": "code",
   "execution_count": 39,
   "metadata": {},
   "outputs": [],
   "source": [
    "// Unboxing\n",
    "Integer x = new Integer(10);\n",
    "int y = x;"
   ]
  },
  {
   "cell_type": "markdown",
   "metadata": {},
   "source": [
    "### 2.9 Using the Math Class\n",
    "\n",
    "Java has a built in math class called Math. It is a part of the java.lang class.\n",
    "\n",
    "In the cell below, experiment and try to figure out a way to call Math.random and implement bounds, with your bounds being integer bounds of a and b."
   ]
  },
  {
   "cell_type": "code",
   "execution_count": null,
   "metadata": {},
   "outputs": [],
   "source": []
  },
  {
   "cell_type": "markdown",
   "metadata": {},
   "source": [
    "# Hacks\n",
    "Hack 1: (0.25) Create a void method that takes an integer input and adds it to an ArrayList. Then, add a non-void method that is able to call a certain index from the ArrayList."
   ]
  },
  {
   "cell_type": "code",
   "execution_count": 157,
   "metadata": {},
   "outputs": [
    {
     "name": "stdout",
     "output_type": "stream",
     "text": [
      "Enter an integer to add to the list:\n",
      "Enter an index to retrieve an integer from the list:\n",
      "the selected index was 0\n",
      "Value at the requested index: 5\n"
     ]
    }
   ],
   "source": [
    "import java.util.ArrayList;\n",
    "import java.util.Scanner;\n",
    "\n",
    "public class MyArrayList {\n",
    "    private ArrayList<Integer> intList = new ArrayList<>();  \n",
    "    private Scanner scanner = new Scanner(System.in); \n",
    "\n",
    "    public void addToIntArray() {\n",
    "        int myInt = scanner.nextInt(); \n",
    "        intList.add(myInt);\n",
    "    }\n",
    "\n",
    "    public int callInteger() {\n",
    "        System.out.println(\"Enter an index to retrieve an integer from the list:\");\n",
    "        int index = scanner.nextInt();\n",
    "        System.out.println(\"the selected index was \" + index);\n",
    "\n",
    "        if (index >= 0 && index < intList.size()) {\n",
    "            return intList.get(index);\n",
    "        }\n",
    "\n",
    "        return -1;\n",
    "    }\n",
    "\n",
    "    public static void main(String[] args){\n",
    "        MyArrayList myList = new MyArrayList();\n",
    "        System.out.println(\"Enter an integer to add to the list:\");\n",
    "        myList.addToIntArray();\n",
    "\n",
    "        int retrievedValue = myList.callInteger();\n",
    "\n",
    "        if (retrievedValue != -1) {\n",
    "            System.out.println(\"Value at the requested index: \" + retrievedValue);\n",
    "        } else {\n",
    "            System.out.println(\"Index is out of bounds.\");\n",
    "        }\n",
    "    }\n",
    "}\n",
    "\n",
    "MyArrayList.main(null);\n"
   ]
  },
  {
   "cell_type": "markdown",
   "metadata": {},
   "source": [
    "Hack 2: (0.25) Create a simple guessing game with random numbers in math, except the random number is taken to a random exponent (also includes roots), and the person has to find out what the root and exponent is (with hints!). Use at least one static and one non-static method in your class."
   ]
  },
  {
   "cell_type": "code",
   "execution_count": 158,
   "metadata": {},
   "outputs": [
    {
     "name": "stdout",
     "output_type": "stream",
     "text": [
      "Welcome to the exponent/root guessing game\n",
      "You need to guess the exponent/root, but don't worry there are hints!\n",
      "Enter your guess: Your guess is too low. Would you like a hint? (say yes or no)\n",
      "2.0 to the power of this random exponent is 512.0\n",
      "Enter your guess: Your guess is too low. Would you like a hint? (say yes or no)\n",
      "Enter your guess: Your guess is too low. Would you like a hint? (say yes or no)\n",
      "Enter your guess: That is correct, good job!\n"
     ]
    }
   ],
   "source": [
    "import java.util.Random;\n",
    "import java.util.Scanner;\n",
    "\n",
    "public class GuessingGame {\n",
    "   private double randomNumber;\n",
    "   private double randomExponent;\n",
    "   private double result;\n",
    "\n",
    "   public double createRandomNumber(){\n",
    "        double min = 0;\n",
    "        double max = 10;\n",
    "\n",
    "        randomNumber = Math.floor(Math.random() *(max - min + 1) + min);\n",
    "        randomExponent = Math.floor(Math.random() *(max - min + 1) + min);\n",
    "        result = Math.pow(randomNumber, randomExponent); \n",
    "        \n",
    "        //print statements i was using to make sure this thing worked\n",
    "        //System.out.println(randomNumber);\n",
    "        //System.out.println(randomExponent);\n",
    "        //System.out.println(randomNumber + \" to the power of \" + randomExponent);\n",
    "        //System.out.println(result);\n",
    "      \n",
    "        return randomExponent;\n",
    "    }\n",
    "\n",
    "    public void guessingGame() {\n",
    "\n",
    "        System.out.println(\"Welcome to the exponent/root guessing game\");\n",
    "        System.out.println(\"You need to guess the exponent/root, but don't worry there are hints!\");\n",
    "\n",
    "        Scanner guess = new Scanner(System.in);\n",
    "        boolean correct = false;\n",
    "\n",
    "\n",
    "        while(!correct) {\n",
    "            System.out.print(\"Enter your guess: \");\n",
    "            double myGuess = guess.nextDouble();\n",
    "\n",
    "            if (myGuess == randomExponent) {\n",
    "                System.out.println(\"That is correct, good job!\");\n",
    "                correct = true;\n",
    "            }\n",
    "\n",
    "            else if (myGuess > randomExponent){\n",
    "                System.out.println(\"Your guess is too high. Would you like a hint? (say yes or no)\");\n",
    "                Scanner hint = new Scanner(System.in);\n",
    "                String myHint = hint.next();\n",
    "                if (myHint.equalsIgnoreCase(\"yes\")){\n",
    "                    System.out.println(randomNumber + \" to the power of this random exponent is \" + result);\n",
    "                }\n",
    "            }\n",
    "            else {\n",
    "                System.out.println(\"Your guess is too low. Would you like a hint? (say yes or no)\");\n",
    "                Scanner hint = new Scanner(System.in);\n",
    "                String myHint = hint.next();\n",
    "    \n",
    "                if (myHint.equalsIgnoreCase(\"yes\")){\n",
    "                    System.out.println(randomNumber + \" to the power of this random exponent is \" + result);\n",
    "                }\n",
    "            }\n",
    "        }\n",
    "        \n",
    "    }\n",
    "\n",
    "    public static void main(String[] args) {\n",
    "        GuessingGame game = new GuessingGame();\n",
    "        game.createRandomNumber();\n",
    "        game.guessingGame();\n",
    "       \n",
    "    }\n",
    "}\n",
    "\n",
    "GuessingGame.main(null);"
   ]
  },
  {
   "cell_type": "code",
   "execution_count": 74,
   "metadata": {},
   "outputs": [
    {
     "name": "stdout",
     "output_type": "stream",
     "text": [
      "3.0\n",
      "6.0\n",
      "3.0 to the power of 6.0\n",
      "729.0\n"
     ]
    }
   ],
   "source": [
    "public class test {\n",
    "    \n",
    "    public static void main(String[] args) {\n",
    "        double min = 0;\n",
    "        double max = 10;\n",
    "\n",
    "        double randomNumber = Math.floor(Math.random() *(max - min + 1) + min);\n",
    "        System.out.println(randomNumber);\n",
    "\n",
    "        double randomExponent = Math.floor(Math.random() *(max - min + 1) + min);\n",
    "        System.out.println(randomExponent);\n",
    "\n",
    "        double result = Math.pow(randomNumber, randomExponent); \n",
    "        System.out.println(randomNumber + \" to the power of \" + randomExponent);\n",
    "\n",
    "        System.out.println(result);\n",
    "}\n",
    "\n",
    "}\n",
    "\n",
    "test.main(null);\n"
   ]
  },
  {
   "cell_type": "markdown",
   "metadata": {},
   "source": [
    "Hack 3: (0.25) Create a class of your choosing that has multiple parameters of different types (int, boolean, String, double) and put 5 data values in that list. Show that you can access the information by giving some samples."
   ]
  },
  {
   "cell_type": "code",
   "execution_count": 117,
   "metadata": {},
   "outputs": [
    {
     "name": "stdout",
     "output_type": "stream",
     "text": [
      "1969\n",
      "Tesla\n",
      "20000.0\n"
     ]
    }
   ],
   "source": [
    "public class Car {\n",
    "\n",
    "    private int year;\n",
    "    private double price;\n",
    "    private String brand;\n",
    "\n",
    "    public Car(int year, double price, String brand) {\n",
    "        this.year = year;\n",
    "        this.price = price;\n",
    "        this.brand = brand;\n",
    "    }\n",
    "\n",
    "    public static void main(String[] args) {\n",
    "        Car car1 = new Car(1969, 50000, \"Mustang\");\n",
    "        Car car2 = new Car(2000, 85000, \"Tesla\");\n",
    "        Car car3 = new Car(1935, 65000, \"Ford\");\n",
    "        Car car4 = new Car(2011, 100000, \"Dodge\");\n",
    "        Car car5 = new Car(1988, 20000, \"Honda\");\n",
    "\n",
    "        System.out.println(car1.year); \n",
    "        System.out.println(car2.brand); \n",
    "        System.out.println(car5.price); \n",
    "    }\n",
    "}\n",
    "\n",
    "Car.main(null);\n"
   ]
  },
  {
   "cell_type": "markdown",
   "metadata": {},
   "source": [
    "Hack 4: (0.25) Using your preliminary knowledge of loops, use a for loop to iterate through a person’s first and last name, separated by a space, and create methods to call a person’s first name and a person’s last name by iterating through the string."
   ]
  },
  {
   "cell_type": "code",
   "execution_count": 139,
   "metadata": {},
   "outputs": [
    {
     "name": "stdout",
     "output_type": "stream",
     "text": [
      "Enter your full name\n",
      "Your first name is: \n",
      "Vivian\n",
      "Your last name is: \n",
      "Ni\n"
     ]
    }
   ],
   "source": [
    "import java.util.Scanner;\n",
    "\n",
    "public class Name {\n",
    "\n",
    "    public String getFullName() {\n",
    "        Scanner fullNameScanner = new Scanner(System.in);\n",
    "        String name = fullNameScanner.nextLine();\n",
    "        return name;\n",
    "    }\n",
    "\n",
    "    public void firstName(String name) {\n",
    "        System.out.println(\"Your first name is: \");\n",
    "        int i = 0;\n",
    "        while (i < name.length() && name.charAt(i) != ' ') {  \n",
    "            System.out.print(name.charAt(i));\n",
    "            i++;\n",
    "        }\n",
    "        System.out.println();\n",
    "    }\n",
    "\n",
    "    public void lastName(String name) {\n",
    "        System.out.println(\"Your last name is: \");\n",
    "\n",
    "        //stores the index of the ' ' in nameSeparator\n",
    "        int nameSeparator = name.lastIndexOf(' ');\n",
    "\n",
    "        if (nameSeparator != -1) {\n",
    "            // nameSeparator + 1 because I want it to print everything after the space\n",
    "            for (int i = nameSeparator + 1; i < name.length(); i++){\n",
    "                System.out.print(name.charAt(i));\n",
    "            }\n",
    "        }\n",
    "        System.out.println();\n",
    "        \n",
    "    }\n",
    "\n",
    "    public static void main(String[] args) {\n",
    "        Name newName = new Name();\n",
    "        System.out.println(\"Enter your full name\");\n",
    "        String fullName = newName.getFullName();\n",
    "        newName.firstName(fullName);\n",
    "        newName.lastName(fullName);\n",
    "    }\n",
    "}\n",
    "\n",
    "Name.main(null);"
   ]
  }
 ],
 "metadata": {
  "kernelspec": {
   "display_name": "Java",
   "language": "java",
   "name": "java"
  },
  "language_info": {
   "codemirror_mode": "java",
   "file_extension": ".jshell",
   "mimetype": "text/x-java-source",
   "name": "java",
   "pygments_lexer": "java",
   "version": "20.0.2+9-78"
  },
  "orig_nbformat": 4
 },
 "nbformat": 4,
 "nbformat_minor": 2
}
