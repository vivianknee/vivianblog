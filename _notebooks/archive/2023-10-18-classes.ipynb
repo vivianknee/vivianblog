{
 "cells": [
  {
   "cell_type": "markdown",
   "metadata": {},
   "source": [
    "---\n",
    "- title: Class Structure\n",
    "- author: david\n",
    "- categories: [Lab Notebook]\n",
    "- tags: [Project, HTML, Javascript]\n",
    "- type: tangibles\n",
    "- week: 9\n",
    "- description: Setting up class structure\n",
    "- toc: True\n",
    "- comments: True\n",
    "- date: 2023-10-18 12:00:00 +0000\n",
    "---"
   ]
  },
  {
   "cell_type": "code",
   "execution_count": null,
   "metadata": {
    "vscode": {
     "languageId": "javascript"
    }
   },
   "outputs": [],
   "source": [
    "// listener controller for Joint graph\n",
    "class Controller extends joint.mvc.Listener {\n",
    "    get context() {\n",
    "        const [ctx = null] = this.callbackArguments;\n",
    "        return ctx;\n",
    "    }\n",
    "}\n",
    "\n",
    "// view controller, controlling display of shortest path with listeners\n",
    "class ViewController extends Controller {\n",
    "    startListening() {\n",
    "        const { paper } = this.context;\n",
    "\n",
    "        // activate functions with certain listeners\n",
    "        this.listenTo(paper, {\n",
    "            'element:pointerdown': selectSource,\n",
    "            'element:mouseenter': selectEnd,\n",
    "            'element:mouseleave': hidePathOnMouseLeave,\n",
    "        });\n",
    "    }\n",
    "}\n",
    "\n",
    "// edit controller with listening\n",
    "class EditController extends Controller {\n",
    "    startListening() {\n",
    "        const { graph, paper } = this.context;\n",
    "\n",
    "        // adding links\n",
    "        this.listenTo(graph, {\n",
    "            'change:source': replaceLink,\n",
    "            'change:target': replaceLink,\n",
    "        });\n",
    "\n",
    "        // adding nodes\n",
    "        this.listenTo(paper, {\n",
    "            'element:mouseenter': showElementTools,\n",
    "            'element:mouseleave': hideElementTools,\n",
    "            'blank:pointerdblclick': addElement\n",
    "        });\n",
    "    }\n",
    "}"
   ]
  }
 ],
 "metadata": {
  "language_info": {
   "name": "python"
  }
 },
 "nbformat": 4,
 "nbformat_minor": 2
}
