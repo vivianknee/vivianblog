{
 "cells": [
  {
   "cell_type": "markdown",
   "metadata": {},
   "source": [
    "---\n",
    "- toc: true\n",
    "- title: 2015 FRQ 2\n",
    "- categories: [Java]\n",
    "- tags: [java]\n",
    "- type: hacks\n",
    "- week: 22\n",
    "- date: 2024-2-25 12:00:00 +0000\n",
    "---"
   ]
  },
  {
   "cell_type": "markdown",
   "metadata": {},
   "source": [
    "2. Write the complete HiddenWord class, including any necessary instance variables, its constructor, and the method, getHint, described above. You may assume that the length of the guess is the same as the length of the hidden word."
   ]
  },
  {
   "cell_type": "code",
   "execution_count": 74,
   "metadata": {
    "vscode": {
     "languageId": "java"
    }
   },
   "outputs": [
    {
     "name": "stdout",
     "output_type": "stream",
     "text": [
      "F*O*\n",
      "F+*+\n",
      "FROG\n"
     ]
    }
   ],
   "source": [
    "public class HiddenWord {\n",
    "    //instance variable word\n",
    "    private String word;\n",
    "\n",
    "    //method to create hidden word\n",
    "    public HiddenWord(String hword) {\n",
    "        word = hword;\n",
    "    }\n",
    "\n",
    "    //method to get hint\n",
    "    public String getHint(String guess){\n",
    "        String hint = \"\";\n",
    "        for (int i=0; i< guess.length(); i++){\n",
    "            if (guess.charAt(i) == word.charAt(i)){\n",
    "                hint += guess.charAt(i);\n",
    "            }\n",
    "            //had to google search these syntaxes. \n",
    "            //\"valueOf\" converts the character at index i in the guess string to a string\n",
    "            else if(word.contains(String.valueOf(guess.charAt(i)))){\n",
    "                hint += \"+\";\n",
    "            }\n",
    "            else {\n",
    "                hint += \"*\";\n",
    "            }\n",
    "        }\n",
    "        return hint;\n",
    "\n",
    "    }\n",
    "\n",
    "    //testing\n",
    "    public static void main(String[] args) {\n",
    "            // create an instance of the HiddenWord class\n",
    "            HiddenWord hiddenWordInstance = new HiddenWord(\"FROG\");\n",
    "    \n",
    "            // call the getHint method on the instance\n",
    "            String hintResult1 = hiddenWordInstance.getHint(\"FLOW\");\n",
    "            String hintResult2 = hiddenWordInstance.getHint(\"FOUR\");\n",
    "            String hintResult3 = hiddenWordInstance.getHint(\"FROG\");\n",
    "\n",
    "            // print the result\n",
    "            System.out.println(hintResult1);\n",
    "            System.out.println(hintResult2);\n",
    "            System.out.println(hintResult3);\n",
    "    }\n",
    "}\n",
    "\n",
    "HiddenWord.main(null);"
   ]
  }
 ],
 "metadata": {
  "kernelspec": {
   "display_name": "Java",
   "language": "java",
   "name": "java"
  },
  "language_info": {
   "codemirror_mode": "java",
   "file_extension": ".jshell",
   "mimetype": "text/x-java-source",
   "name": "Java",
   "pygments_lexer": "java",
   "version": "20.0.2+9-78"
  }
 },
 "nbformat": 4,
 "nbformat_minor": 2
}
