{
 "cells": [
  {
   "cell_type": "markdown",
   "metadata": {},
   "source": [
    "---\n",
    "- toc: true\n",
    "- title: 2015 FRQ 1\n",
    "- categories: [Java]\n",
    "- tags: [java]\n",
    "- type: hacks\n",
    "- week: 22\n",
    "- date: 2024-2-25 12:00:00 +0000\n",
    "---"
   ]
  },
  {
   "cell_type": "markdown",
   "metadata": {},
   "source": [
    "1. \n",
    "- You will write three static methods, all of which are in a single enclosing class, named DiverseArray. \n",
    "- The first method returns the sum of the values of a one-dimensional array\n",
    "- The second method returns an array that represents the sums of the rows of a two-dimensional array\n",
    "- The third method analyzes row sums.\n"
   ]
  },
  {
   "cell_type": "markdown",
   "metadata": {},
   "source": [
    "(a) Write a static method arraySum that calculates and returns the sum of the entries in a specified one-dimensional array. The following example shows an array arr1 and the value returned by a call to arraySum."
   ]
  },
  {
   "cell_type": "code",
   "execution_count": 76,
   "metadata": {
    "vscode": {
     "languageId": "java"
    }
   },
   "outputs": [
    {
     "data": {
      "text/plain": [
       "16"
      ]
     },
     "execution_count": 76,
     "metadata": {},
     "output_type": "execute_result"
    }
   ],
   "source": [
    "//create an array of integers\n",
    "int[] arr1 = {1, 3, 2, 7, 3};\n",
    "\n",
    "public static int arraySum (int [ ] arr){\n",
    "    //calculate sum of array\n",
    "    int sum = 0;\n",
    "    for (int i : arr) {\n",
    "        sum += i;\n",
    "    }\n",
    "\n",
    "    //return sum of array\n",
    "    return sum;\n",
    "}\n",
    "\n",
    "arraySum(arr1)"
   ]
  },
  {
   "cell_type": "markdown",
   "metadata": {},
   "source": [
    "(b) Write a static method rowSums that calculates the sums of each of the rows in a given two-dimensional array and returns these sums in a one-dimensional array. The method has one parameter, a two-dimensional array arr2D of int values. The array is in row-major order: arr2D [ r ] [ c ] is the entry at row r and column c. The method returns a one-dimensional array with one entry for each row of arr2D such that each entry is the sum of the corresponding row in arr2D. "
   ]
  },
  {
   "cell_type": "code",
   "execution_count": 46,
   "metadata": {
    "vscode": {
     "languageId": "java"
    }
   },
   "outputs": [
    {
     "name": "stdout",
     "output_type": "stream",
     "text": [
      "Row Sums: [17, 32, 28, 20]\n"
     ]
    }
   ],
   "source": [
    "//initial 2D array for my own testing\n",
    "int[][] mat1 = { { 1, 3, 2, 8, 3 }, { 10, 10, 4, 6, 2 }, { 5, 3, 5, 9, 6 }, { 7, 6, 4, 2, 1 }};\n",
    "\n",
    "public static int[] rowSums (int [][] arr2D) {\n",
    "    //create initial array \n",
    "    int [] arrSums = new int[arr2D.length];\n",
    "    \n",
    "    //calculate sum of each row in 2d array\n",
    "    int rowNum = 0;\n",
    "    for (int[] row : arr2D) {\n",
    "        //call part a function to calculate sum of each row (1D arrays)\n",
    "        arrSums[rowNum] = arraySum(row);\n",
    "        //System.out.println(Arrays.toString(arrSums));\n",
    "        rowNum++;\n",
    "    }\n",
    "\n",
    "    //return new array of row sums\n",
    "    return arrSums;\n",
    "}\n",
    "\n",
    "int[] rowSumsResult = rowSums(mat1);\n",
    "System.out.println(\"Row Sums: \" + Arrays.toString(rowSumsResult));"
   ]
  },
  {
   "cell_type": "markdown",
   "metadata": {},
   "source": [
    "(c) Write a static method isDiverse that determines whether or not a given two-dimensional array is diverse. The method has one parameter: a two-dimensional array arr2D of int values. The method should return true if all the row sums in the given array are unique; otherwise, it should return false. In the arrays shown above, the call isDiverse (mat1) returns true and the call isDiverse(mat2) returns false."
   ]
  },
  {
   "cell_type": "code",
   "execution_count": 77,
   "metadata": {
    "vscode": {
     "languageId": "java"
    }
   },
   "outputs": [
    {
     "data": {
      "text/plain": [
       "true"
      ]
     },
     "execution_count": 77,
     "metadata": {},
     "output_type": "execute_result"
    }
   ],
   "source": [
    "public static boolean isDiverse(int [][] arr2D) {\n",
    "    //call function in part b\n",
    "    int[] rowSumsResult = rowSums(mat1);\n",
    "    \n",
    "    //iterate through for each row sum\n",
    "    for (int i = 0; i < rowSumsResult.length; i++) {\n",
    "        //iterate through array for each sum but to compare this time. starts at the second item in the list\n",
    "        for (int j = i + 1 ; j < rowSumsResult.length; j++) {\n",
    "             if (rowSumsResult[i] == rowSumsResult[j]) {\n",
    "                return false;\n",
    "             }\n",
    "        }\n",
    "    }\n",
    "    return true;\n",
    "}\n",
    "\n",
    "isDiverse(mat1);\n"
   ]
  }
 ],
 "metadata": {
  "kernelspec": {
   "display_name": "Java",
   "language": "java",
   "name": "java"
  },
  "language_info": {
   "codemirror_mode": "java",
   "file_extension": ".jshell",
   "mimetype": "text/x-java-source",
   "name": "Java",
   "pygments_lexer": "java",
   "version": "20.0.2+9-78"
  }
 },
 "nbformat": 4,
 "nbformat_minor": 2
}
