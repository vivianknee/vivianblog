{
 "cells": [
  {
   "cell_type": "markdown",
   "metadata": {},
   "source": [
    "---\n",
    "- title: Unit 6 Lesson\n",
    "- categories: [Lesson]\n",
    "- tags: [java, lesson, arrays]\n",
    "- type: hacks\n",
    "- week: 9\n",
    "- author: Vivian\n",
    "- description: Lesson on Unit 6\n",
    "- toc: True\n",
    "- date: 2023-10-17 12:00:00 +0000\n",
    "---"
   ]
  },
  {
   "cell_type": "markdown",
   "metadata": {},
   "source": [
    "# 6.3 Enhanced for loop for Arrays\n",
    "- the enhanced for loop is also known as the \"for each\" loop\n",
    "- provides a simplified way to loop through elements in an array, collection, or other iterable data structures. "
   ]
  },
  {
   "cell_type": "code",
   "execution_count": null,
   "metadata": {
    "vscode": {
     "languageId": "java"
    }
   },
   "outputs": [],
   "source": [
    "//syntax for enhanced for loop\n",
    "for (dataType element : array) {\n",
    "    // code to process 'element'\n",
    "}"
   ]
  },
  {
   "cell_type": "markdown",
   "metadata": {},
   "source": [
    "- the data type in the loop must match the array's element data type."
   ]
  },
  {
   "cell_type": "code",
   "execution_count": 1,
   "metadata": {
    "vscode": {
     "languageId": "java"
    }
   },
   "outputs": [
    {
     "name": "stdout",
     "output_type": "stream",
     "text": [
      "1\n",
      "2\n",
      "3\n",
      "4\n",
      "5\n"
     ]
    }
   ],
   "source": [
    "//array of int matches element int\n",
    "int[] numbers = {1, 2, 3, 4, 5};\n",
    "for (int num : numbers) {\n",
    "    System.out.println(num);\n",
    "}"
   ]
  },
  {
   "cell_type": "markdown",
   "metadata": {},
   "source": [
    "### Comparing a regular for loop with the enhanced for loop\n",
    "**Rewrite this code to use an enhanced for loop instead. make comments explaining what you added/changed**"
   ]
  },
  {
   "cell_type": "code",
   "execution_count": 8,
   "metadata": {
    "vscode": {
     "languageId": "java"
    }
   },
   "outputs": [
    {
     "name": "stdout",
     "output_type": "stream",
     "text": [
      "Quote: \"Success is not final, failure is not fatal: It is the courage to continue that counts.\"\n",
      "Emotion: Courageous\n",
      "---------------------------\n",
      "Quote: \"The only way to do great work is to love what you do.\"\n",
      "Emotion: Passionate\n",
      "---------------------------\n",
      "Quote: \"The best way to predict the future is to create it.\"\n",
      "Emotion: Innovative\n",
      "---------------------------\n"
     ]
    }
   ],
   "source": [
    "import java.util.List;\n",
    "\n",
    "class Quote {\n",
    "    private List<String> quotes;\n",
    "    private List<String> emotions;\n",
    "\n",
    "    public Quote(List<String> quotes, List<String> emotions) {\n",
    "        this.quotes = quotes;\n",
    "        this.emotions = emotions;\n",
    "    }\n",
    "\n",
    "    public void printQuotesWithEmotions() {\n",
    "        //changes made here. \n",
    "        for (int i = 0; i < quotes.size() && i < emotions.size(); i++) {\n",
    "            String quote = quotes.get(i);\n",
    "            String emotion = emotions.get(i);\n",
    "            System.out.println(\"Quote: \\\"\" + quote + \"\\\"\");\n",
    "            System.out.println(\"Emotion: \" + emotion);\n",
    "            System.out.println(\"---------------------------\");\n",
    "        }\n",
    "    }\n",
    "\n",
    "    public static void main(String[] args) {\n",
    "        List<String> quotes = List.of(\n",
    "            \"Success is not final, failure is not fatal: It is the courage to continue that counts.\",\n",
    "            \"The only way to do great work is to love what you do.\",\n",
    "            \"The best way to predict the future is to create it.\"\n",
    "        );\n",
    "\n",
    "        List<String> emotions = List.of(\n",
    "            \"Courageous\",\n",
    "            \"Passionate\",\n",
    "            \"Innovative\"\n",
    "        );\n",
    "\n",
    "        Quote quotePrinter = new Quote(quotes, emotions);\n",
    "        quotePrinter.printQuotesWithEmotions();\n",
    "    }\n",
    "}\n",
    "\n",
    "Quote.main(null);\n",
    "\n"
   ]
  },
  {
   "cell_type": "markdown",
   "metadata": {},
   "source": [
    "**What are some of the benefits of using an enhanced for loop in this case versus a regular for loop?**"
   ]
  },
  {
   "cell_type": "markdown",
   "metadata": {},
   "source": [
    "### Limitations to enhanced for loop\n",
    "- it does not provide access to the index of the current element. \n",
    "    - This means you cannot easily determine the position of the element in the array or collection. \n",
    "    - But when you want to search for a specific element in a collection and you don't necessarily need to access the index\n",
    "    - If you need to work with indices, you should use a traditional for loop instead.\n",
    "- read-only access to elements. \n",
    "    - You cannot modify the elements within the loop\n",
    "    - Thus, when you need to modify a collection based on a condition. You should use a regular for loop"
   ]
  },
  {
   "cell_type": "markdown",
   "metadata": {},
   "source": [
    "**For the next two code blocks, decide whether or not its better to use a regular for loop or an enhanced one, explain why. write the code for them**"
   ]
  },
  {
   "cell_type": "markdown",
   "metadata": {},
   "source": [
    "1. Searching for an Element in an ArrayList "
   ]
  },
  {
   "cell_type": "code",
   "execution_count": null,
   "metadata": {
    "vscode": {
     "languageId": "java"
    }
   },
   "outputs": [],
   "source": [
    "ArrayList<String> names = new ArrayList<>();\n",
    "String searchName = \"Vivian\";\n",
    "\n",
    "//code goes here\n",
    "for () {\n",
    "}"
   ]
  },
  {
   "cell_type": "markdown",
   "metadata": {},
   "source": [
    "2. Removing Even Numbers from an ArrayList "
   ]
  },
  {
   "cell_type": "code",
   "execution_count": null,
   "metadata": {
    "vscode": {
     "languageId": "java"
    }
   },
   "outputs": [],
   "source": [
    "ArrayList<Integer> numbers = new ArrayList<>();\n",
    "\n",
    "//code goes here\n",
    "for () {\n",
    "   \n",
    "}"
   ]
  }
 ],
 "metadata": {
  "kernelspec": {
   "display_name": "Java",
   "language": "java",
   "name": "java"
  },
  "language_info": {
   "codemirror_mode": "java",
   "file_extension": ".jshell",
   "mimetype": "text/x-java-source",
   "name": "Java",
   "pygments_lexer": "java",
   "version": "20.0.2+9-78"
  }
 },
 "nbformat": 4,
 "nbformat_minor": 2
}
