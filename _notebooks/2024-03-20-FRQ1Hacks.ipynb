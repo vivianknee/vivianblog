{
 "cells": [
  {
   "cell_type": "markdown",
   "metadata": {},
   "source": [
    "---\n",
    "- title: Workshop 1 (FRQ1) Hacks\n",
    "- description: hacks for frq1 yayyyy\n",
    "- toc: true\n",
    "- type: hacks\n",
    "- week: 25\n",
    "- date: 2024-3-20 12:00:00 +0000\n",
    "---"
   ]
  },
  {
   "cell_type": "markdown",
   "metadata": {},
   "source": [
    "## Question 1: Primitive Types vs Reference Types (Unit 1)\n",
    "Situation: You are developing a banking application where you need to represent customer information. You have decided to use both primitive types and reference types for this purpose.\n",
    "\n",
    "(a) Define primitive types and reference types in Java. Provide examples of each.\n",
    "- primitive types are the simplest types that are usually built into the programming language. Examples include integer, float, and boolean. Primitive types are usually stored directly in memory\n",
    "- reference types hold references to other data in memory. reference types store the memory address where the data is stored whereas primitive types store the actual value. Examples include arrays, objects, classes.\n",
    "\n",
    "<br>\n",
    "(b) Explain the differences between primitive types and reference types in terms of memory allocation and usage in Java programs.\n",
    "- Primitive types store the actual value of the data in memory where as reference types hold references to data in the memory. \n",
    "- Primitive types have less memory usage since they only store the actual value. reference types have more memory usage since they store the actual data and the reference to the data\n",
    "\n",
    "<br>\n",
    "(c) Code:\n",
    "\n",
    "<br>\n",
    "You have a method `calculateInterest` that takes a primitive `double` type representing the principal amount and a reference type `Customer` representing the customer information. Write the method signature and the method implementation. Include comments to explain your code.\n"
   ]
  },
  {
   "cell_type": "code",
   "execution_count": null,
   "metadata": {
    "vscode": {
     "languageId": "java"
    }
   },
   "outputs": [],
   "source": [
    "public double calculateInterest(double amount, Customer customer) {\n",
    "\n",
    "    //use a method from class Customer (assuming its something like getCreditScore)\n",
    "    int creditScore = customer.getCreditScore();\n",
    "\n",
    "    double interestRate;\n",
    "\n",
    "    //just a if statement to assign interest rate based on the credit score from the customer object\n",
    "    if (creditScore >= 700) {\n",
    "        interestRate = 0.05; \n",
    "    } else if (creditScore >= 600) {\n",
    "        interestRate = 0.07;\n",
    "    } else {\n",
    "        interestRate = 0.1;  \n",
    "    }\n",
    "\n",
    "    //calculates the interest based on the principal amount and interest rate\n",
    "    double interest = principalAmount * interestRate;\n",
    "\n",
    "    return interest;\n",
    "\n",
    "}"
   ]
  },
  {
   "cell_type": "markdown",
   "metadata": {},
   "source": [
    "## Question 2: Iteration over 2D arrays (Unit 4)\n",
    "\n",
    "Situation: You are developing a game where you need to track player scores on a 2D grid representing levels and attempts.\n",
    "\n",
    "(a) Explain the concept of iteration over a 2D array in Java. Provide an example scenario where iterating over a 2D array is useful in a programming task.\n",
    "- a 2D array is an array of arrays so it requires a nested loop to iterate over each row and column of the array. 2D arrays are useful in game development. For example, in my groups current project we use 2D arrays to represent our game maps. Iterating over the array helps in tasks like collision detection, and path finding.\n",
    "\n",
    "<br>\n",
    "(b) Code:\n",
    "\n",
    "<br>\n",
    "You need to implement a method `calculateTotalScore` that takes a 2D array `scores` of integers representing player scores and returns the sum of all the elements in the array. Write the method signature and the method implementation. Include comments to explain your code.\n"
   ]
  },
  {
   "cell_type": "code",
   "execution_count": null,
   "metadata": {
    "vscode": {
     "languageId": "java"
    }
   },
   "outputs": [],
   "source": [
    "public int calculateTotalScore(int[][] scores) {\n",
    "\n",
    "    //initializes total\n",
    "    int totalScore = 0;\n",
    "\n",
    "    //nested for loop iterates through array\n",
    "    for(int i=0; i < scores.length; i++) {\n",
    "        for (int j=0; j < scores[i].length; j++) {\n",
    "            totalScore += scores[i][j];\n",
    "        }\n",
    "    }\n",
    "\n",
    "    return totalScore;\n",
    "\n",
    "}"
   ]
  },
  {
   "cell_type": "markdown",
   "metadata": {},
   "source": [
    "## Question 5: If, While, Else (Unit 3-4)\n",
    "\n",
    "Situation: You are developing a simple grading system where you need to determine if a given score is passing or failing.\n",
    "\n",
    "(a) Explain the roles and usage of the if statement, while loop, and else statement in Java programming. Provide examples illustrating each.\n",
    "- if statement checks for a condition and whether or not the condition is true, an action is taken. It can be used with else or else if for more complex decision making\n",
    "- while loop lets you to repeatedly run code as long as a specified condition is true. It is useful when the number of iterations is unknown.\n",
    "- The else statement is used with an if statement to execute a block of code if the if condition is false.\n"
   ]
  },
  {
   "cell_type": "code",
   "execution_count": 2,
   "metadata": {
    "vscode": {
     "languageId": "java"
    }
   },
   "outputs": [
    {
     "name": "stdout",
     "output_type": "stream",
     "text": [
      "x is positive\n",
      "strawberry\n",
      "lemon\n",
      "grapes\n",
      "apple\n",
      "watermelon\n",
      "x is negative\n"
     ]
    }
   ],
   "source": [
    "//if statement example\n",
    "int x = 10;\n",
    "if (x > 0) {\n",
    "    System.out.println(\"x is positive\");\n",
    "}\n",
    "\n",
    "//while loop example\n",
    "String[] fruits = {\"strawberry\", \"lemon\", \"grapes\", \"apple\", \"watermelon\"};\n",
    "\n",
    "int i = 0;\n",
    "while (i < fruits.length) {\n",
    "    System.out.println(fruits[i]);\n",
    "    i++;\n",
    "}\n",
    "\n",
    "//else example\n",
    "int x = -9;\n",
    "if (x > 0) {\n",
    "    System.out.println(\"x is positive\");\n",
    "}\n",
    "else {\n",
    "    System.out.println(\"x is negative\");\n",
    "}\n"
   ]
  },
  {
   "cell_type": "markdown",
   "metadata": {},
   "source": [
    "(b) Code:\n",
    "\n",
    "<br>\n",
    "You need to implement a method `printGradeStatus` that takes an integer `score` as input and prints \"Pass\" if the score is greater than or equal to 60, and \"Fail\" otherwise. Write the method signature and the method implementation. Include comments to explain your code."
   ]
  },
  {
   "cell_type": "code",
   "execution_count": 5,
   "metadata": {
    "vscode": {
     "languageId": "java"
    }
   },
   "outputs": [
    {
     "name": "stdout",
     "output_type": "stream",
     "text": [
      "Fail\n",
      "Pass\n"
     ]
    }
   ],
   "source": [
    "//use void because i don't want to return anything\n",
    "public void printGradeStatus(int score) {\n",
    "\n",
    "    //if score is greater than or equal to 60 print pass\n",
    "    if (score >= 60) {\n",
    "        System.out.println(\"Pass\");\n",
    "    }\n",
    "    //else print fail\n",
    "    else {\n",
    "        System.out.println(\"Fail\");\n",
    "    }\n",
    "\n",
    "}\n",
    "\n",
    "printGradeStatus(55);\n",
    "printGradeStatus(89);"
   ]
  }
 ],
 "metadata": {
  "kernelspec": {
   "display_name": "Java",
   "language": "java",
   "name": "java"
  },
  "language_info": {
   "codemirror_mode": "java",
   "file_extension": ".jshell",
   "mimetype": "text/x-java-source",
   "name": "Java",
   "pygments_lexer": "java",
   "version": "20.0.2+9-78"
  }
 },
 "nbformat": 4,
 "nbformat_minor": 2
}
