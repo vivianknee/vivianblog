{
 "cells": [
  {
   "cell_type": "markdown",
   "metadata": {},
   "source": [
    "---\n",
    "- toc: true\n",
    "- title: 2015 FRQ 3\n",
    "- categories: [Java]\n",
    "- tags: [java]\n",
    "- type: hacks\n",
    "- week: 22\n",
    "- date: 2024-2-25 12:00:00 +0000\n",
    "---"
   ]
  },
  {
   "cell_type": "markdown",
   "metadata": {},
   "source": [
    "3. \n",
    "(a) Write the SparseArray method getValueAt. The method returns the value of the sparse array element at a given row and column in the sparse array. If the list entries contains an entry with the specified row and column, the value associated with the entry is returned. If there is no entry in entries corresponding to the specified row and column, 0 is returned.\n"
   ]
  },
  {
   "cell_type": "markdown",
   "metadata": {},
   "source": [
    "i test this code in part b!"
   ]
  },
  {
   "cell_type": "code",
   "execution_count": 75,
   "metadata": {
    "vscode": {
     "languageId": "java"
    }
   },
   "outputs": [],
   "source": [
    "//getRow and getCol are predefined methods in another class. gets the index of the row/col\n",
    "\n",
    "public int getValueAt(int row, int col){\n",
    "    //SparseArrayEntry is a list. this for loop iterates through each list(entry) in the array (SparseArray)\n",
    "    for (SparseArrayEntry e : entries){\n",
    "        //checks whether the current SparseArrayEntry object (e) has the same row and column indices as the specified row and col parameters.\n",
    "        if (e.getRow() == row && e.getCol() == col){\n",
    "            return e.getValue();\n",
    "        }\n",
    "    }\n",
    "    return 0;\n",
    "}"
   ]
  },
  {
   "cell_type": "markdown",
   "metadata": {},
   "source": [
    "(b) Write the SparseArray method removeColumn. After removing a specified column from a sparsearray:\n",
    "- All entries in the list entries with column indexes matching col are removed from the list.\n",
    "- All entries in the list entries with column indexes greater than col are replaced by entries with column indexes that are decremented by one (moved one column to the left).\n",
    "- The number of columns in the sparse array is adjusted to reflect the column removed."
   ]
  },
  {
   "cell_type": "code",
   "execution_count": 91,
   "metadata": {
    "vscode": {
     "languageId": "java"
    }
   },
   "outputs": [
    {
     "name": "stdout",
     "output_type": "stream",
     "text": [
      "(1,1): 4\n",
      "0 0 0 0 0 \n",
      "0 4 0 0 0 \n",
      "0 0 9 0 3 \n",
      "0 0 0 0 0 \n",
      "0 0 0 0 0 \n",
      "Remove Column 2:\n",
      "0 0 0 0 \n",
      "0 4 0 0 \n",
      "0 0 0 3 \n",
      "0 0 0 0 \n",
      "0 0 0 0 \n"
     ]
    }
   ],
   "source": [
    "public class SparseArrayEntry{\n",
    "    private int row;\n",
    "    private int col;\n",
    "    private int value;\n",
    "\n",
    "    public SparseArrayEntry(int r, int c, int v){\n",
    "        this.row = r;\n",
    "        this.col = c;\n",
    "        this.value = v;\n",
    "    }\n",
    "\n",
    "    public int getRow(){\n",
    "        return row;\n",
    "    }\n",
    "\n",
    "    public int getCol(){\n",
    "        return col;\n",
    "    }\n",
    "\n",
    "    public int getValue(){\n",
    "        return value;\n",
    "    }\n",
    "\n",
    "    public void setCol(int c) {\n",
    "        this.col = c;\n",
    "    }\n",
    "\n",
    "    public void setRow(int r) { \n",
    "        this.row = r;\n",
    "    }\n",
    "}\n",
    "\n",
    "public class SparseArray {\n",
    "    private int numRows;\n",
    "    private int numCols;\n",
    "    private List<SparseArrayEntry> entries;\n",
    "\n",
    "    public SparseArray(ArrayList<SparseArrayEntry> entries, int numRows, int numCols) {\n",
    "        this.entries = entries;\n",
    "        this.numRows = numRows;\n",
    "        this.numCols = numCols;\n",
    "    }\n",
    "\n",
    "    // part a\n",
    "    public int getValueAt(int row, int col){\n",
    "        for (SparseArrayEntry entry : entries){ // entries stores ArrayList not 2D array!!\n",
    "            if (entry.getRow() == row && entry.getCol() == col){\n",
    "                return entry.getValue();\n",
    "            }\n",
    "        }\n",
    "        return 0;\n",
    "    }\n",
    "\n",
    "    // part b\n",
    "    public void removeColumn(int col){\n",
    "        //iterating from the end of the list to avoid issues related to removing entries in the middle of the list and make the logic simpler.\n",
    "        for (int i = entries.size() - 1; i >= 0; i--){\n",
    "            SparseArrayEntry entry = entries.get(i);\n",
    "            if (entry.getCol() == col){\n",
    "                entries.remove(i);\n",
    "            }\n",
    "            else if(entry.getCol() > col){\n",
    "                entry.setCol(entry.getCol() - 1);\n",
    "            }\n",
    "        }\n",
    "        numCols--;\n",
    "    }\n",
    "\n",
    "    public void printArray() {\n",
    "        for (int i = 0; i < numRows; i++) {\n",
    "            for (int j = 0; j < numCols; j++) {\n",
    "                System.out.print(getValueAt(i, j) + \" \");\n",
    "            }\n",
    "            System.out.println();\n",
    "        }\n",
    "    }\n",
    "\n",
    "    // test\n",
    "    public static void main(String[] args) {\n",
    "        ArrayList<SparseArrayEntry> entries = new ArrayList<>();\n",
    "\n",
    "        //adds entries where sparse array is not 0\n",
    "        entries.add(new SparseArrayEntry(1, 1, 4));\n",
    "        entries.add(new SparseArrayEntry(2, 4, 3));\n",
    "        entries.add(new SparseArrayEntry(2, 2, 9));\n",
    "        \n",
    "        //creates array\n",
    "        SparseArray arr = new SparseArray(entries, 5, 5);\n",
    "\n",
    "        // test part a\n",
    "        System.out.println(\"(1,1): \" + arr.getValueAt(1, 1));\n",
    "\n",
    "        // test part b\n",
    "        arr.printArray();\n",
    "        arr.removeColumn(2);\n",
    "\n",
    "        System.out.println(\"Remove Column 2:\");\n",
    "        arr.printArray();\n",
    "    }\n",
    "        \n",
    "}\n",
    "\n",
    "SparseArray.main(null);\n"
   ]
  }
 ],
 "metadata": {
  "kernelspec": {
   "display_name": "Java",
   "language": "java",
   "name": "java"
  },
  "language_info": {
   "codemirror_mode": "java",
   "file_extension": ".jshell",
   "mimetype": "text/x-java-source",
   "name": "Java",
   "pygments_lexer": "java",
   "version": "20.0.2+9-78"
  }
 },
 "nbformat": 4,
 "nbformat_minor": 2
}
