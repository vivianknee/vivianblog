{
 "cells": [
  {
   "cell_type": "markdown",
   "metadata": {},
   "source": [
    "---\n",
    "- title: Unit 2 Hacks\n",
    "- categories: [Lesson]\n",
    "- tags: [java, lesson]\n",
    "- type: hacks\n",
    "- week: 7\n",
    "- author: Vivian\n",
    "- description: Hacks for lesson on Unit 2\n",
    "- toc: True\n",
    "- date: 2023-10-04 12:00:00 +0000\n",
    "---"
   ]
  },
  {
   "cell_type": "markdown",
   "metadata": {},
   "source": []
  },
  {
   "cell_type": "markdown",
   "metadata": {},
   "source": [
    "# Hacks (no chat gpt!!)\n",
    "Hack 1: (0.25) Create a void method that takes an integer input and adds it to an ArrayList. Then, add a non-void method that is able to call a certain index from the ArrayList."
   ]
  },
  {
   "cell_type": "code",
   "execution_count": 157,
   "metadata": {},
   "outputs": [
    {
     "name": "stdout",
     "output_type": "stream",
     "text": [
      "Enter an integer to add to the list:\n",
      "Enter an index to retrieve an integer from the list:\n",
      "the selected index was 0\n",
      "Value at the requested index: 5\n"
     ]
    }
   ],
   "source": [
    "import java.util.ArrayList;\n",
    "import java.util.Scanner;\n",
    "\n",
    "public class MyArrayList {\n",
    "    private ArrayList<Integer> intList = new ArrayList<>();  \n",
    "    private Scanner scanner = new Scanner(System.in); \n",
    "\n",
    "    public void addToIntArray() {\n",
    "        int myInt = scanner.nextInt(); \n",
    "        intList.add(myInt);\n",
    "    }\n",
    "\n",
    "    public int callInteger() {\n",
    "        System.out.println(\"Enter an index to retrieve an integer from the list:\");\n",
    "        int index = scanner.nextInt();\n",
    "        System.out.println(\"the selected index was \" + index);\n",
    "\n",
    "        if (index >= 0 && index < intList.size()) {\n",
    "            return intList.get(index);\n",
    "        }\n",
    "\n",
    "        return -1;\n",
    "    }\n",
    "\n",
    "    public static void main(String[] args){\n",
    "        MyArrayList myList = new MyArrayList();\n",
    "        System.out.println(\"Enter an integer to add to the list:\");\n",
    "        myList.addToIntArray();\n",
    "\n",
    "        int retrievedValue = myList.callInteger();\n",
    "\n",
    "        if (retrievedValue != -1) {\n",
    "            System.out.println(\"Value at the requested index: \" + retrievedValue);\n",
    "        } else {\n",
    "            System.out.println(\"Index is out of bounds.\");\n",
    "        }\n",
    "    }\n",
    "}\n",
    "\n",
    "MyArrayList.main(null);\n"
   ]
  },
  {
   "cell_type": "markdown",
   "metadata": {},
   "source": [
    "Hack 2: (0.25) Create a simple guessing game with random numbers in math, except the random number is taken to a random exponent (also includes roots), and the person has to find out what the root and exponent is (with hints!). Use at least one static and one non-static method in your class."
   ]
  },
  {
   "cell_type": "code",
   "execution_count": 158,
   "metadata": {},
   "outputs": [
    {
     "name": "stdout",
     "output_type": "stream",
     "text": [
      "Welcome to the exponent/root guessing game\n",
      "You need to guess the exponent/root, but don't worry there are hints!\n",
      "Enter your guess: Your guess is too low. Would you like a hint? (say yes or no)\n",
      "2.0 to the power of this random exponent is 512.0\n",
      "Enter your guess: Your guess is too low. Would you like a hint? (say yes or no)\n",
      "Enter your guess: Your guess is too low. Would you like a hint? (say yes or no)\n",
      "Enter your guess: That is correct, good job!\n"
     ]
    }
   ],
   "source": [
    "import java.util.Random;\n",
    "import java.util.Scanner;\n",
    "\n",
    "public class GuessingGame {\n",
    "   private double randomNumber;\n",
    "   private double randomExponent;\n",
    "   private double result;\n",
    "\n",
    "   public double createRandomNumber(){\n",
    "        double min = 0;\n",
    "        double max = 10;\n",
    "\n",
    "        randomNumber = Math.floor(Math.random() *(max - min + 1) + min);\n",
    "        randomExponent = Math.floor(Math.random() *(max - min + 1) + min);\n",
    "        result = Math.pow(randomNumber, randomExponent); \n",
    "        \n",
    "        //print statements i was using to make sure this thing worked\n",
    "        //System.out.println(randomNumber);\n",
    "        //System.out.println(randomExponent);\n",
    "        //System.out.println(randomNumber + \" to the power of \" + randomExponent);\n",
    "        //System.out.println(result);\n",
    "      \n",
    "        return randomExponent;\n",
    "    }\n",
    "\n",
    "    public void guessingGame() {\n",
    "\n",
    "        System.out.println(\"Welcome to the exponent/root guessing game\");\n",
    "        System.out.println(\"You need to guess the exponent/root, but don't worry there are hints!\");\n",
    "\n",
    "        Scanner guess = new Scanner(System.in);\n",
    "        boolean correct = false;\n",
    "\n",
    "\n",
    "        while(!correct) {\n",
    "            System.out.print(\"Enter your guess: \");\n",
    "            double myGuess = guess.nextDouble();\n",
    "\n",
    "            if (myGuess == randomExponent) {\n",
    "                System.out.println(\"That is correct, good job!\");\n",
    "                correct = true;\n",
    "            }\n",
    "\n",
    "            else if (myGuess > randomExponent){\n",
    "                System.out.println(\"Your guess is too high. Would you like a hint? (say yes or no)\");\n",
    "                Scanner hint = new Scanner(System.in);\n",
    "                String myHint = hint.next();\n",
    "                if (myHint.equalsIgnoreCase(\"yes\")){\n",
    "                    System.out.println(randomNumber + \" to the power of this random exponent is \" + result);\n",
    "                }\n",
    "            }\n",
    "            else {\n",
    "                System.out.println(\"Your guess is too low. Would you like a hint? (say yes or no)\");\n",
    "                Scanner hint = new Scanner(System.in);\n",
    "                String myHint = hint.next();\n",
    "    \n",
    "                if (myHint.equalsIgnoreCase(\"yes\")){\n",
    "                    System.out.println(randomNumber + \" to the power of this random exponent is \" + result);\n",
    "                }\n",
    "            }\n",
    "        }\n",
    "        \n",
    "    }\n",
    "\n",
    "    public static void main(String[] args) {\n",
    "        GuessingGame game = new GuessingGame();\n",
    "        game.createRandomNumber();\n",
    "        game.guessingGame();\n",
    "       \n",
    "    }\n",
    "}\n",
    "\n",
    "GuessingGame.main(null);"
   ]
  },
  {
   "cell_type": "code",
   "execution_count": 74,
   "metadata": {},
   "outputs": [
    {
     "name": "stdout",
     "output_type": "stream",
     "text": [
      "3.0\n",
      "6.0\n",
      "3.0 to the power of 6.0\n",
      "729.0\n"
     ]
    }
   ],
   "source": [
    "public class test {\n",
    "    \n",
    "    public static void main(String[] args) {\n",
    "        double min = 0;\n",
    "        double max = 10;\n",
    "\n",
    "        double randomNumber = Math.floor(Math.random() *(max - min + 1) + min);\n",
    "        System.out.println(randomNumber);\n",
    "\n",
    "        double randomExponent = Math.floor(Math.random() *(max - min + 1) + min);\n",
    "        System.out.println(randomExponent);\n",
    "\n",
    "        double result = Math.pow(randomNumber, randomExponent); \n",
    "        System.out.println(randomNumber + \" to the power of \" + randomExponent);\n",
    "\n",
    "        System.out.println(result);\n",
    "}\n",
    "\n",
    "}\n",
    "\n",
    "test.main(null);\n"
   ]
  },
  {
   "cell_type": "markdown",
   "metadata": {},
   "source": [
    "Hack 3: (0.25) Create a class of your choosing that has multiple parameters of different types (int, boolean, String, double) and put 5 data values in that list. Show that you can access the information by giving some samples."
   ]
  },
  {
   "cell_type": "code",
   "execution_count": 117,
   "metadata": {},
   "outputs": [
    {
     "name": "stdout",
     "output_type": "stream",
     "text": [
      "1969\n",
      "Tesla\n",
      "20000.0\n"
     ]
    }
   ],
   "source": [
    "public class Car {\n",
    "\n",
    "    private int year;\n",
    "    private double price;\n",
    "    private String brand;\n",
    "\n",
    "    public Car(int year, double price, String brand) {\n",
    "        this.year = year;\n",
    "        this.price = price;\n",
    "        this.brand = brand;\n",
    "    }\n",
    "\n",
    "    public static void main(String[] args) {\n",
    "        Car car1 = new Car(1969, 50000, \"Mustang\");\n",
    "        Car car2 = new Car(2000, 85000, \"Tesla\");\n",
    "        Car car3 = new Car(1935, 65000, \"Ford\");\n",
    "        Car car4 = new Car(2011, 100000, \"Dodge\");\n",
    "        Car car5 = new Car(1988, 20000, \"Honda\");\n",
    "\n",
    "        System.out.println(car1.year); \n",
    "        System.out.println(car2.brand); \n",
    "        System.out.println(car5.price); \n",
    "    }\n",
    "}\n",
    "\n",
    "Car.main(null);\n"
   ]
  },
  {
   "cell_type": "markdown",
   "metadata": {},
   "source": [
    "Hack 4: (0.25) Using your preliminary knowledge of loops, use a for loop to iterate through a person’s first and last name, separated by a space, and create methods to call a person’s first name and a person’s last name by iterating through the string."
   ]
  },
  {
   "cell_type": "code",
   "execution_count": 139,
   "metadata": {},
   "outputs": [
    {
     "name": "stdout",
     "output_type": "stream",
     "text": [
      "Enter your full name\n",
      "Your first name is: \n",
      "Vivian\n",
      "Your last name is: \n",
      "Ni\n"
     ]
    }
   ],
   "source": [
    "import java.util.Scanner;\n",
    "\n",
    "public class Name {\n",
    "\n",
    "    public String getFullName() {\n",
    "        Scanner fullNameScanner = new Scanner(System.in);\n",
    "        String name = fullNameScanner.nextLine();\n",
    "        return name;\n",
    "    }\n",
    "\n",
    "    public void firstName(String name) {\n",
    "        System.out.println(\"Your first name is: \");\n",
    "        int i = 0;\n",
    "        while (i < name.length() && name.charAt(i) != ' ') {  \n",
    "            System.out.print(name.charAt(i));\n",
    "            i++;\n",
    "        }\n",
    "        System.out.println();\n",
    "    }\n",
    "\n",
    "    public void lastName(String name) {\n",
    "        System.out.println(\"Your last name is: \");\n",
    "\n",
    "        //stores the index of the ' ' in nameSeparator\n",
    "        int nameSeparator = name.lastIndexOf(' ');\n",
    "\n",
    "        // -1 means no space is found\n",
    "        if (nameSeparator != -1) {\n",
    "            // nameSeparator + 1 because I want it to print everything after the space\n",
    "            for (int i = nameSeparator + 1; i < name.length(); i++){\n",
    "                System.out.print(name.charAt(i));\n",
    "            }\n",
    "        }\n",
    "        System.out.println();\n",
    "        \n",
    "    }\n",
    "\n",
    "    public static void main(String[] args) {\n",
    "        Name newName = new Name();\n",
    "        System.out.println(\"Enter your full name\");\n",
    "        String fullName = newName.getFullName();\n",
    "        newName.firstName(fullName);\n",
    "        newName.lastName(fullName);\n",
    "    }\n",
    "}\n",
    "\n",
    "Name.main(null);"
   ]
  }
 ],
 "metadata": {
  "kernelspec": {
   "display_name": "Java",
   "language": "java",
   "name": "java"
  },
  "language_info": {
   "codemirror_mode": "java",
   "file_extension": ".jshell",
   "mimetype": "text/x-java-source",
   "name": "java",
   "pygments_lexer": "java",
   "version": "20.0.2+9-78"
  },
  "orig_nbformat": 4
 },
 "nbformat": 4,
 "nbformat_minor": 2
}
